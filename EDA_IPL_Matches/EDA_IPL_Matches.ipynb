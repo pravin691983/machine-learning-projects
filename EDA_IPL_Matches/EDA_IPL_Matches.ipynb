{
 "cells": [
  {
   "cell_type": "markdown",
   "metadata": {},
   "source": [
    "<img src=\"IPL_Logo.png\" width=\"240\" height=\"360\" />\n",
    "\n",
    "## Exploratory Data Analysis of Indian Premier League Matches"
   ]
  },
  {
   "cell_type": "markdown",
   "metadata": {},
   "source": [
    "## Table of Contents\n",
    "\n",
    "1. [Problem Statement](#section1)<br>\n",
    "2. [Data Loading and Description](#section2)\n",
    "3. [Data Profiling](#section3)\n",
    "    - 3.1 [Understanding the Dataset](#section301)<br/>\n",
    "    - 3.2 [Pre Profiling](#section302)<br/>\n",
    "    - 3.3 [Preprocessing](#section303)<br/>\n",
    "    - 3.4 [Post Profiling](#section304)<br/>\n",
    "4. [Questions](#section4)\n",
    "    - 4.1 [Which season had most number of matches?](#section401)<br/>\n",
    "    - 4.2 [Top five city that have hosted the most number of matches?](#section402)<br/>\n",
    "    - 4.3 [Maximum Toss Winners](#section403)<br/>\n",
    "    - 4.4 [Has Toss-winning helped in Match-winning?](#section404)<br/>\n",
    "    - 4.5 [Toss Decisions across seasons](#section405)<br/>\n",
    "    - 4.6 [Which team won by max runs and the best defending team?](#section406)<br/>\n",
    "    - 4.7 [Which team won by max wickets and best chasing team?](#section407)<br/>\n",
    "    - 4.8 [In which city does Weather affected matches?](#section408)<br/>\n",
    "    - 4.9 [Which is the best chasing venues to win match in IPL?](#section409)<br/>\n",
    "    - 4.10 [Which is the best defending venues to win match in IPL?](#section410)<br/>\n",
    "    - 4.11 [Who is the favourite Umpires?](#section411)<br/>\n",
    "    - 4.12 [Which team won maximum matches?](#section412)<br/>\n",
    "    - 4.13 [Which player got maximum times Player of the match in IPL?](#section412)<br/>\n",
    "5. [Conclusions](#section5)<br/> "
   ]
  },
  {
   "cell_type": "markdown",
   "metadata": {},
   "source": [
    "<a id=section1></a>"
   ]
  },
  {
   "cell_type": "markdown",
   "metadata": {},
   "source": [
    "### 1. Problem Statement"
   ]
  },
  {
   "cell_type": "markdown",
   "metadata": {},
   "source": [
    "#### Some Background Information\n",
    "The Indian Premier League (IPL) is a Twenty20 cricket league tournament held in India contested during April and May of every year where top players from all over the world take part. The IPL is the most-attended cricket league in the world and ranks sixth among all sports leagues."
   ]
  },
  {
   "cell_type": "markdown",
   "metadata": {},
   "source": [
    "The team has got some world class players but has not been able to live up to the expectations of their supporters. Their poor show in IPL has left everyone disappointed. \n",
    "\n",
    "__I wanted to analyze__\n",
    "- The reason behind their performance and suggest any recommendation for future auctions and player choices.\n",
    "- Predicting the winner of the next season of IPL based on past data, Visualizations, Perspectives, etc.\n",
    "\n",
    "The notebook contains:\n",
    "- Basic Analysis like Teams with maximum matches, wins,etc\n"
   ]
  },
  {
   "cell_type": "markdown",
   "metadata": {},
   "source": [
    "<a id=section2></a>"
   ]
  },
  {
   "cell_type": "markdown",
   "metadata": {},
   "source": [
    "### 2. Data Loading and Description"
   ]
  },
  {
   "cell_type": "markdown",
   "metadata": {},
   "source": [
    "- The dataset contains details information related to the matches such as location, contesting teams, umpires, results, etc. between 2008 and 2018.\n",
    "- The dataset comprises of __696 observations of 18 columns__. Below is a table showing names of all the columns and their description."
   ]
  },
  {
   "cell_type": "markdown",
   "metadata": {},
   "source": [
    "| Column Name        | Description                                      |\n",
    "| ------------------ |:-------------                                   :| \n",
    "| id                 | Identity of match                              | \n",
    "| season             | Season                                         |  \n",
    "| city               | City in which match played                     | \n",
    "| date               | Date on which match played                     |   \n",
    "| team1              | Name of Team One                               |\n",
    "| team2              | Name of Team Two                               |\n",
    "| toss_winner        | Name of team who won toss                      |\n",
    "| toss_decision      | Toss decision                                  | \n",
    "| result             | Result of match                                |\n",
    "| dl_applied         | Is dl rule applied                             |\n",
    "| winner             | Name of winner team                            |\n",
    "| win_by_runs        | Win by runs                                    |\n",
    "| win_by_wickets     | Win by wickets                                 |\n",
    "| player_of_match    | Name of player who received Player of match award                                                                       |\n",
    "| venue              | Venue of match                                 |\n",
    "| umpire1            | Name of umpire one                             |\n",
    "| umpire2            | Name of umpire two                             |\n",
    "| umpire3            | Name of third umpire                           |"
   ]
  },
  {
   "cell_type": "markdown",
   "metadata": {},
   "source": [
    "#### Source :\n",
    "https://github.com/insaid2018/Term1/blob/master/Data/Projects/matches.csv\n"
   ]
  },
  {
   "cell_type": "markdown",
   "metadata": {},
   "source": [
    "#### Importing packages                                          "
   ]
  },
  {
   "cell_type": "code",
   "execution_count": null,
   "metadata": {},
   "outputs": [],
   "source": [
    "import numpy as np                                                 # Implemennts milti-dimensional array and matrices\n",
    "import pandas as pd                                                # For data manipulation and analysis\n",
    "import pandas_profiling\n",
    "import matplotlib.pyplot as plt                                    # Plotting library for Python programming language and it's numerical mathematics extension NumPy\n",
    "import seaborn as sns                                              # Provides a high level interface for drawing attractive and informative statistical graphics\n",
    "\n",
    "%matplotlib inline\n",
    "sns.set()\n",
    "\n",
    "from subprocess import check_output\n",
    "\n"
   ]
  },
  {
   "cell_type": "markdown",
   "metadata": {},
   "source": [
    "#### Importing the Dataset"
   ]
  },
  {
   "cell_type": "code",
   "execution_count": null,
   "metadata": {},
   "outputs": [],
   "source": [
    "matches_data = pd.read_csv(\"https://raw.githubusercontent.com/insaid2018/Term-1/master/Data/Projects/matches.csv\")     # Importing training dataset using pd.read_csv"
   ]
  },
  {
   "cell_type": "markdown",
   "metadata": {},
   "source": [
    "<a id=section3></a>"
   ]
  },
  {
   "cell_type": "markdown",
   "metadata": {},
   "source": [
    "## 3. Data Profiling"
   ]
  },
  {
   "cell_type": "markdown",
   "metadata": {},
   "source": [
    "- In the upcoming sections we will first __understand our dataset__ using various pandas functionalities.\n",
    "- Then with the help of __pandas profiling__ we will find which columns of our dataset need preprocessing.\n",
    "- In __preprocessing__ we will deal with erronous and missing values of columns. \n",
    "- Again we will do __pandas profiling__ to see how preprocessing have transformed our dataset."
   ]
  },
  {
   "cell_type": "markdown",
   "metadata": {},
   "source": [
    "<a id=section301></a>"
   ]
  },
  {
   "cell_type": "markdown",
   "metadata": {},
   "source": [
    "### 3.1 Understanding the Dataset"
   ]
  },
  {
   "cell_type": "markdown",
   "metadata": {},
   "source": [
    "To gain insights from data we must look into each aspect of it very carefully. We will start with observing few rows and columns of data both from the starting and from the end.\n",
    "\n",
    "Let us check the basic information of the dataset. The very basic information to know is the dimension of the dataset – rows and columns – that’s what we find out with the method __shape__."
   ]
  },
  {
   "cell_type": "code",
   "execution_count": null,
   "metadata": {},
   "outputs": [],
   "source": [
    "matches_data.shape"
   ]
  },
  {
   "cell_type": "markdown",
   "metadata": {},
   "source": [
    "matches_data has __696 rows and 18 columns.__"
   ]
  },
  {
   "cell_type": "code",
   "execution_count": null,
   "metadata": {},
   "outputs": [],
   "source": [
    "matches_data.columns"
   ]
  },
  {
   "cell_type": "code",
   "execution_count": null,
   "metadata": {},
   "outputs": [],
   "source": [
    "matches_data.head()"
   ]
  },
  {
   "cell_type": "code",
   "execution_count": null,
   "metadata": {},
   "outputs": [],
   "source": [
    "matches_data.tail()"
   ]
  },
  {
   "cell_type": "code",
   "execution_count": null,
   "metadata": {},
   "outputs": [],
   "source": [
    "matches_data.info()"
   ]
  },
  {
   "cell_type": "code",
   "execution_count": null,
   "metadata": {
    "scrolled": true
   },
   "outputs": [],
   "source": [
    "matches_data.describe(include='all')"
   ]
  },
  {
   "cell_type": "code",
   "execution_count": null,
   "metadata": {},
   "outputs": [],
   "source": [
    "matches_data.isnull().sum()"
   ]
  },
  {
   "cell_type": "code",
   "execution_count": null,
   "metadata": {},
   "outputs": [],
   "source": [
    "matches_data.count()"
   ]
  },
  {
   "cell_type": "markdown",
   "metadata": {},
   "source": [
    "<a id=section302></a>"
   ]
  },
  {
   "cell_type": "markdown",
   "metadata": {},
   "source": [
    "### 3.2 Pre Profiling"
   ]
  },
  {
   "cell_type": "markdown",
   "metadata": {},
   "source": [
    "- By pandas profiling, an __interactive HTML report__ gets generated which contins all the information about the columns of the dataset, like the __counts and type__ of each _column_. Detailed information about each column, __correlation between different columns__ and a sample of dataset.<br/>\n",
    "- It gives us __visual interpretation__ of each column in the data.\n",
    "- _Spread of the data_ can be better understood by the distribution plot. \n",
    "- _Grannular level_ analysis of each column."
   ]
  },
  {
   "cell_type": "code",
   "execution_count": null,
   "metadata": {},
   "outputs": [],
   "source": [
    "profile = pandas_profiling.ProfileReport(matches_data)\n",
    "profile.to_file(outputfile=\"matches_data_before_preprocessing.html\")"
   ]
  },
  {
   "cell_type": "markdown",
   "metadata": {},
   "source": [
    "Here, we have done Pandas Profiling before preprocessing our dataset, so we have named the html file as __matches_data_before_preprocessing.html__. Take a look at the file and see what useful insight you can develop from it. <br/>\n",
    "Now we will process our data to better understand it."
   ]
  },
  {
   "cell_type": "markdown",
   "metadata": {},
   "source": [
    "<a id=section303></a>"
   ]
  },
  {
   "cell_type": "markdown",
   "metadata": {},
   "source": [
    "### 3.3 Preprocessing"
   ]
  },
  {
   "cell_type": "markdown",
   "metadata": {},
   "source": [
    "- Dealing with missing values<br/>\n",
    "    - Replacing missing entry of the __city__ using __venue__ information.\n",
    "    - Dropping the column __umpire3__ as it has to many __null__ values.\n",
    "    - Neutralise/ Standardise values of __date__ column in __YYYY-MM-DD__ format, as values in column has two different format “YYYY-MM-DD” and “DD/MM/YY”.\n",
    "    - Find and validate missing values of winner & player of match column.\n",
    "    - Neutralise/ Standardise values of __id__ column and remove duplicate records from data set \n",
    "    - Replacing incorrect & multiple entry of the Pune team."
   ]
  },
  {
   "cell_type": "code",
   "execution_count": null,
   "metadata": {},
   "outputs": [],
   "source": [
    "# Filter missing entry of the city\n",
    "missing_city_data_set = matches_data.loc[matches_data.city.isnull(), ]\n",
    "\n",
    "# print for observation\n",
    "print(\"Missing entries for city : {} \".format(missing_city_data_set.city.size))\n",
    "print(\"Venues names are : {} \".format(missing_city_data_set.venue.unique().sum()))\n",
    "\n",
    "# print data set which give insight for missing value of city & venue\n",
    "missing_city_data_set\n",
    "\n"
   ]
  },
  {
   "cell_type": "markdown",
   "metadata": {},
   "source": [
    "There are __7__ missing entry of city and since all same rows have same venue i.e. \"Dubai International Cricket Stadium\", which mean match was played in Dubai city. So we can replace missing entry for city with \"Dubai\".\n",
    "\n",
    "Let's replace missing entry of the city with \"Dubai\"."
   ]
  },
  {
   "cell_type": "code",
   "execution_count": null,
   "metadata": {},
   "outputs": [],
   "source": [
    "matches_data.city.fillna('Dubai', inplace = True)"
   ]
  },
  {
   "cell_type": "markdown",
   "metadata": {},
   "source": [
    "Let's drop the column umpire3 as it has to many null values."
   ]
  },
  {
   "cell_type": "code",
   "execution_count": null,
   "metadata": {},
   "outputs": [],
   "source": [
    "matches_data.drop('umpire3', axis = 1, inplace = True)\n"
   ]
  },
  {
   "cell_type": "markdown",
   "metadata": {},
   "source": [
    "Neutralise/ Standardise values of date column in YYYY-MM-DD format, as values in column has two different format “YYYY-MM-DD” and “DD/MM/YY”."
   ]
  },
  {
   "cell_type": "code",
   "execution_count": null,
   "metadata": {},
   "outputs": [],
   "source": [
    "matches_data.date.unique()"
   ]
  },
  {
   "cell_type": "code",
   "execution_count": null,
   "metadata": {},
   "outputs": [],
   "source": [
    "# Apply unique date format to value of dates columns\n",
    "matches_data['date'] = matches_data.date.apply(lambda x: pd.to_datetime(x).strftime('%Y-%m-%d'))\n",
    "\n",
    "# Check unique value again\n",
    "matches_data.date.unique()"
   ]
  },
  {
   "cell_type": "markdown",
   "metadata": {},
   "source": [
    "Find and validate missing values of winner & player of match column."
   ]
  },
  {
   "cell_type": "code",
   "execution_count": null,
   "metadata": {},
   "outputs": [],
   "source": [
    "matches_data.loc[matches_data.winner.isnull() & matches_data.umpire3.isnull(), ]\n"
   ]
  },
  {
   "cell_type": "code",
   "execution_count": null,
   "metadata": {},
   "outputs": [],
   "source": [
    "# Get all record of winner & player column\n",
    "matches_data[\n",
    "    matches_data.winner.isnull() & \n",
    "    matches_data.player_of_match.isnull()\n",
    "]\n",
    "\n",
    "set(matches_data.winner).intersection(set(matches_data.player_of_match))"
   ]
  },
  {
   "cell_type": "markdown",
   "metadata": {},
   "source": [
    "There are 3 records have missing value for winner & player of match. Considering value of __result__ column for above records, it's seem like those matches has been cancel or draw. \n",
    "\n",
    "Let's replace missing value of winner & player of match with some meaning full text, i.e. \"draw\"."
   ]
  },
  {
   "cell_type": "code",
   "execution_count": null,
   "metadata": {},
   "outputs": [],
   "source": [
    "# Replace missing value with some meaning full text.\n",
    "matches_data.winner.fillna('draw', inplace=True)\n",
    "matches_data.player_of_match.fillna('draw', inplace=True)"
   ]
  },
  {
   "cell_type": "markdown",
   "metadata": {},
   "source": [
    "Neutralise/ Standardise values of id column and remove duplicate records from data set"
   ]
  },
  {
   "cell_type": "code",
   "execution_count": null,
   "metadata": {},
   "outputs": [],
   "source": [
    "matches_data.drop_duplicates(subset=['id'])\n",
    "matches_data.shape"
   ]
  },
  {
   "cell_type": "code",
   "execution_count": null,
   "metadata": {},
   "outputs": [],
   "source": [
    "matches_data.isnull().sum()"
   ]
  },
  {
   "cell_type": "code",
   "execution_count": null,
   "metadata": {},
   "outputs": [],
   "source": [
    "matches_data[matches_data.umpire1.isnull()]"
   ]
  },
  {
   "cell_type": "code",
   "execution_count": null,
   "metadata": {},
   "outputs": [],
   "source": [
    "matches_data.umpire1.fillna('Unknown', inplace = True)\n",
    "matches_data.umpire2.fillna('Unknown', inplace = True)"
   ]
  },
  {
   "cell_type": "markdown",
   "metadata": {},
   "source": [
    "Replacing incorrect & multiple entry of the Pune team name in team1, team2, toss_winner and winner column"
   ]
  },
  {
   "cell_type": "code",
   "execution_count": null,
   "metadata": {},
   "outputs": [],
   "source": [
    "incorrect_names = ['rising pune supergiant', 'pune warriors']\n",
    "pune_team_name = 'Rising Pune Supergiants'\n",
    "\n",
    "for (row, col) in matches_data.iterrows():\n",
    "     \n",
    "    if str.lower(col.team1) in incorrect_names:\n",
    "        matches_data['team1'].replace(to_replace=col.team1, value=pune_team_name, inplace=True)\n",
    "    \n",
    "    if str.lower(col.team2) in incorrect_names:\n",
    "        matches_data['team2'].replace(to_replace=col.team2, value=pune_team_name, inplace=True)\n",
    "    \n",
    "    if str.lower(col.winner) in incorrect_names:\n",
    "        matches_data['winner'].replace(to_replace=col.winner, value=pune_team_name, inplace=True)\n",
    "    \n",
    "    if str.lower(col.toss_winner) in incorrect_names:    \n",
    "        matches_data['toss_winner'].replace(to_replace=col.toss_winner, value=pune_team_name, inplace=True)\n",
    "    \n",
    "matches_data.team1.unique()\n"
   ]
  },
  {
   "cell_type": "code",
   "execution_count": null,
   "metadata": {},
   "outputs": [],
   "source": [
    "matches_data.count()"
   ]
  },
  {
   "cell_type": "markdown",
   "metadata": {},
   "source": [
    "<a id=section304></a>"
   ]
  },
  {
   "cell_type": "markdown",
   "metadata": {},
   "source": [
    "### 3.4 Post Pandas Profiling"
   ]
  },
  {
   "cell_type": "code",
   "execution_count": null,
   "metadata": {},
   "outputs": [],
   "source": [
    "#import pandas_profiling\n",
    "profile = pandas_profiling.ProfileReport(matches_data)\n",
    "profile.to_file(outputfile=\"matches_data_after_preprocessing.html\")"
   ]
  },
  {
   "cell_type": "markdown",
   "metadata": {},
   "source": [
    "Now we have preprocessed the data, now the dataset doesnot contain missing values. You can compare the two reports, i.e __matches_data_after_preprocessing.html__ and __matches_data_before_preprocessing.html__.<br/>\n",
    "In __matches_data__after_preprocessing.html__ report, observations:\n",
    "- In the Dataset info, Total __Missing(%)__ = __0.0%__ \n",
    "- Number of __variables__ = __13__ "
   ]
  },
  {
   "cell_type": "markdown",
   "metadata": {},
   "source": [
    "<a id=section304></a>"
   ]
  },
  {
   "cell_type": "markdown",
   "metadata": {},
   "source": [
    "__Utils functions__"
   ]
  },
  {
   "cell_type": "code",
   "execution_count": null,
   "metadata": {},
   "outputs": [],
   "source": [
    "class ChartType:\n",
    "    bar_chart = 1\n",
    "    bar_chart_horizontal = 2\n",
    "    line_chart = 3\n",
    "    histogram_chart = 4\n",
    "    stack_chart = 5\n",
    "    scatter_chart = 6\n",
    "    area_chart = 7\n",
    "    pie_chart = 8\n"
   ]
  },
  {
   "cell_type": "code",
   "execution_count": null,
   "metadata": {},
   "outputs": [],
   "source": [
    "def showChart(data, chart_type, xlabel, ylabel, title=None, figsize=None, axis=None):\n",
    "    '''\n",
    "    data : data frame,\n",
    "    xlabel : The label text for x axis.\n",
    "    ylabel : The label text for y axis.\n",
    "    title : The label text for title of chart.\n",
    "    figsize : tuple of integers, optional, default: None\n",
    "    axis : The axis limits to be set. Either none or all of the limits must\n",
    "    be given.\n",
    "    '''\n",
    "    # Set figure size of chart\n",
    "    if figsize != None:\n",
    "        plt.figure(figsize=figsize)\n",
    "\n",
    "    # Set x & y axis limit\n",
    "    if axis != None:\n",
    "        plt.axis(axis) \n",
    "\n",
    "    # Draw bar chart\n",
    "    if ChartType.bar_chart == chart_type:\n",
    "        data.plot.bar()\n",
    "    elif ChartType.bar_chart_horizontal == chart_type:\n",
    "        data.plot.barh()\n",
    "    elif ChartType.stack_chart == chart_type:\n",
    "        data.plot.bar(stacked=True)\n",
    "    elif ChartType.line_chart == chart_type:\n",
    "        data.plot.line()\n",
    "    elif ChartType.histogram_chart == chart_type:\n",
    "        data.plot.hist()\n",
    "    elif ChartType.scatter_chart == chart_type:\n",
    "        data.plot.area()\n",
    "    elif ChartType.area_chart == chart_type:\n",
    "        data.plot.area()\n",
    "    elif ChartType.pie_chart == chart_type:\n",
    "        plt.pie(data.values,\n",
    "                       labels=data.index,\n",
    "                       autopct='%1.2f', startangle=90)\n",
    "        \n",
    "#         explode = (0.2, 0, 0, 0, 0, 0)\n",
    "#         plt.explode = explode\n",
    "#         plt.autopct='%1.1f%%'\n",
    "        plt.legend(data.index, loc=\"best\")\n",
    "        plt.axis('equal')\n",
    "#         plt.pctdistance=1.1\n",
    "#         plt.labeldistance=1.2\n",
    "#         data.plot.pie()\n",
    "        \n",
    "    # Set title of chart, y & x axis\n",
    "    if title != None:\n",
    "        plt.title(title, fontsize=20)\n",
    "        \n",
    "    if xlabel != None:\n",
    "        plt.xlabel(xlabel, fontsize=10)\n",
    "\n",
    "    if ylabel != None:\n",
    "        plt.ylabel(ylabel, fontsize=10)\n",
    "\n",
    "    # Custom ticks for m axis\n",
    "    plt.tick_params(axis='x', colors='black', direction='out', length=5, width=1, labelsize='large')\n",
    "    \n",
    "    # Custom ticks for m axis\n",
    "    plt.tick_params(axis='y', colors='black', direction='in', length=5, width=1, labelsize='large')\n",
    "    \n",
    "    # Show char\n",
    "    plt.show()\n",
    "    "
   ]
  },
  {
   "cell_type": "markdown",
   "metadata": {},
   "source": [
    "<a id=section4></a>"
   ]
  },
  {
   "cell_type": "markdown",
   "metadata": {},
   "source": [
    "### 4. Questions"
   ]
  },
  {
   "cell_type": "markdown",
   "metadata": {},
   "source": [
    "<a id=section401></a>"
   ]
  },
  {
   "cell_type": "markdown",
   "metadata": {},
   "source": [
    "__4.1 Which season had most number of matches?__"
   ]
  },
  {
   "cell_type": "code",
   "execution_count": null,
   "metadata": {},
   "outputs": [],
   "source": [
    "# Get data frame for seasons for number of matches\n",
    "season_df = matches_data.groupby(matches_data.season).season.count().sort_values(ascending=False)\n",
    "\n",
    "# Show information in barchart\n",
    "showChart(season_df, ChartType.bar_chart_horizontal, 'Number of matches', 'Season', None, (12,10), None)\n"
   ]
  },
  {
   "cell_type": "markdown",
   "metadata": {},
   "source": [
    "Let's try to do same analysis using seaborn lib without filter data set."
   ]
  },
  {
   "cell_type": "code",
   "execution_count": null,
   "metadata": {
    "scrolled": true
   },
   "outputs": [],
   "source": [
    "# Show countplot for number of matches per season using data frame\n",
    "sns.countplot(x=matches_data.season, data=matches_data)\n",
    "plt.show()"
   ]
  },
  {
   "cell_type": "markdown",
   "metadata": {},
   "source": [
    "From the season __2011-2013__, we had the most number of matches from other seasons and __2013__ season has the most number of matches"
   ]
  },
  {
   "cell_type": "markdown",
   "metadata": {},
   "source": [
    "<a id=section402></a>"
   ]
  },
  {
   "cell_type": "markdown",
   "metadata": {},
   "source": [
    "__4.2 Top five city that have hosted the most number of matches?__"
   ]
  },
  {
   "cell_type": "code",
   "execution_count": null,
   "metadata": {},
   "outputs": [],
   "source": [
    "# Get data frame of matches played in different city\n",
    "matches_per_city_df = matches_data.groupby([matches_data.city]).city.count().sort_values(ascending=False).head()\n",
    "\n",
    "# Show information in barchart\n",
    "showChart(matches_per_city_df, ChartType.pie_chart, None, None, None, (10,10), None)\n",
    "\n"
   ]
  },
  {
   "cell_type": "markdown",
   "metadata": {},
   "source": [
    "By referring above graph, we can clearly say that, the highest number of matches had been played at __Mumbai__, followed by __Delhi, Kolkata and Bangalore__ in order."
   ]
  },
  {
   "cell_type": "markdown",
   "metadata": {},
   "source": [
    "<a id=section403></a>"
   ]
  },
  {
   "cell_type": "markdown",
   "metadata": {},
   "source": [
    "__4.3 Maximum Toss Winners__"
   ]
  },
  {
   "cell_type": "code",
   "execution_count": null,
   "metadata": {
    "scrolled": true
   },
   "outputs": [],
   "source": [
    "# Show countplot for team wise toss winner using data frame\n",
    "ax = matches_data['toss_winner'].value_counts().plot.bar(width=0.8)\n",
    "for p in ax.patches:\n",
    "    ax.annotate(format(p.get_height()), (p.get_x()+0.15, p.get_height()+1))\n",
    "plt.show()\n"
   ]
  },
  {
   "cell_type": "markdown",
   "metadata": {},
   "source": [
    "By referring above graph, we can clearly say that, __Mumbai Indians__ seem to be very lucky having the highest win in tosses followed by __Kolkata Knight Riders__. __Kochi Tuskers Kerala__ had the lowest wins as they have played the lowest matches also. This does not show the higher chances of winning the toss as the number of matches played by each team is uneven.\n",
    "\n",
    "Let's check, what do various teams opt (batting or fielding) upon winning the toss?"
   ]
  },
  {
   "cell_type": "markdown",
   "metadata": {},
   "source": [
    "<a id=section404></a>"
   ]
  },
  {
   "cell_type": "markdown",
   "metadata": {},
   "source": [
    "__4.4 Has Toss-winning helped in Match-winning?__"
   ]
  },
  {
   "cell_type": "code",
   "execution_count": null,
   "metadata": {},
   "outputs": [],
   "source": [
    "# Get data frame for toss winning\n",
    "toss_winning_df = matches_data.groupby([matches_data.toss_winner, matches_data.winner]).toss_winner.count().sort_values(ascending=False).head(10)\n",
    "\n",
    "# Show information in barchart\n",
    "showChart(toss_winning_df, ChartType.bar_chart_horizontal, 'Number of matches', 'Teams Names', None, (6,8), [0, 55, 0, 1])\n"
   ]
  },
  {
   "cell_type": "code",
   "execution_count": null,
   "metadata": {},
   "outputs": [],
   "source": [
    "# Show piechart to analise toss decision for winning perspective\n",
    "winning_matches_series = matches_data[matches_data['toss_winner'] == matches_data['winner']]\n",
    "toss_winner_slices = [len(winning_matches_series),(577-len(winning_matches_series))]\n",
    "labels = ['yes','no']\n",
    "\n",
    "# Create dataframe from pandas series to draw piechart\n",
    "df = pd.DataFrame(toss_winner_slices, labels)\n",
    "\n",
    "# Show information in barchart\n",
    "showChart(df, ChartType.pie_chart, None, None, None, (5,5), None)"
   ]
  },
  {
   "cell_type": "markdown",
   "metadata": {},
   "source": [
    "Based on analysis on IPL matches data frame, the above piechart indicates,  the match winning probability for toss winning team was about __60%-40%__. Even though probability of winning was high, which does not necessary that a toss winner will be the match winner."
   ]
  },
  {
   "cell_type": "markdown",
   "metadata": {},
   "source": [
    "<a id=section405></a>"
   ]
  },
  {
   "cell_type": "markdown",
   "metadata": {},
   "source": [
    "__4.5 Toss Decisions across seasons__"
   ]
  },
  {
   "cell_type": "code",
   "execution_count": null,
   "metadata": {},
   "outputs": [],
   "source": [
    "# Show countplot to analysis toss decisions by seasons\n",
    "plt.figure(figsize=(14,10))\n",
    "sns.countplot(x='season',hue='toss_decision',data=matches_data)\n",
    "plt.show()"
   ]
  },
  {
   "cell_type": "markdown",
   "metadata": {},
   "source": [
    "The decision for batting or fielding varies largely across the seasons. In some seasons, the probability that toss winners opt for batting is high, while it is not the case in other seasons. In 2016 though, the majority of toss winners opted for batting."
   ]
  },
  {
   "cell_type": "code",
   "execution_count": null,
   "metadata": {},
   "outputs": [],
   "source": [
    "# Show countplot to analysis toss decisions team wise by seasons\n",
    "plt.figure(figsize=(14,10))\n",
    "sns.set_style('whitegrid')\n",
    "t = sns.countplot(x=\"toss_winner\", hue=\"toss_decision\", data=matches_data)\n",
    "plt.xticks(rotation = 90)\n",
    "plt.tight_layout()\n",
    "t.set(ylabel='Number of Matches', xlabel='Team')\n"
   ]
  },
  {
   "cell_type": "markdown",
   "metadata": {},
   "source": [
    "Base on above chart, we can easily partition the teams into two groups, fielding loving and batting loving. __Gujarat Loins__ takes up fielding almost all the time. On the other hand, __Chennai Super Kings__ usually takes up batting. __Mumbai Indians__ has picked up batting and fielding almost equal number of times."
   ]
  },
  {
   "cell_type": "markdown",
   "metadata": {},
   "source": [
    "<a id=section406></a>"
   ]
  },
  {
   "cell_type": "markdown",
   "metadata": {},
   "source": [
    "__4.6 Which team won by max runs and the best defending team?__"
   ]
  },
  {
   "cell_type": "code",
   "execution_count": null,
   "metadata": {
    "scrolled": true
   },
   "outputs": [],
   "source": [
    "# Show swarmplot to analysis team won by max runs and the best defending team\n",
    "plt.figure(figsize=(10,12))\n",
    "sns.swarmplot(x=matches_data.win_by_runs, y=matches_data.winner, data=matches_data)\n",
    "plt.show()\n"
   ]
  },
  {
   "cell_type": "code",
   "execution_count": null,
   "metadata": {},
   "outputs": [],
   "source": [
    "# Get data frame for win by max run\n",
    "win_by_max_run_df = matches_data.sort_values(['win_by_runs'], ascending=[False]).head().groupby(matches_data.winner).winner.count().head()\n",
    "\n",
    "# Show information in barchart\n",
    "showChart(win_by_max_run_df, ChartType.bar_chart_horizontal, 'Frequency', 'Winner Teams Name', None, None, None)\n",
    "\n"
   ]
  },
  {
   "cell_type": "markdown",
   "metadata": {},
   "source": [
    "As we can observe, the __Royal Challengers Bangalore__ (considered a batting heavy side) seems to be winning many matches by a huge margin. __Mumbai Indians and Kolkata Knight Riders__ (both considered balanced sides) show almost similar behaviour with victories distributed quite evenly. \n",
    "\n",
    "Apparently, __Mumbai Indians__ also appears to hold the record for the biggest win by runs and the best defending team.\n"
   ]
  },
  {
   "cell_type": "markdown",
   "metadata": {},
   "source": [
    "<a id=section407></a>"
   ]
  },
  {
   "cell_type": "markdown",
   "metadata": {},
   "source": [
    "__4.7 Which team won by max wickets and best chasing team?__"
   ]
  },
  {
   "cell_type": "code",
   "execution_count": null,
   "metadata": {},
   "outputs": [],
   "source": [
    "# Show swarmplot to analysis team won by max wickets and the best chasing team\n",
    "plt.figure(figsize=(10,12))\n",
    "sns.swarmplot(x=matches_data.win_by_wickets, y=matches_data.winner, data=matches_data)\n",
    "plt.show()\n"
   ]
  },
  {
   "cell_type": "code",
   "execution_count": null,
   "metadata": {},
   "outputs": [],
   "source": [
    "# Get data frame for win by max run\n",
    "win_by_max_wickets_df = matches_data.sort_values(['win_by_wickets'], ascending=False).head(10).groupby(matches_data.winner).winner.count().head(10)\n",
    "\n",
    "# Show information in barchart\n",
    "showChart(win_by_max_wickets_df, ChartType.bar_chart_horizontal, 'Frequency', 'Winner Teams Name', None, None, None)\n",
    "\n"
   ]
  },
  {
   "cell_type": "markdown",
   "metadata": {},
   "source": [
    "Probably we don’t have much to gain from here. No specific trends can be observed.\n",
    "\n",
    "From above swarm plot data, we can say that __Royal Challengers Bangalore__ best chasing team and won three times by maximum wickets taken."
   ]
  },
  {
   "cell_type": "markdown",
   "metadata": {},
   "source": [
    "<a id=section408></a>"
   ]
  },
  {
   "cell_type": "markdown",
   "metadata": {},
   "source": [
    "__4.8 In which city does Weather affected matches?__"
   ]
  },
  {
   "cell_type": "code",
   "execution_count": null,
   "metadata": {},
   "outputs": [],
   "source": [
    "# Show barchart to analysis in which city does Weather affected matches\n",
    "plt.figure(figsize=(14,10))\n",
    "sns.countplot(matches_data.city[matches_data.dl_applied == 1])\n",
    "plt.show()\n"
   ]
  },
  {
   "cell_type": "markdown",
   "metadata": {},
   "source": [
    "After the team batting first has started its innings and there is an interruption due to rain or any other factor, Duckworth-Lewis Method can be applied. This DL algorithm is applied and the target for the team batting second is calculated based on the overs that can be bowled as decided by the umpires and considering above graph we can conclude maximum times Duckworth-Lewis Method have been applied at __Kolkata__. followed by __Delhi and Bangalore__."
   ]
  },
  {
   "cell_type": "markdown",
   "metadata": {},
   "source": [
    "<a id=section409></a>"
   ]
  },
  {
   "cell_type": "markdown",
   "metadata": {},
   "source": [
    "__4.9 Which is the best chasing venues to win match in IPL?__"
   ]
  },
  {
   "cell_type": "code",
   "execution_count": null,
   "metadata": {},
   "outputs": [],
   "source": [
    "plt.figure(figsize=(5,12))\n",
    "sns.swarmplot(x=matches_data.win_by_wickets, y=matches_data.venue, data=matches_data)\n",
    "\n",
    "plt.show()"
   ]
  },
  {
   "cell_type": "markdown",
   "metadata": {},
   "source": [
    "__Eden Gardens__ & __M Chinnaswamy Stadium__ were the best venues for chasing."
   ]
  },
  {
   "cell_type": "markdown",
   "metadata": {},
   "source": [
    "<a id=section410></a>"
   ]
  },
  {
   "cell_type": "markdown",
   "metadata": {},
   "source": [
    "__4.10 Which is the best defending venues to win match in IPL?__"
   ]
  },
  {
   "cell_type": "code",
   "execution_count": null,
   "metadata": {},
   "outputs": [],
   "source": [
    "plt.figure(figsize=(8,12))\n",
    "sns.swarmplot(x=matches_data.win_by_runs, y=matches_data.venue, data=matches_data)\n",
    "\n",
    "plt.show()"
   ]
  },
  {
   "cell_type": "markdown",
   "metadata": {},
   "source": [
    "From above swarm plot, we can say that __MA Chidambaram Stadium, Chepauk__ was the best defending stadium."
   ]
  },
  {
   "cell_type": "markdown",
   "metadata": {},
   "source": [
    "<a id=section411></a>"
   ]
  },
  {
   "cell_type": "markdown",
   "metadata": {},
   "source": [
    "__4.11 Who is the favourite Umpires in IPL?__"
   ]
  },
  {
   "cell_type": "code",
   "execution_count": null,
   "metadata": {
    "scrolled": true
   },
   "outputs": [],
   "source": [
    "ump = pd.concat([matches_data['umpire1'],matches_data['umpire2']]) \n",
    "ax = ump.value_counts().head(10).plot.bar(width=0.8,color='Y')\n",
    "for p in ax.patches:\n",
    "    ax.annotate(format(p.get_height()), (p.get_x()+0.15, p.get_height()+0.25))\n",
    "plt.show()\n"
   ]
  },
  {
   "cell_type": "markdown",
   "metadata": {},
   "source": [
    "From above chart, it's seem like __S Ravi__ had umpired maximum IPL matches."
   ]
  },
  {
   "cell_type": "markdown",
   "metadata": {},
   "source": [
    "<a id=section412></a>"
   ]
  },
  {
   "cell_type": "markdown",
   "metadata": {},
   "source": [
    "__4.12 Which team won maximum matches?__"
   ]
  },
  {
   "cell_type": "code",
   "execution_count": null,
   "metadata": {
    "scrolled": false
   },
   "outputs": [],
   "source": [
    "# Get data frame for player of match\n",
    "winner_df =  matches_data.groupby(matches_data.winner).winner.count().sort_values(ascending=False).head(10)\n",
    "\n",
    "# Show information in barchart\n",
    "showChart(winner_df, ChartType.bar_chart_horizontal, 'Frequency', 'Winner Teams Name', None, None, None)\n"
   ]
  },
  {
   "cell_type": "markdown",
   "metadata": {},
   "source": [
    "By referring above graph, we can clearly say that, __Mumbai Indians__ are clearly the most successful teams followed by __Chennai Super Kings__ and __Kolkata Knight Riders__. __Sunrisers Hyderabad__, __Gujarat Lions__ and __Deccan Chargers__ (which is now defunct) are trailing. But this is because of the lesser number of seasons they have played in. Therefore __Delhi Daredevils__ is the most unsuccessful IPL team."
   ]
  },
  {
   "cell_type": "markdown",
   "metadata": {},
   "source": [
    "<a id=section413></a>"
   ]
  },
  {
   "cell_type": "markdown",
   "metadata": {},
   "source": [
    "__4.13 Which player got maximum times Player of the match in IPL?__"
   ]
  },
  {
   "cell_type": "code",
   "execution_count": null,
   "metadata": {},
   "outputs": [],
   "source": [
    "# Get data frame for seasons for number of matches\n",
    "season_df = matches_data.groupby([matches_data.season, matches_data.player_of_match]).player_of_match.count().sort_values(ascending=False).head()\n",
    "\n",
    "# Show information in barchart\n",
    "showChart(season_df, ChartType.bar_chart_horizontal, 'Number of matches', 'Season', None, (15,10), None)\n"
   ]
  },
  {
   "cell_type": "markdown",
   "metadata": {},
   "source": [
    "__Maximum player of match__"
   ]
  },
  {
   "cell_type": "code",
   "execution_count": null,
   "metadata": {},
   "outputs": [],
   "source": [
    "# Get data frame for player of match\n",
    "player_of_match_df = matches_data.groupby(matches_data.player_of_match).player_of_match.count().sort_values(ascending=False).head()\n",
    "\n",
    "# Show information in barchart\n",
    "showChart(player_of_match_df, ChartType.bar_chart_horizontal, 'Frequency', 'Players Name', None, None, [0, 25, 0, 1])\n",
    "\n",
    "\n"
   ]
  },
  {
   "cell_type": "markdown",
   "metadata": {},
   "source": [
    "In IPL matches, __Chris Gayle__ leads and holds the record for the highest number of awards won, of course, __AB de Villiers__ is also placed second in the list. \n",
    "\n",
    "An old IPL fans will know about Chris Gayle heroics in the first few seasons.\n"
   ]
  },
  {
   "cell_type": "code",
   "execution_count": null,
   "metadata": {},
   "outputs": [],
   "source": [
    "# Used heat map to check co-relation between column\n",
    "cor = matches_data.corr()\n",
    "plt.figure(figsize=(12,10))\n",
    "sns.heatmap(cor, annot=True, cmap='coolwarm')\n",
    "plt.show()\n"
   ]
  },
  {
   "cell_type": "markdown",
   "metadata": {},
   "source": [
    "From the above heatmap diagram, there is a negative corelation between the win by wickets and win by runs, and we know that if one value is zero then other would be a non-zero value."
   ]
  },
  {
   "cell_type": "markdown",
   "metadata": {},
   "source": [
    "<a id=section5></a>"
   ]
  },
  {
   "cell_type": "markdown",
   "metadata": {},
   "source": [
    "## 5. Conclusion \n",
    "\n",
    "- From the season __2011-2013__, we had the most number of matches from other seasons and __2013__ season has the most number of matches.\n",
    "- the highest number of matches had been played at __Mumbai__, followed by __Delhi, Kolkata and Bangalore__ in order.\n",
    "-  __Mumbai Indians__ seem to be very lucky having the highest win in tosses followed by __Kolkata Knight Riders__. __Kochi Tuskers Kerala__ had the lowest wins as they have played the lowest matches also. \n",
    "- The match winning probability for toss winning team was about __60%-40%__. \n",
    "- The decision for batting or fielding varies largely across the seasons. In some seasons, the probability that toss winners opt for __batting is high__, while it is not the case in other seasons. In 2016 though, the majority of toss winners opted for batting.\n",
    "- __Gujarat Loins__ takes up fielding almost all the time. On the other hand, __Chennai Super Kings__ usually takes up batting. __Mumbai Indians__ has picked up batting and fielding almost equal number of times.\n",
    "- __Royal Challengers Bangalore__ (considered a batting heavy side) seems to be winning many matches by a huge margin. __Mumbai Indians and Kolkata Knight Riders__ (both considered balanced sides) show almost similar behaviour with victories distributed quite evenly.  Apparently, __Mumbai Indians__ also appears to hold the record for the biggest win by runs and the best defending team.\n",
    "- __Royal Challengers Bangalore__ best chasing team and won __three__ times by maximum wickets taken.\n",
    "- Maximum times Duckworth-Lewis Method have been applied at __Kolkata__. followed by Delhi and Bangalore.\n",
    "- __S Ravi__ had umpired maximum IPL matches.\n",
    "- __Mumbai Indians__ are clearly the most successful teams followed by __Chennai Super Kings__ and __Kolkata Knight Riders__. __Sunrisers Hyderabad__, __Gujarat Lions__ and __Deccan Chargers__ (which is now defunct) are trailing. But this is because of the lesser number of seasons they have played in. Therefore __Delhi Daredevils__ is the most unsuccessful IPL team.\n",
    "- __Chris Gayle__ leads and holds the record for the highest number of awards won, of course, __AB de Villiers__ is also placed second in the list."
   ]
  },
  {
   "cell_type": "code",
   "execution_count": null,
   "metadata": {},
   "outputs": [],
   "source": []
  }
 ],
 "metadata": {
  "kernelspec": {
   "display_name": "Python 3",
   "language": "python",
   "name": "python3"
  },
  "language_info": {
   "codemirror_mode": {
    "name": "ipython",
    "version": 3
   },
   "file_extension": ".py",
   "mimetype": "text/x-python",
   "name": "python",
   "nbconvert_exporter": "python",
   "pygments_lexer": "ipython3",
   "version": "3.7.1"
  }
 },
 "nbformat": 4,
 "nbformat_minor": 2
}
