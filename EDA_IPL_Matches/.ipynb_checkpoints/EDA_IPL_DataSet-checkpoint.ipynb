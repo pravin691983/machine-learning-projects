{
 "cells": [
  {
   "cell_type": "markdown",
   "metadata": {},
   "source": [
    "\n",
    "\n",
    "## Exploratory Data Analysis of IPL Matches"
   ]
  },
  {
   "cell_type": "markdown",
   "metadata": {},
   "source": [
    "## Table of Contents\n",
    "\n",
    "1. [Problem Statement](#section1)<br>\n",
    "2. [Data Loading and Description](#section2)\n",
    "3. [Data Profiling](#section3)\n",
    "    - 3.1 [Understanding the Dataset](#section301)<br/>\n",
    "    - 3.2 [Pre Profiling](#section302)<br/>\n",
    "    - 3.3 [Preprocessing](#section303)<br/>\n",
    "    - 3.4 [Post Profiling](#section304)<br/>"
   ]
  },
  {
   "cell_type": "markdown",
   "metadata": {},
   "source": [
    "### 1. Problem Statement"
   ]
  },
  {
   "cell_type": "markdown",
   "metadata": {},
   "source": [
    "#### Some Background Information\n",
    "The Indian Premier League (IPL) is a Twenty20 cricket league tournamnet held in India contested during April and May of every year where top players from all over the world take part. The IPL is the most-attended cricket league in the world and ranks sixth among all sports leagues."
   ]
  },
  {
   "cell_type": "markdown",
   "metadata": {},
   "source": [
    "The team has got some world class players but has not been able to live up to the expectations of their supporters. Their poor show in IPL has left everyone disappointed. \n",
    "\n",
    "__I wanted to analyze__\n",
    "- The reason behind their poor performance and suggest any recommendation for future auctions and player choices.\n",
    "- Predicting the winner of the next season of IPL based on past data, Visualizations, Perspectives, etc.\n",
    "\n",
    "The notebook contains:\n",
    "- Basic Analysis like Teams with maximum matches, wins,etc\n",
    "- Batsman Analysis\n",
    "- Bowler Analysis\n"
   ]
  },
  {
   "cell_type": "markdown",
   "metadata": {},
   "source": [
    "<a id=section2></a>"
   ]
  },
  {
   "cell_type": "markdown",
   "metadata": {},
   "source": [
    "### 2. Data Loading and Description"
   ]
  },
  {
   "cell_type": "markdown",
   "metadata": {},
   "source": [
    "- The dataset contains details information related to the matches such as location, contesting teams, umpires, results, etc. between 2008 and 2018.\n",
    "- The dataset comprises of __696 observations of 18 columns__. Below is a table showing names of all the columns and their description."
   ]
  },
  {
   "cell_type": "markdown",
   "metadata": {},
   "source": [
    "| Column Name        | Description                                      |\n",
    "| ------------------ |:-------------                                   :| \n",
    "| id                 | Identity of match                              | \n",
    "| season             | Season                                         |  \n",
    "| city               | City in which match played                     | \n",
    "| date               | Date on which match played                     |   \n",
    "| team1              | Name of Team One                               |\n",
    "| team2              | Name of Team Two                               |\n",
    "| toss_winner        | Name of team who won toss                      |\n",
    "| toss_decision      | Name of team who make decision after won toss  | \n",
    "| result             | Result of match                                |\n",
    "| dl_applied         | Is dl rule applied                             |\n",
    "| winner             | Name of winner team                            |\n",
    "| win_by_runs        | Win by runs                                    |\n",
    "| win_by_wickets     | Win by wickets                                 |\n",
    "| player_of_match    | Player of match                                |\n",
    "| venue              | Venue of match                                 |\n",
    "| umpire1            | Name of umpire one                             |\n",
    "| umpire2            | Name of umpire two                             |\n",
    "| umpire3            | Name of third umpire                           |"
   ]
  },
  {
   "cell_type": "markdown",
   "metadata": {},
   "source": [
    "#### Source :\n",
    "https://github.com/insaid2018/Term1/blob/master/Data/Projects/matches.csv\n"
   ]
  },
  {
   "cell_type": "markdown",
   "metadata": {},
   "source": [
    "#### Importing packages                                          "
   ]
  },
  {
   "cell_type": "code",
   "execution_count": 279,
   "metadata": {},
   "outputs": [],
   "source": [
    "import numpy as np                                                 # Implemennts milti-dimensional array and matrices\n",
    "import pandas as pd                                                # For data manipulation and analysis\n",
    "import pandas_profiling\n",
    "import matplotlib.pyplot as plt                                    # Plotting library for Python programming language and it's numerical mathematics extension NumPy\n",
    "import seaborn as sns                                              # Provides a high level interface for drawing attractive and informative statistical graphics\n",
    "\n",
    "%matplotlib inline\n",
    "sns.set()\n",
    "\n",
    "from subprocess import check_output\n",
    "\n"
   ]
  },
  {
   "cell_type": "markdown",
   "metadata": {},
   "source": [
    "#### Importing the Dataset"
   ]
  },
  {
   "cell_type": "code",
   "execution_count": 280,
   "metadata": {},
   "outputs": [],
   "source": [
    "matches_data = pd.read_csv(\"https://raw.githubusercontent.com/insaid2018/Term-1/master/Data/Projects/matches.csv\")     # Importing training dataset using pd.read_csv"
   ]
  },
  {
   "cell_type": "markdown",
   "metadata": {},
   "source": [
    "<a id=section3></a>"
   ]
  },
  {
   "cell_type": "markdown",
   "metadata": {},
   "source": [
    "## 3. Data Profiling"
   ]
  },
  {
   "cell_type": "markdown",
   "metadata": {},
   "source": [
    "- In the upcoming sections we will first __understand our dataset__ using various pandas functionalities.\n",
    "- Then with the help of __pandas profiling__ we will find which columns of our dataset need preprocessing.\n",
    "- In __preprocessing__ we will deal with erronous and missing values of columns. \n",
    "- Again we will do __pandas profiling__ to see how preprocessing have transformed our dataset."
   ]
  },
  {
   "cell_type": "markdown",
   "metadata": {},
   "source": [
    "<a id=section301></a>"
   ]
  },
  {
   "cell_type": "markdown",
   "metadata": {},
   "source": [
    "### 3.1 Understanding the Dataset"
   ]
  },
  {
   "cell_type": "markdown",
   "metadata": {},
   "source": [
    "To gain insights from data we must look into each aspect of it very carefully. We will start with observing few rows and columns of data both from the starting and from the end.\n",
    "\n",
    "Let us check the basic information of the dataset. The very basic information to know is the dimension of the dataset – rows and columns – that’s what we find out with the method __shape__."
   ]
  },
  {
   "cell_type": "code",
   "execution_count": null,
   "metadata": {},
   "outputs": [],
   "source": [
    "matches_data.shape"
   ]
  },
  {
   "cell_type": "markdown",
   "metadata": {},
   "source": [
    "matches_data has __696 rows and 18 columns.__"
   ]
  },
  {
   "cell_type": "code",
   "execution_count": null,
   "metadata": {},
   "outputs": [],
   "source": [
    "matches_data.columns"
   ]
  },
  {
   "cell_type": "code",
   "execution_count": null,
   "metadata": {},
   "outputs": [],
   "source": [
    "matches_data.head()"
   ]
  },
  {
   "cell_type": "code",
   "execution_count": null,
   "metadata": {},
   "outputs": [],
   "source": [
    "matches_data.tail()"
   ]
  },
  {
   "cell_type": "code",
   "execution_count": null,
   "metadata": {},
   "outputs": [],
   "source": [
    "matches_data.info()"
   ]
  },
  {
   "cell_type": "code",
   "execution_count": 309,
   "metadata": {
    "scrolled": true
   },
   "outputs": [
    {
     "data": {
      "text/html": [
       "<div>\n",
       "<style scoped>\n",
       "    .dataframe tbody tr th:only-of-type {\n",
       "        vertical-align: middle;\n",
       "    }\n",
       "\n",
       "    .dataframe tbody tr th {\n",
       "        vertical-align: top;\n",
       "    }\n",
       "\n",
       "    .dataframe thead th {\n",
       "        text-align: right;\n",
       "    }\n",
       "</style>\n",
       "<table border=\"1\" class=\"dataframe\">\n",
       "  <thead>\n",
       "    <tr style=\"text-align: right;\">\n",
       "      <th></th>\n",
       "      <th>id</th>\n",
       "      <th>season</th>\n",
       "      <th>city</th>\n",
       "      <th>date</th>\n",
       "      <th>team1</th>\n",
       "      <th>team2</th>\n",
       "      <th>toss_winner</th>\n",
       "      <th>toss_decision</th>\n",
       "      <th>result</th>\n",
       "      <th>dl_applied</th>\n",
       "      <th>winner</th>\n",
       "      <th>win_by_runs</th>\n",
       "      <th>win_by_wickets</th>\n",
       "      <th>player_of_match</th>\n",
       "      <th>venue</th>\n",
       "      <th>umpire1</th>\n",
       "      <th>umpire2</th>\n",
       "      <th>umpire3</th>\n",
       "    </tr>\n",
       "  </thead>\n",
       "  <tbody>\n",
       "    <tr>\n",
       "      <th>count</th>\n",
       "      <td>696.000000</td>\n",
       "      <td>696.000000</td>\n",
       "      <td>689</td>\n",
       "      <td>696</td>\n",
       "      <td>696</td>\n",
       "      <td>696</td>\n",
       "      <td>696</td>\n",
       "      <td>696</td>\n",
       "      <td>696</td>\n",
       "      <td>696.000000</td>\n",
       "      <td>693</td>\n",
       "      <td>696.000000</td>\n",
       "      <td>696.000000</td>\n",
       "      <td>693</td>\n",
       "      <td>696</td>\n",
       "      <td>695</td>\n",
       "      <td>695</td>\n",
       "      <td>60</td>\n",
       "    </tr>\n",
       "    <tr>\n",
       "      <th>unique</th>\n",
       "      <td>NaN</td>\n",
       "      <td>NaN</td>\n",
       "      <td>32</td>\n",
       "      <td>498</td>\n",
       "      <td>14</td>\n",
       "      <td>14</td>\n",
       "      <td>14</td>\n",
       "      <td>2</td>\n",
       "      <td>3</td>\n",
       "      <td>NaN</td>\n",
       "      <td>14</td>\n",
       "      <td>NaN</td>\n",
       "      <td>NaN</td>\n",
       "      <td>214</td>\n",
       "      <td>35</td>\n",
       "      <td>55</td>\n",
       "      <td>58</td>\n",
       "      <td>18</td>\n",
       "    </tr>\n",
       "    <tr>\n",
       "      <th>top</th>\n",
       "      <td>NaN</td>\n",
       "      <td>NaN</td>\n",
       "      <td>Mumbai</td>\n",
       "      <td>2017-04-08</td>\n",
       "      <td>Mumbai Indians</td>\n",
       "      <td>Royal Challengers Bangalore</td>\n",
       "      <td>Mumbai Indians</td>\n",
       "      <td>field</td>\n",
       "      <td>normal</td>\n",
       "      <td>NaN</td>\n",
       "      <td>Mumbai Indians</td>\n",
       "      <td>NaN</td>\n",
       "      <td>NaN</td>\n",
       "      <td>CH Gayle</td>\n",
       "      <td>M Chinnaswamy Stadium</td>\n",
       "      <td>HDPK Dharmasena</td>\n",
       "      <td>S Ravi</td>\n",
       "      <td>C Shamshuddin</td>\n",
       "    </tr>\n",
       "    <tr>\n",
       "      <th>freq</th>\n",
       "      <td>NaN</td>\n",
       "      <td>NaN</td>\n",
       "      <td>94</td>\n",
       "      <td>2</td>\n",
       "      <td>91</td>\n",
       "      <td>90</td>\n",
       "      <td>90</td>\n",
       "      <td>413</td>\n",
       "      <td>686</td>\n",
       "      <td>NaN</td>\n",
       "      <td>98</td>\n",
       "      <td>NaN</td>\n",
       "      <td>NaN</td>\n",
       "      <td>20</td>\n",
       "      <td>73</td>\n",
       "      <td>73</td>\n",
       "      <td>56</td>\n",
       "      <td>6</td>\n",
       "    </tr>\n",
       "    <tr>\n",
       "      <th>mean</th>\n",
       "      <td>974.103448</td>\n",
       "      <td>2012.965517</td>\n",
       "      <td>NaN</td>\n",
       "      <td>NaN</td>\n",
       "      <td>NaN</td>\n",
       "      <td>NaN</td>\n",
       "      <td>NaN</td>\n",
       "      <td>NaN</td>\n",
       "      <td>NaN</td>\n",
       "      <td>0.027299</td>\n",
       "      <td>NaN</td>\n",
       "      <td>13.472701</td>\n",
       "      <td>3.349138</td>\n",
       "      <td>NaN</td>\n",
       "      <td>NaN</td>\n",
       "      <td>NaN</td>\n",
       "      <td>NaN</td>\n",
       "      <td>NaN</td>\n",
       "    </tr>\n",
       "    <tr>\n",
       "      <th>std</th>\n",
       "      <td>2143.239623</td>\n",
       "      <td>3.069266</td>\n",
       "      <td>NaN</td>\n",
       "      <td>NaN</td>\n",
       "      <td>NaN</td>\n",
       "      <td>NaN</td>\n",
       "      <td>NaN</td>\n",
       "      <td>NaN</td>\n",
       "      <td>NaN</td>\n",
       "      <td>0.163070</td>\n",
       "      <td>NaN</td>\n",
       "      <td>23.607994</td>\n",
       "      <td>3.411398</td>\n",
       "      <td>NaN</td>\n",
       "      <td>NaN</td>\n",
       "      <td>NaN</td>\n",
       "      <td>NaN</td>\n",
       "      <td>NaN</td>\n",
       "    </tr>\n",
       "    <tr>\n",
       "      <th>min</th>\n",
       "      <td>1.000000</td>\n",
       "      <td>2008.000000</td>\n",
       "      <td>NaN</td>\n",
       "      <td>NaN</td>\n",
       "      <td>NaN</td>\n",
       "      <td>NaN</td>\n",
       "      <td>NaN</td>\n",
       "      <td>NaN</td>\n",
       "      <td>NaN</td>\n",
       "      <td>0.000000</td>\n",
       "      <td>NaN</td>\n",
       "      <td>0.000000</td>\n",
       "      <td>0.000000</td>\n",
       "      <td>NaN</td>\n",
       "      <td>NaN</td>\n",
       "      <td>NaN</td>\n",
       "      <td>NaN</td>\n",
       "      <td>NaN</td>\n",
       "    </tr>\n",
       "    <tr>\n",
       "      <th>25%</th>\n",
       "      <td>174.750000</td>\n",
       "      <td>2010.000000</td>\n",
       "      <td>NaN</td>\n",
       "      <td>NaN</td>\n",
       "      <td>NaN</td>\n",
       "      <td>NaN</td>\n",
       "      <td>NaN</td>\n",
       "      <td>NaN</td>\n",
       "      <td>NaN</td>\n",
       "      <td>0.000000</td>\n",
       "      <td>NaN</td>\n",
       "      <td>0.000000</td>\n",
       "      <td>0.000000</td>\n",
       "      <td>NaN</td>\n",
       "      <td>NaN</td>\n",
       "      <td>NaN</td>\n",
       "      <td>NaN</td>\n",
       "      <td>NaN</td>\n",
       "    </tr>\n",
       "    <tr>\n",
       "      <th>50%</th>\n",
       "      <td>348.500000</td>\n",
       "      <td>2013.000000</td>\n",
       "      <td>NaN</td>\n",
       "      <td>NaN</td>\n",
       "      <td>NaN</td>\n",
       "      <td>NaN</td>\n",
       "      <td>NaN</td>\n",
       "      <td>NaN</td>\n",
       "      <td>NaN</td>\n",
       "      <td>0.000000</td>\n",
       "      <td>NaN</td>\n",
       "      <td>0.000000</td>\n",
       "      <td>3.000000</td>\n",
       "      <td>NaN</td>\n",
       "      <td>NaN</td>\n",
       "      <td>NaN</td>\n",
       "      <td>NaN</td>\n",
       "      <td>NaN</td>\n",
       "    </tr>\n",
       "    <tr>\n",
       "      <th>75%</th>\n",
       "      <td>522.250000</td>\n",
       "      <td>2016.000000</td>\n",
       "      <td>NaN</td>\n",
       "      <td>NaN</td>\n",
       "      <td>NaN</td>\n",
       "      <td>NaN</td>\n",
       "      <td>NaN</td>\n",
       "      <td>NaN</td>\n",
       "      <td>NaN</td>\n",
       "      <td>0.000000</td>\n",
       "      <td>NaN</td>\n",
       "      <td>19.000000</td>\n",
       "      <td>6.000000</td>\n",
       "      <td>NaN</td>\n",
       "      <td>NaN</td>\n",
       "      <td>NaN</td>\n",
       "      <td>NaN</td>\n",
       "      <td>NaN</td>\n",
       "    </tr>\n",
       "    <tr>\n",
       "      <th>max</th>\n",
       "      <td>7953.000000</td>\n",
       "      <td>2018.000000</td>\n",
       "      <td>NaN</td>\n",
       "      <td>NaN</td>\n",
       "      <td>NaN</td>\n",
       "      <td>NaN</td>\n",
       "      <td>NaN</td>\n",
       "      <td>NaN</td>\n",
       "      <td>NaN</td>\n",
       "      <td>1.000000</td>\n",
       "      <td>NaN</td>\n",
       "      <td>146.000000</td>\n",
       "      <td>10.000000</td>\n",
       "      <td>NaN</td>\n",
       "      <td>NaN</td>\n",
       "      <td>NaN</td>\n",
       "      <td>NaN</td>\n",
       "      <td>NaN</td>\n",
       "    </tr>\n",
       "  </tbody>\n",
       "</table>\n",
       "</div>"
      ],
      "text/plain": [
       "                 id       season    city        date           team1  \\\n",
       "count    696.000000   696.000000     689         696             696   \n",
       "unique          NaN          NaN      32         498              14   \n",
       "top             NaN          NaN  Mumbai  2017-04-08  Mumbai Indians   \n",
       "freq            NaN          NaN      94           2              91   \n",
       "mean     974.103448  2012.965517     NaN         NaN             NaN   \n",
       "std     2143.239623     3.069266     NaN         NaN             NaN   \n",
       "min        1.000000  2008.000000     NaN         NaN             NaN   \n",
       "25%      174.750000  2010.000000     NaN         NaN             NaN   \n",
       "50%      348.500000  2013.000000     NaN         NaN             NaN   \n",
       "75%      522.250000  2016.000000     NaN         NaN             NaN   \n",
       "max     7953.000000  2018.000000     NaN         NaN             NaN   \n",
       "\n",
       "                              team2     toss_winner toss_decision  result  \\\n",
       "count                           696             696           696     696   \n",
       "unique                           14              14             2       3   \n",
       "top     Royal Challengers Bangalore  Mumbai Indians         field  normal   \n",
       "freq                             90              90           413     686   \n",
       "mean                            NaN             NaN           NaN     NaN   \n",
       "std                             NaN             NaN           NaN     NaN   \n",
       "min                             NaN             NaN           NaN     NaN   \n",
       "25%                             NaN             NaN           NaN     NaN   \n",
       "50%                             NaN             NaN           NaN     NaN   \n",
       "75%                             NaN             NaN           NaN     NaN   \n",
       "max                             NaN             NaN           NaN     NaN   \n",
       "\n",
       "        dl_applied          winner  win_by_runs  win_by_wickets  \\\n",
       "count   696.000000             693   696.000000      696.000000   \n",
       "unique         NaN              14          NaN             NaN   \n",
       "top            NaN  Mumbai Indians          NaN             NaN   \n",
       "freq           NaN              98          NaN             NaN   \n",
       "mean      0.027299             NaN    13.472701        3.349138   \n",
       "std       0.163070             NaN    23.607994        3.411398   \n",
       "min       0.000000             NaN     0.000000        0.000000   \n",
       "25%       0.000000             NaN     0.000000        0.000000   \n",
       "50%       0.000000             NaN     0.000000        3.000000   \n",
       "75%       0.000000             NaN    19.000000        6.000000   \n",
       "max       1.000000             NaN   146.000000       10.000000   \n",
       "\n",
       "       player_of_match                  venue          umpire1 umpire2  \\\n",
       "count              693                    696              695     695   \n",
       "unique             214                     35               55      58   \n",
       "top           CH Gayle  M Chinnaswamy Stadium  HDPK Dharmasena  S Ravi   \n",
       "freq                20                     73               73      56   \n",
       "mean               NaN                    NaN              NaN     NaN   \n",
       "std                NaN                    NaN              NaN     NaN   \n",
       "min                NaN                    NaN              NaN     NaN   \n",
       "25%                NaN                    NaN              NaN     NaN   \n",
       "50%                NaN                    NaN              NaN     NaN   \n",
       "75%                NaN                    NaN              NaN     NaN   \n",
       "max                NaN                    NaN              NaN     NaN   \n",
       "\n",
       "              umpire3  \n",
       "count              60  \n",
       "unique             18  \n",
       "top     C Shamshuddin  \n",
       "freq                6  \n",
       "mean              NaN  \n",
       "std               NaN  \n",
       "min               NaN  \n",
       "25%               NaN  \n",
       "50%               NaN  \n",
       "75%               NaN  \n",
       "max               NaN  "
      ]
     },
     "execution_count": 309,
     "metadata": {},
     "output_type": "execute_result"
    }
   ],
   "source": [
    "matches_data.describe(include='all')"
   ]
  },
  {
   "cell_type": "code",
   "execution_count": 281,
   "metadata": {},
   "outputs": [
    {
     "data": {
      "text/plain": [
       "id                   0\n",
       "season               0\n",
       "city                 7\n",
       "date                 0\n",
       "team1                0\n",
       "team2                0\n",
       "toss_winner          0\n",
       "toss_decision        0\n",
       "result               0\n",
       "dl_applied           0\n",
       "winner               3\n",
       "win_by_runs          0\n",
       "win_by_wickets       0\n",
       "player_of_match      3\n",
       "venue                0\n",
       "umpire1              1\n",
       "umpire2              1\n",
       "umpire3            636\n",
       "dtype: int64"
      ]
     },
     "execution_count": 281,
     "metadata": {},
     "output_type": "execute_result"
    }
   ],
   "source": [
    "matches_data.isnull().sum()"
   ]
  },
  {
   "cell_type": "markdown",
   "metadata": {},
   "source": [
    "<a id=section302></a>"
   ]
  },
  {
   "cell_type": "markdown",
   "metadata": {},
   "source": [
    "### 3.2 Pre Profiling"
   ]
  },
  {
   "cell_type": "markdown",
   "metadata": {},
   "source": [
    "- By pandas profiling, an __interactive HTML report__ gets generated which contins all the information about the columns of the dataset, like the __counts and type__ of each _column_. Detailed information about each column, __coorelation between different columns__ and a sample of dataset.<br/>\n",
    "- It gives us __visual interpretation__ of each column in the data.\n",
    "- _Spread of the data_ can be better understood by the distribution plot. \n",
    "- _Grannular level_ analysis of each column."
   ]
  },
  {
   "cell_type": "code",
   "execution_count": null,
   "metadata": {},
   "outputs": [],
   "source": [
    "profile = pandas_profiling.ProfileReport(matches_data)\n",
    "profile.to_file(outputfile=\"matches_data_before_preprocessing.html\")"
   ]
  },
  {
   "cell_type": "markdown",
   "metadata": {},
   "source": [
    "Here, we have done Pandas Profiling before preprocessing our dataset, so we have named the html file as __matches_data_before_preprocessing.html__. Take a look at the file and see what useful insight you can develop from it. <br/>\n",
    "Now we will process our data to better understand it."
   ]
  },
  {
   "cell_type": "markdown",
   "metadata": {},
   "source": [
    "<a id=section303></a>"
   ]
  },
  {
   "cell_type": "markdown",
   "metadata": {},
   "source": [
    "### 3.3 Preprocessing"
   ]
  },
  {
   "cell_type": "markdown",
   "metadata": {},
   "source": [
    "- Dealing with missing values<br/>\n",
    "    - Replacing missing entry of the __city__ using __venue__ information.\n",
    "    - Dropping the column __umpire3__ as it has to many __null__ values.\n",
    "    - Neutralise/ Standardise values of __date__ column in __YYYY-MM-DD__ format, as values in column has two different format “YYYY-MM-DD” and “DD/MM/YY”.\n",
    "    - Find and validate missing values of winner & player of match column.\n",
    "    - Neutralise/ Standardise values of __id__ column "
   ]
  },
  {
   "cell_type": "code",
   "execution_count": null,
   "metadata": {},
   "outputs": [],
   "source": [
    "null_column = matches_data.columns[matches_data.isnull().any()]\n",
    "null_column = null_column.drop('umpire3')\n",
    "matches_data[null_column].isnull().sum()\n",
    "matches_data[null_column].head(10)\n",
    "null_column"
   ]
  },
  {
   "cell_type": "code",
   "execution_count": 289,
   "metadata": {},
   "outputs": [
    {
     "data": {
      "text/html": [
       "<div>\n",
       "<style scoped>\n",
       "    .dataframe tbody tr th:only-of-type {\n",
       "        vertical-align: middle;\n",
       "    }\n",
       "\n",
       "    .dataframe tbody tr th {\n",
       "        vertical-align: top;\n",
       "    }\n",
       "\n",
       "    .dataframe thead th {\n",
       "        text-align: right;\n",
       "    }\n",
       "</style>\n",
       "<table border=\"1\" class=\"dataframe\">\n",
       "  <thead>\n",
       "    <tr style=\"text-align: right;\">\n",
       "      <th></th>\n",
       "      <th>id</th>\n",
       "      <th>season</th>\n",
       "      <th>city</th>\n",
       "      <th>date</th>\n",
       "      <th>team1</th>\n",
       "      <th>team2</th>\n",
       "      <th>toss_winner</th>\n",
       "      <th>toss_decision</th>\n",
       "      <th>result</th>\n",
       "      <th>dl_applied</th>\n",
       "      <th>winner</th>\n",
       "      <th>win_by_runs</th>\n",
       "      <th>win_by_wickets</th>\n",
       "      <th>player_of_match</th>\n",
       "      <th>venue</th>\n",
       "      <th>umpire1</th>\n",
       "      <th>umpire2</th>\n",
       "      <th>umpire3</th>\n",
       "    </tr>\n",
       "  </thead>\n",
       "  <tbody>\n",
       "    <tr>\n",
       "      <th>300</th>\n",
       "      <td>301</td>\n",
       "      <td>2011</td>\n",
       "      <td>Delhi</td>\n",
       "      <td>2011-05-21</td>\n",
       "      <td>Delhi Daredevils</td>\n",
       "      <td>Pune Warriors</td>\n",
       "      <td>Delhi Daredevils</td>\n",
       "      <td>bat</td>\n",
       "      <td>no result</td>\n",
       "      <td>0</td>\n",
       "      <td>NaN</td>\n",
       "      <td>0</td>\n",
       "      <td>0</td>\n",
       "      <td>NaN</td>\n",
       "      <td>Feroz Shah Kotla</td>\n",
       "      <td>SS Hazare</td>\n",
       "      <td>RJ Tucker</td>\n",
       "      <td>NaN</td>\n",
       "    </tr>\n",
       "    <tr>\n",
       "      <th>545</th>\n",
       "      <td>546</td>\n",
       "      <td>2015</td>\n",
       "      <td>Bangalore</td>\n",
       "      <td>2015-04-29</td>\n",
       "      <td>Royal Challengers Bangalore</td>\n",
       "      <td>Rajasthan Royals</td>\n",
       "      <td>Rajasthan Royals</td>\n",
       "      <td>field</td>\n",
       "      <td>no result</td>\n",
       "      <td>0</td>\n",
       "      <td>NaN</td>\n",
       "      <td>0</td>\n",
       "      <td>0</td>\n",
       "      <td>NaN</td>\n",
       "      <td>M Chinnaswamy Stadium</td>\n",
       "      <td>JD Cloete</td>\n",
       "      <td>PG Pathak</td>\n",
       "      <td>NaN</td>\n",
       "    </tr>\n",
       "    <tr>\n",
       "      <th>570</th>\n",
       "      <td>571</td>\n",
       "      <td>2015</td>\n",
       "      <td>Bangalore</td>\n",
       "      <td>2015-05-17</td>\n",
       "      <td>Delhi Daredevils</td>\n",
       "      <td>Royal Challengers Bangalore</td>\n",
       "      <td>Royal Challengers Bangalore</td>\n",
       "      <td>field</td>\n",
       "      <td>no result</td>\n",
       "      <td>0</td>\n",
       "      <td>NaN</td>\n",
       "      <td>0</td>\n",
       "      <td>0</td>\n",
       "      <td>NaN</td>\n",
       "      <td>M Chinnaswamy Stadium</td>\n",
       "      <td>HDPK Dharmasena</td>\n",
       "      <td>K Srinivasan</td>\n",
       "      <td>NaN</td>\n",
       "    </tr>\n",
       "  </tbody>\n",
       "</table>\n",
       "</div>"
      ],
      "text/plain": [
       "      id  season       city        date                        team1  \\\n",
       "300  301    2011      Delhi  2011-05-21             Delhi Daredevils   \n",
       "545  546    2015  Bangalore  2015-04-29  Royal Challengers Bangalore   \n",
       "570  571    2015  Bangalore  2015-05-17             Delhi Daredevils   \n",
       "\n",
       "                           team2                  toss_winner toss_decision  \\\n",
       "300                Pune Warriors             Delhi Daredevils           bat   \n",
       "545             Rajasthan Royals             Rajasthan Royals         field   \n",
       "570  Royal Challengers Bangalore  Royal Challengers Bangalore         field   \n",
       "\n",
       "        result  dl_applied winner  win_by_runs  win_by_wickets  \\\n",
       "300  no result           0    NaN            0               0   \n",
       "545  no result           0    NaN            0               0   \n",
       "570  no result           0    NaN            0               0   \n",
       "\n",
       "    player_of_match                  venue          umpire1       umpire2  \\\n",
       "300             NaN       Feroz Shah Kotla        SS Hazare     RJ Tucker   \n",
       "545             NaN  M Chinnaswamy Stadium        JD Cloete     PG Pathak   \n",
       "570             NaN  M Chinnaswamy Stadium  HDPK Dharmasena  K Srinivasan   \n",
       "\n",
       "    umpire3  \n",
       "300     NaN  \n",
       "545     NaN  \n",
       "570     NaN  "
      ]
     },
     "execution_count": 289,
     "metadata": {},
     "output_type": "execute_result"
    }
   ],
   "source": [
    "matches_data[matches_data.winner.isnull()]"
   ]
  },
  {
   "cell_type": "code",
   "execution_count": 308,
   "metadata": {},
   "outputs": [
    {
     "data": {
      "text/plain": [
       "array(['2017-04-05', '2017-04-06', '2017-04-07', '2017-04-08',\n",
       "       '2017-04-09', '2017-04-10', '2017-04-11', '2017-04-12',\n",
       "       '2017-04-13', '2017-04-14', '2017-04-15', '2017-04-16',\n",
       "       '2017-04-17', '2017-04-18', '2017-04-19', '2017-04-20',\n",
       "       '2017-04-21', '2017-04-22', '2017-04-23', '2017-04-24',\n",
       "       '2017-04-26', '2017-04-27', '2017-04-28', '2017-04-29',\n",
       "       '2017-04-30', '2017-05-01', '2017-05-02', '2017-05-03',\n",
       "       '2017-05-04', '2017-05-05', '2017-05-06', '2017-05-07',\n",
       "       '2017-05-08', '2017-05-09', '2017-05-10', '2017-05-11',\n",
       "       '2017-05-12', '2017-05-13', '2017-05-14', '2017-05-16',\n",
       "       '2017-05-17', '2017-05-19', '2017-05-21', '2008-04-18',\n",
       "       '2008-04-19', '2008-04-20', '2008-04-21', '2008-04-22',\n",
       "       '2008-04-23', '2008-04-24', '2008-04-25', '2008-04-26',\n",
       "       '2008-04-27', '2008-04-28', '2008-04-29', '2008-04-30',\n",
       "       '2008-05-01', '2008-05-02', '2008-05-25', '2008-05-03',\n",
       "       '2008-05-04', '2008-05-05', '2008-05-06', '2008-05-07',\n",
       "       '2008-05-08', '2008-05-09', '2008-05-28', '2008-05-10',\n",
       "       '2008-05-11', '2008-05-12', '2008-05-13', '2008-05-14',\n",
       "       '2008-05-15', '2008-05-16', '2008-05-17', '2008-05-18',\n",
       "       '2008-05-19', '2008-05-20', '2008-05-21', '2008-05-23',\n",
       "       '2008-05-24', '2008-05-26', '2008-05-27', '2008-05-30',\n",
       "       '2008-05-31', '2008-06-01', '2009-04-18', '2009-04-19',\n",
       "       '2009-04-20', '2009-04-21', '2009-04-22', '2009-04-23',\n",
       "       '2009-04-24', '2009-04-25', '2009-04-26', '2009-04-27',\n",
       "       '2009-04-28', '2009-04-29', '2009-04-30', '2009-05-01',\n",
       "       '2009-05-02', '2009-05-03', '2009-05-04', '2009-05-05',\n",
       "       '2009-05-06', '2009-05-07', '2009-05-08', '2009-05-09',\n",
       "       '2009-05-10', '2009-05-11', '2009-05-12', '2009-05-13',\n",
       "       '2009-05-14', '2009-05-15', '2009-05-16', '2009-05-17',\n",
       "       '2009-05-18', '2009-05-19', '2009-05-20', '2009-05-21',\n",
       "       '2009-05-22', '2009-05-23', '2009-05-24', '2010-03-12',\n",
       "       '2010-03-13', '2010-03-14', '2010-03-15', '2010-03-16',\n",
       "       '2010-03-17', '2010-03-18', '2010-03-19', '2010-03-20',\n",
       "       '2010-03-21', '2010-03-22', '2010-03-23', '2010-03-24',\n",
       "       '2010-03-25', '2010-03-26', '2010-03-27', '2010-03-28',\n",
       "       '2010-03-29', '2010-03-30', '2010-03-31', '2010-04-01',\n",
       "       '2010-04-02', '2010-04-03', '2010-04-04', '2010-04-05',\n",
       "       '2010-04-06', '2010-04-07', '2010-04-08', '2010-04-09',\n",
       "       '2010-04-10', '2010-04-11', '2010-04-12', '2010-04-13',\n",
       "       '2010-04-14', '2010-04-15', '2010-04-16', '2010-04-17',\n",
       "       '2010-04-18', '2010-04-19', '2010-04-21', '2010-04-22',\n",
       "       '2010-04-24', '2010-04-25', '2011-04-08', '2011-04-09',\n",
       "       '2011-04-10', '2011-04-11', '2011-04-12', '2011-04-13',\n",
       "       '2011-04-14', '2011-04-15', '2011-04-16', '2011-04-17',\n",
       "       '2011-04-18', '2011-04-19', '2011-04-20', '2011-04-21',\n",
       "       '2011-04-22', '2011-04-23', '2011-04-24', '2011-04-25',\n",
       "       '2011-04-26', '2011-04-27', '2011-04-28', '2011-04-29',\n",
       "       '2011-04-30', '2011-05-01', '2011-05-02', '2011-05-03',\n",
       "       '2011-05-04', '2011-05-05', '2011-05-06', '2011-05-07',\n",
       "       '2011-05-08', '2011-05-09', '2011-05-10', '2011-05-11',\n",
       "       '2011-05-12', '2011-05-13', '2011-05-14', '2011-05-15',\n",
       "       '2011-05-16', '2011-05-17', '2011-05-18', '2011-05-19',\n",
       "       '2011-05-20', '2011-05-21', '2011-05-22', '2011-05-24',\n",
       "       '2011-05-25', '2011-05-27', '2011-05-28', '2012-04-04',\n",
       "       '2012-04-05', '2012-04-06', '2012-04-07', '2012-04-08',\n",
       "       '2012-04-09', '2012-04-10', '2012-04-11', '2012-04-12',\n",
       "       '2012-04-13', '2012-04-19', '2012-04-14', '2012-04-15',\n",
       "       '2012-04-16', '2012-04-17', '2012-04-18', '2012-05-10',\n",
       "       '2012-04-20', '2012-04-21', '2012-04-22', '2012-04-23',\n",
       "       '2012-04-24', '2012-04-25', '2012-04-26', '2012-04-27',\n",
       "       '2012-04-28', '2012-04-29', '2012-04-30', '2012-05-01',\n",
       "       '2012-05-02', '2012-05-03', '2012-05-04', '2012-05-05',\n",
       "       '2012-05-06', '2012-05-07', '2012-05-08', '2012-05-09',\n",
       "       '2012-05-11', '2012-05-12', '2012-05-13', '2012-05-14',\n",
       "       '2012-05-15', '2012-05-16', '2012-05-17', '2012-05-18',\n",
       "       '2012-05-19', '2012-05-20', '2012-05-22', '2012-05-23',\n",
       "       '2012-05-25', '2012-05-27', '2013-04-03', '2013-04-04',\n",
       "       '2013-04-05', '2013-04-06', '2013-04-07', '2013-04-08',\n",
       "       '2013-04-09', '2013-04-10', '2013-04-11', '2013-04-12',\n",
       "       '2013-04-13', '2013-04-14', '2013-04-15', '2013-04-16',\n",
       "       '2013-04-17', '2013-04-18', '2013-04-19', '2013-04-20',\n",
       "       '2013-04-21', '2013-04-22', '2013-04-23', '2013-05-16',\n",
       "       '2013-04-24', '2013-04-25', '2013-04-26', '2013-04-27',\n",
       "       '2013-04-28', '2013-04-29', '2013-04-30', '2013-05-01',\n",
       "       '2013-05-02', '2013-05-03', '2013-05-04', '2013-05-14',\n",
       "       '2013-05-05', '2013-05-07', '2013-05-08', '2013-05-09',\n",
       "       '2013-05-10', '2013-05-11', '2013-05-12', '2013-05-13',\n",
       "       '2013-05-15', '2013-05-06', '2013-05-17', '2013-05-18',\n",
       "       '2013-05-19', '2013-05-21', '2013-05-22', '2013-05-24',\n",
       "       '2013-05-26', '2014-04-16', '2014-04-17', '2014-04-18',\n",
       "       '2014-04-19', '2014-04-20', '2014-04-21', '2014-04-22',\n",
       "       '2014-04-23', '2014-04-24', '2014-04-25', '2014-04-26',\n",
       "       '2014-04-27', '2014-04-28', '2014-04-29', '2014-04-30',\n",
       "       '2014-05-02', '2014-05-03', '2014-05-04', '2014-05-05',\n",
       "       '2014-05-06', '2014-05-07', '2014-05-08', '2014-05-09',\n",
       "       '2014-05-10', '2014-05-11', '2014-05-12', '2014-05-13',\n",
       "       '2014-05-14', '2014-05-15', '2014-05-18', '2014-05-19',\n",
       "       '2014-05-20', '2014-05-21', '2014-05-22', '2014-05-23',\n",
       "       '2014-05-24', '2014-05-25', '2014-05-27', '2014-05-28',\n",
       "       '2014-05-30', '2014-06-01', '2015-04-08', '2015-04-09',\n",
       "       '2015-04-10', '2015-04-11', '2015-04-12', '2015-04-13',\n",
       "       '2015-04-14', '2015-04-30', '2015-04-15', '2015-04-16',\n",
       "       '2015-04-17', '2015-04-18', '2015-04-19', '2015-04-20',\n",
       "       '2015-04-21', '2015-04-22', '2015-04-23', '2015-04-24',\n",
       "       '2015-04-25', '2015-04-26', '2015-04-27', '2015-05-07',\n",
       "       '2015-04-29', '2015-04-28', '2015-05-01', '2015-05-02',\n",
       "       '2015-05-03', '2015-05-04', '2015-05-05', '2015-05-06',\n",
       "       '2015-05-08', '2015-05-09', '2015-05-10', '2015-05-11',\n",
       "       '2015-05-12', '2015-05-13', '2015-05-14', '2015-05-15',\n",
       "       '2015-05-16', '2015-05-17', '2015-05-19', '2015-05-20',\n",
       "       '2015-05-22', '2015-05-24', '2016-04-09', '2016-04-10',\n",
       "       '2016-04-11', '2016-04-12', '2016-04-13', '2016-04-14',\n",
       "       '2016-04-15', '2016-04-16', '2016-04-17', '2016-04-18',\n",
       "       '2016-04-19', '2016-04-20', '2016-04-21', '2016-04-22',\n",
       "       '2016-04-23', '2016-04-24', '2016-04-25', '2016-04-26',\n",
       "       '2016-04-27', '2016-04-28', '2016-04-29', '2016-04-30',\n",
       "       '2016-05-01', '2016-05-02', '2016-05-03', '2016-05-04',\n",
       "       '2016-05-05', '2016-05-06', '2016-05-07', '2016-05-08',\n",
       "       '2016-05-09', '2016-05-10', '2016-05-11', '2016-05-12',\n",
       "       '2016-05-13', '2016-05-14', '2016-05-15', '2016-05-16',\n",
       "       '2016-05-17', '2016-05-18', '2016-05-19', '2016-05-20',\n",
       "       '2016-05-21', '2016-05-22', '2016-05-24', '2016-05-25',\n",
       "       '2016-05-27', '2016-05-29', '07/04/18', '08/04/18', '09/04/18',\n",
       "       '10/04/18', '11/04/18', '12/04/18', '13/04/18', '14/04/18',\n",
       "       '15/04/18', '16/04/18', '17/04/18', '18/04/18', '19/04/18',\n",
       "       '20/04/18', '21/04/18', '22/04/18', '23/04/18', '24/04/18',\n",
       "       '25/04/18', '26/04/18', '27/04/18', '28/04/18', '29/04/18',\n",
       "       '30/04/18', '01/05/18', '02/05/18', '03/05/18', '04/05/18',\n",
       "       '05/05/18', '06/05/18', '07/05/18', '08/05/18', '09/05/18',\n",
       "       '10/05/18', '11/05/18', '12/05/18', '13/05/18', '14/05/18',\n",
       "       '15/05/18', '16/05/18', '17/05/18', '18/05/18', '19/05/18',\n",
       "       '20/05/18', '22/05/18', '23/05/18', '25/05/18', '27/05/18'],\n",
       "      dtype=object)"
      ]
     },
     "execution_count": 308,
     "metadata": {},
     "output_type": "execute_result"
    }
   ],
   "source": [
    "matches_data.date.unique()"
   ]
  },
  {
   "cell_type": "code",
   "execution_count": 288,
   "metadata": {},
   "outputs": [
    {
     "data": {
      "text/plain": [
       "result\n",
       "no result      3\n",
       "normal       686\n",
       "tie            7\n",
       "dtype: int64"
      ]
     },
     "execution_count": 288,
     "metadata": {},
     "output_type": "execute_result"
    }
   ],
   "source": [
    "matches_data.groupby('result').size()"
   ]
  },
  {
   "cell_type": "code",
   "execution_count": null,
   "metadata": {},
   "outputs": [],
   "source": [
    "matches_data.loc[matches_data.winner.isnull() & matches_data.umpire3.isnull(), ]\n"
   ]
  },
  {
   "cell_type": "code",
   "execution_count": null,
   "metadata": {},
   "outputs": [],
   "source": [
    "matches_data['id'].max()"
   ]
  },
  {
   "cell_type": "code",
   "execution_count": null,
   "metadata": {},
   "outputs": [],
   "source": [
    "matches_data['clean_date'] = matches_data.date.apply(lambda x: pd.to_datetime(x).strftime('%d/%m/%Y %H:%M'))\n",
    "matches_data.clean_date.unique()"
   ]
  },
  {
   "cell_type": "code",
   "execution_count": null,
   "metadata": {},
   "outputs": [],
   "source": [
    "matches_data.drop(columns=['date'])"
   ]
  },
  {
   "cell_type": "code",
   "execution_count": null,
   "metadata": {},
   "outputs": [],
   "source": []
  },
  {
   "cell_type": "code",
   "execution_count": null,
   "metadata": {},
   "outputs": [],
   "source": [
    "matches_data.team1.unique()"
   ]
  },
  {
   "cell_type": "code",
   "execution_count": null,
   "metadata": {},
   "outputs": [],
   "source": [
    "print('Total Matches Played:', matches_data.shape[0])\n",
    "print(' \\n Venues Played At:', matches_data['city'].unique())     \n",
    "print(' \\n Teams :', matches_data['team1'].unique())"
   ]
  },
  {
   "cell_type": "code",
   "execution_count": null,
   "metadata": {},
   "outputs": [],
   "source": []
  },
  {
   "cell_type": "markdown",
   "metadata": {},
   "source": [
    "__How many seasons we have got in the dataset__"
   ]
  },
  {
   "cell_type": "code",
   "execution_count": null,
   "metadata": {},
   "outputs": [],
   "source": [
    "season = matches_data['season'].unique()\n",
    "type(season)\n",
    "season.sort()\n",
    "season"
   ]
  },
  {
   "cell_type": "code",
   "execution_count": null,
   "metadata": {},
   "outputs": [],
   "source": [
    "matches_data['season'].unique().sort()\n",
    "season.shape"
   ]
  },
  {
   "cell_type": "code",
   "execution_count": null,
   "metadata": {},
   "outputs": [],
   "source": [
    "number_of_missing_values_city = len(matches_data.city) - matches_data.city.count()\n",
    "number_of_missing_values_city"
   ]
  },
  {
   "cell_type": "code",
   "execution_count": null,
   "metadata": {},
   "outputs": [],
   "source": [
    "number_of_missing_values_umpire3 = len(matches_data.umpire3) - matches_data.umpire3.count()\n",
    "number_of_missing_values_umpire3\n"
   ]
  },
  {
   "cell_type": "code",
   "execution_count": null,
   "metadata": {},
   "outputs": [],
   "source": [
    "matches_data.date.unique()"
   ]
  },
  {
   "cell_type": "markdown",
   "metadata": {},
   "source": [
    "<a id=section304></a>"
   ]
  },
  {
   "cell_type": "markdown",
   "metadata": {},
   "source": [
    "### 3.4 Post Pandas Profiling"
   ]
  },
  {
   "cell_type": "code",
   "execution_count": null,
   "metadata": {},
   "outputs": [],
   "source": [
    "#import pandas_profiling\n",
    "profile = pandas_profiling.ProfileReport(matches_data)\n",
    "profile.to_file(outputfile=\"matches_data_after_preprocessing.html\")"
   ]
  },
  {
   "cell_type": "markdown",
   "metadata": {},
   "source": [
    "Now we have preprocessed the data, now the dataset doesnot contain missing values, we have also introduced new feature named __FamilySize__. So, the pandas profiling report which we have generated after preprocessing will give us more beneficial insights. You can compare the two reports, i.e __matches_data_after_preprocessing.html__ and __matches_data_before_preprocessing.html__.<br/>\n",
    "In __matches_data__after_preprocessing.html__ report, observations:\n",
    "- In the Dataset info, Total __Missing(%)__ = __0.0%__ \n",
    "- Number of __variables__ = __13__ \n",
    "- Observe the newly created variable FamilySize, Click on Toggle details to get more detailed information about it."
   ]
  },
  {
   "cell_type": "code",
   "execution_count": null,
   "metadata": {},
   "outputs": [],
   "source": []
  },
  {
   "cell_type": "code",
   "execution_count": null,
   "metadata": {},
   "outputs": [],
   "source": []
  }
 ],
 "metadata": {
  "kernelspec": {
   "display_name": "Python 3",
   "language": "python",
   "name": "python3"
  },
  "language_info": {
   "codemirror_mode": {
    "name": "ipython",
    "version": 3
   },
   "file_extension": ".py",
   "mimetype": "text/x-python",
   "name": "python",
   "nbconvert_exporter": "python",
   "pygments_lexer": "ipython3",
   "version": "3.7.1"
  }
 },
 "nbformat": 4,
 "nbformat_minor": 2
}
