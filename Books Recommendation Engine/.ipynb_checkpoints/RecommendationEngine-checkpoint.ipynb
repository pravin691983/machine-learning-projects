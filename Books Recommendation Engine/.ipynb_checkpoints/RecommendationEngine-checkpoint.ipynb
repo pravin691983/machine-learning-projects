{
 "cells": [
  {
   "cell_type": "markdown",
   "metadata": {},
   "source": [
    "# <center> <font color = black> Books Recommendation Engine </center>\n",
    "\n",
    "<img src=\"Images/BooksLogo.jpeg\" width=\"1000\" height=\"1000\" />"
   ]
  },
  {
   "cell_type": "markdown",
   "metadata": {},
   "source": [
    "## Table of Contents\n",
    "\n",
    "1. [Problem Statement](#section1)<br>\n",
    "2. [Types of Recommender Systems](#section2)\n",
    "    - 2.1 [CONTENT BASED APPROACH](#section201)<br/>\n",
    "    - 2.2 [COLLABORATIVE FILTERING](#section202)<br/>\n",
    "    - 2.3 [HYBRID MODELS](#section203)<br/>\n",
    "3. [Data Profiling](#section3)\n",
    "    - 3.1 [Understanding the Dataset](#section301)<br/>\n",
    "    - 3.2 [Data Preparation](#section302)<br/>\n",
    "    - 3.3 [Pre Profiling](#section303)<br/>\n",
    "    - 3.4 [Data Exploration](#section304)<br/>\n",
    "4. [Implementation of Recommender Systems](#section4)\n",
    "    - 4.1 [Content-Based Recommendation Model](#section401)<br/>\n",
    "    - 4.2 [Collaborative Filtering Recommendation Model](#section402)<br/>\n",
    "    - 4.3 [Implementation using Surprise](#section403)<br/> \n",
    "5. [Conclusions](#section5)<br/> "
   ]
  },
  {
   "cell_type": "markdown",
   "metadata": {},
   "source": [
    "<a id=section1></a>"
   ]
  },
  {
   "cell_type": "markdown",
   "metadata": {},
   "source": [
    "## 1. Problem Statement"
   ]
  },
  {
   "cell_type": "markdown",
   "metadata": {},
   "source": [
    "We know that presenting product to users with the most relevant users’ needs & preferences is an important task for any company to fulfill. To do this properly, we need to be able to extract their preferences from available raw data\n",
    "\n",
    "Deducing interpretations from available raw data can be tricky, because to succeed we need to:\n",
    "\n",
    "- __Understand what the users’ needs are__: We will typically only have very limited, implicit data of what a user might be interested in. For instance, Netflix needs to infer their users’ preferences of movies based on the movies they have watched previously. The users won’t explicitly tell Netflix what they like.\n",
    "\n",
    "- __Prioritise all matches__: Even if a company like Netflix is able to satisfactorily model user preferences in movies, they still have a big problem: There are more than 50,000 movies out there of which thousands may fit with the user’s preferences. Which movies should Netflix recommend first?\n",
    "\n",
    "\n",
    "A Recommender System employs a statistical algorithm that seeks to predict users' preferences for a particular entity, based on the similarity between the entities or similarity between the users that previously rated those entities. The intuition is that similar types of users are likely to have similar ratings for a set of entities.\n",
    "\n",
    "We will analyse the two datasets in order to get all the informations about the users' preferences and movie to understand what the users’ needs and prioritise all matches. \n",
    "\n",
    "__In the end we will present product to users with the most relevant user’s needs & preferences using machine learning algorithms based on past data, Visualizations, Perspectives, etc.__"
   ]
  },
  {
   "cell_type": "markdown",
   "metadata": {},
   "source": [
    "<a id=section2></a>"
   ]
  },
  {
   "cell_type": "markdown",
   "metadata": {},
   "source": [
    "## 2. Types of Recommender Systems"
   ]
  },
  {
   "cell_type": "markdown",
   "metadata": {},
   "source": [
    "<img src = \"Images\\Recommender_Systems.png\">"
   ]
  },
  {
   "cell_type": "markdown",
   "metadata": {},
   "source": [
    "<a id=section201></a>"
   ]
  },
  {
   "cell_type": "markdown",
   "metadata": {},
   "source": [
    "### 2. 1 CONTENT BASED APPROACH"
   ]
  },
  {
   "cell_type": "markdown",
   "metadata": {},
   "source": [
    "Content based approach utilizes a series of discrete characteristics of an item in order to recommend additional items with similar properties.\n",
    "\n",
    "In content-based filtering, the similarity between different products is calculated on the basis of the attributes of the products. For instance, in a content-based book recommender system, the similarity between the books is calculated on the basis of genres, the author of the book, the publisher of the book, etc.\n",
    "\n",
    "This algorithm recommends products which are similar to the ones that a user has liked in the past.<br><br>\n",
    "\n",
    "__Consider the example of Netflix__ : \n",
    "- They save all the __information related to each user__ in a vector form called __profile vector__. \n",
    "- Profile vector contains the past behaviour of the user, i.e. the movies liked/disliked by the user and the ratings given by them. \n",
    "- All the __information related to movies__ is stored in another vector called __item vector__. \n",
    "- Item vector contais the details of each movies, like genre, cast, director, etc."
   ]
  },
  {
   "cell_type": "markdown",
   "metadata": {},
   "source": [
    "#### HOW TO CREATE PROFILE VECTOR?"
   ]
  },
  {
   "cell_type": "markdown",
   "metadata": {},
   "source": [
    "- Each item will have an item profile\n",
    "- A table structure will list these properties\n",
    "- Comparing what and how many features match and collect scores\n",
    "- Recommend highest scored item\n",
    "- Code will be based on a algorithm, by given some item, the most similar item will be found.\n",
    "- Best scoring match will be provide to the user\n",
    "- This method relies on item features only, and not the user preferences.\n",
    "\n",
    "Instead of recommending books based on specific books that a user has already read, we could also attempt to build profiles of the users’ preferences.This will allow us to gain an aggregate view of the users’ preferences and then recommend content based on their behaviour over time without skewing the recommendations by outliers."
   ]
  },
  {
   "cell_type": "markdown",
   "metadata": {},
   "source": [
    "<img src = \"Images\\content_based.png\">"
   ]
  },
  {
   "cell_type": "markdown",
   "metadata": {},
   "source": [
    "#### RECOMMEDING CONTENT"
   ]
  },
  {
   "cell_type": "markdown",
   "metadata": {},
   "source": [
    "Recommending content involves making a prediction about how likely it is that a user is going to like the recommended content, buy an book or item or watch a movie.\n",
    "\n",
    "There is a large amount of methods and literature available on recommender systems. Popular methods include:\n",
    "- Similarity-based Methods\n",
    "- One-class SVMs\n",
    "- Matrix Factorisation\n",
    "- Supervised Learning\n",
    "- Deep Learning\n",
    "\n",
    "We are going to use a simple similarity-based method called cosine similarity as it is easy to understand, but does a good job at illustrating the fundamental concept of making recommendations."
   ]
  },
  {
   "cell_type": "markdown",
   "metadata": {},
   "source": [
    "#### Encoding your data"
   ]
  },
  {
   "cell_type": "markdown",
   "metadata": {},
   "source": [
    "There are a number of popular encoding schemes but the main ones are:\n",
    "\n",
    "- One-hot encoding\n",
    "- Term frequency–inverse document frequency (TF-IDF) encoding\n",
    "- Word embeddings"
   ]
  },
  {
   "cell_type": "markdown",
   "metadata": {},
   "source": [
    "####  ONE HOT ENCODING "
   ]
  },
  {
   "cell_type": "markdown",
   "metadata": {},
   "source": [
    "Giving categorical data to a computer for processing is like talking to a tree in Mandarin and expecting a reply.<br>\n",
    "- A one hot encoding is a representation of categorical variables as binary vectors\n",
    "- It is first required that the categorical values be mapped to integer values.\n",
    "- Then, each integer value is respresented as a binary vector that is al zero values except the index of the integer, which is marked wit a 1."
   ]
  },
  {
   "cell_type": "markdown",
   "metadata": {},
   "source": [
    "<div class=\"alert alert-block alert-info\">\n",
    "<b>Source:</b> sklearn.preprocessing.OneHotEncoder\n",
    "</div>"
   ]
  },
  {
   "cell_type": "markdown",
   "metadata": {},
   "source": [
    "#### TF-IDF(Term Frequency - Inverse Document Frequency)"
   ]
  },
  {
   "cell_type": "markdown",
   "metadata": {},
   "source": [
    "- <font color = red>TF</font> - It signifies the occurrence of the word in a document.\n",
    "\n",
    "\n",
    "<img src = \"https://raw.githubusercontent.com/insaid2018/Term-4/master/images/tf.PNG\">\n",
    "\n",
    "- <font color = red>IDF</font> - It signifies the rarity of the word as the word occuring in the document.\n",
    "\n",
    "<img src = \"https://raw.githubusercontent.com/insaid2018/Term-4/master/images/idf.PNG\">\n",
    "\n",
    "- <font color = red>TF-IDF</font> - It is a measure used to evaluate how important a word is to a document in a document corpus. The importance of word increases proportionally to the number of times a word appears in the document but is offset by the frequency of the word in the corpus.\n",
    "\n",
    "\n",
    "TF-IDF is used mainly because of two reasons:\n",
    "- Suppose we search for \"the rise of AI\" on Google. It is certain that \"the\" will occur more frequently than \"AI\", but the relative importance of AI is higher.\n",
    "- In such case, TF-IDF weighting negates the effect of high frequency words in determining the importance of an item. "
   ]
  },
  {
   "cell_type": "markdown",
   "metadata": {},
   "source": [
    "- __Concept of TF-IDF__\n",
    "    - TF-IDF stands for Term Frequency times Inverse document frequency. Let’s understand these terms separately. TF stands for Term Frequency. It tells us about how often does the term you are talking about appear in the document? How relevant is it to the document? For e.g. how many times the keyword “The” appeared in the document OR how many times a tag is applied for a book.\n",
    "    - IDF stands for Inverse Document Frequency. It tells us how rare it is for a document to have this term or for a tag to be applied to the book. We calculate it by taking the inverse of how many documents have this tag divided by total number of documents. What it will do is that if a term appears in a large number of documents, it will provide us with a low IDF value. We use log of IDF to bring the value into a useful scale as the total number of documents are very large.\n",
    "    \n",
    "We will then multiply TF and IDF and get a weight. That weight is assigned to the particular search term or tag that we’re talking about. So for very common terms, weight will be very low in value and thus demoting the common terms and promoting the core terms."
   ]
  },
  {
   "cell_type": "markdown",
   "metadata": {},
   "source": [
    "#### COSINE SIMILARITY"
   ]
  },
  {
   "cell_type": "markdown",
   "metadata": {},
   "source": [
    "The content based filtering algorithm finds the cosine of the angle between the profile vector and item vector, i.e. __cosine similarity__.\n",
    "\n",
    "<img src = \"Images\\cosine.png\">\n",
    "\n",
    "Based on the cosine value, which ranges from __-1 to 1__, the books are arranged in __descending order__ and one of the below two approaches is used for recommendations:\n",
    "\n",
    "- __Top-n approach__ : where the top n items are recommended.\n",
    "- __Rating scale approach__ : Where a threshold is set and all the items above that threshold are recommended"
   ]
  },
  {
   "cell_type": "markdown",
   "metadata": {},
   "source": [
    "### PROS AND CONS OF CONTENT BASED APPROACH"
   ]
  },
  {
   "cell_type": "markdown",
   "metadata": {},
   "source": [
    "Pros:\n",
    "- Does not depend upon other users\n",
    "- May recommend new and unpopular items\n",
    "- Recommendations can be easily explained\n",
    "\n",
    "Cons:\n",
    "- Overspecialization\n",
    "- May not recommend to new users\n",
    "- May be difficult to extract attributes from audio, books or images"
   ]
  },
  {
   "cell_type": "markdown",
   "metadata": {},
   "source": [
    "<a id=section202></a>"
   ]
  },
  {
   "cell_type": "markdown",
   "metadata": {},
   "source": [
    "## 2.2 COLLABORATIVE FILTERING"
   ]
  },
  {
   "cell_type": "markdown",
   "metadata": {},
   "source": [
    "Collaborative filtering approach builds a model from a user’s past behaviors (items previously purchased or selected and/or numerical ratings given to those items) as well as similar decisions made by other users. This model is then used to predict items (or ratings for items) that the user may have an interest in.\n",
    "\n",
    "Collaborative filtering, also referred as social filtering, filters information by using the recommendations of other people.\n",
    "- It is based on idea that people who agreed in their evaluation of certain items in the past are likely to agree again in the future.\n",
    "- A person who wants to watch a book for example, might ask for recommendations from others.\n",
    "- This information is used in the decision on which book to see.\n",
    "\n",
    "\n",
    "This technique is commonly used to build personalized recommendations on the Web. Some popular websites that make use of the collabaorative filtering technology include <font color = red>**Amazon**, **Netflix**, **iTunes**, **LastFM**</font>.<br><br>\n",
    "In collaborative filtering, algorithms are used too make automatic predictions about a user's interests by compiling preferences from several users.<br><br>\n"
   ]
  },
  {
   "cell_type": "markdown",
   "metadata": {},
   "source": [
    "<img src = \"Images\\collabrotive_filter.png\">"
   ]
  },
  {
   "cell_type": "markdown",
   "metadata": {},
   "source": [
    "<img src = \"https://raw.githubusercontent.com/insaid2018/Term-4/master/images/reco.gif\">"
   ]
  },
  {
   "cell_type": "markdown",
   "metadata": {},
   "source": [
    "**Types of Collaborative filtering techniques**<br>\n",
    "- <font color = blue> Neighbourhood Base Approach</font>\n",
    "    - User Based\n",
    "    - Item Based\n",
    "    \n",
    "- <font color = blue>Model Based Approach</font>\n",
    "    - Nearest Neighbours\n",
    "    - Matrix Factorization(SVD)\n",
    "   \n",
    "- <font color = blue>Hybrid Models</font>"
   ]
  },
  {
   "cell_type": "markdown",
   "metadata": {},
   "source": [
    "#### NEIGHBOURHOOD BASED APPROACH"
   ]
  },
  {
   "cell_type": "markdown",
   "metadata": {},
   "source": [
    "Recommender systems based on neighborhood automate the common principle of word-of-mouth, where one relies on the opinion of like-minded people or other trusted sources to evaluate the value of an item (movie, book, articles, album, etc.) according to his own preferences."
   ]
  },
  {
   "cell_type": "markdown",
   "metadata": {},
   "source": [
    "<img src = \"https://raw.githubusercontent.com/insaid2018/Term-4/master/images/rec13.png\">"
   ]
  },
  {
   "attachments": {
    "image.png": {
     "image/png": "[encoded data removed]"
    }
   },
   "cell_type": "markdown",
   "metadata": {},
   "source": [
    "In the image below, there are three user rating on five movies.\n",
    "- The rating is from 1 to 5.\n",
    "- 1 indidcates that the user does not like the movie at all.\n",
    "- 5 indicated the user adores it.\n",
    "- ? means that the movie hasn't been rated by the user.\n",
    "\n",
    "![image.png](attachment:image.png)"
   ]
  },
  {
   "cell_type": "markdown",
   "metadata": {},
   "source": [
    "The objective is to recommend top-N movies to a specific user, in here for Alex. In order to accomplish it,t he ratings of movies that are not not rated by Alex need to be prdicted first."
   ]
  },
  {
   "cell_type": "markdown",
   "metadata": {},
   "source": [
    "#### User Based Collbaorative Filtering<br>\n",
    "**<font color = red>Step 1:</font> Claculating similarity between Alex and all other users.**"
   ]
  },
  {
   "cell_type": "markdown",
   "metadata": {},
   "source": [
    "The calculation for the similarity between Alex and Bob can be derived as follows: \n",
    "\n",
    "\n",
    "\\begin{align}\n",
    "sim(Alex, Bob) = \\frac{(4 * 5 + 2 * 3 + 4 * 3)}{[sqrt(4²+ 2²+ 4²) * sqrt(5² + 3² + 3²)]} = 0.97\\\\\n",
    "\\end{align}"
   ]
  },
  {
   "cell_type": "markdown",
   "metadata": {},
   "source": [
    "**<font color = red>Step 2:</font> Predict the ratings of the movies thata re rated by Alex**"
   ]
  },
  {
   "cell_type": "markdown",
   "metadata": {},
   "source": [
    "First k value is needs to be calculated by injecting the similarity values:\n",
    "\n",
    "\\begin{align}\n",
    "k = \\frac{1}{(0.97+1)} = 0.51\\\\\n",
    "\\end{align}"
   ]
  },
  {
   "cell_type": "markdown",
   "metadata": {},
   "source": [
    "Now the movie Thor unrated by Alex can be worked by following calculation\n",
    "\n",
    "\\begin{align}\n",
    "R(Alex, Thor) =\\ k * [sim(Alex, Bob) * R(Bob, Thor)+ sim(Alex, Tom) * R(Tom, Thor)]= 0.51 * (0.97 * 4 + 1 * 4) = 4.02\\\\\n",
    "\\end{align}"
   ]
  },
  {
   "attachments": {
    "image.png": {
     "image/png": "[encoded data removed]"
    }
   },
   "cell_type": "markdown",
   "metadata": {},
   "source": [
    "![image.png](attachment:image.png)"
   ]
  },
  {
   "cell_type": "markdown",
   "metadata": {},
   "source": [
    "**<font color = red>Step 3:</font> Select top-2 rated movies**<br>\n",
    "Since now the non-rated movie have been predicted, it is starightforward to find top-2 movies, which are Spider-man and Thor.  "
   ]
  },
  {
   "cell_type": "markdown",
   "metadata": {},
   "source": [
    "#### Item-Based Collaborative Filtering"
   ]
  },
  {
   "cell_type": "markdown",
   "metadata": {},
   "source": [
    "**<font color = red>Step 1:</font>Transpose the user-item matrix to the item-user matrix**"
   ]
  },
  {
   "attachments": {
    "image.png": {
     "image/png": "[encoded data removed]"
    }
   },
   "cell_type": "markdown",
   "metadata": {},
   "source": [
    "![image.png](attachment:image.png)"
   ]
  },
  {
   "cell_type": "markdown",
   "metadata": {},
   "source": [
    "**<font color = red>Step 2:</font> Calculate the similarity between any two items and fill up the item-item similarity matrix**"
   ]
  },
  {
   "cell_type": "markdown",
   "metadata": {},
   "source": [
    "Calculating similarity between Avenger and Star wars is demonstrated below:\n",
    "\n",
    "\\begin{align}\n",
    "sim(Avengers, Star wars) = \\frac{(4 * 2 + 5 * 3)}{[sqrt(4² + 5²) * sqrt(2² + 3²)]} = 0.99624059\\\\\n",
    "\\end{align}"
   ]
  },
  {
   "cell_type": "markdown",
   "metadata": {},
   "source": [
    "In the similar way, the item-item similarity matrix is calculated and filled in the below table, where 0 means the similarity between the two movies cannot be calculated due to **data sparsity**."
   ]
  },
  {
   "attachments": {
    "image.png": {
     "image/png": "[encoded data removed]"
    }
   },
   "cell_type": "markdown",
   "metadata": {},
   "source": [
    "![image.png](attachment:image.png)"
   ]
  },
  {
   "cell_type": "markdown",
   "metadata": {},
   "source": [
    "**<font color = red>Step 3:</font> Predict the ratings of movies that are rated by Alex**"
   ]
  },
  {
   "cell_type": "markdown",
   "metadata": {},
   "source": [
    "After builidng the item-item similarity matrix, the rating can be injected which are not present as following:\n",
    "\n",
    "\\begin{align}\n",
    "R(Alex, Thor) = \\frac{(sim(Thor,Avengers) * R(Alex,Avengers) + sim(Thor, Iron man) * R(Alex, Iron man))}{(sim(Thor, Avengers) + sim(Thor, Iron man))} = 4\\\\\n",
    "\\end{align}"
   ]
  },
  {
   "cell_type": "markdown",
   "metadata": {},
   "source": [
    "**<font color = red>Step 4:</font> Select top-2 rated movies for Alex**"
   ]
  },
  {
   "attachments": {
    "image.png": {
     "image/png": "[encoded data removed]"
    }
   },
   "cell_type": "markdown",
   "metadata": {},
   "source": [
    "It in now obvious here that three movies tie for second place, so the top-2 rated movies by Alex is comprised of Spider-man and one of the three tied movies - Avengers, Thor and Iron man.\n",
    "\n",
    "![image.png](attachment:image.png)"
   ]
  },
  {
   "cell_type": "markdown",
   "metadata": {},
   "source": [
    "#### MODEL BASED APPROACH"
   ]
  },
  {
   "attachments": {
    "image.png": {
     "image/png": "[encoded data removed]"
    }
   },
   "cell_type": "markdown",
   "metadata": {},
   "source": [
    "![image.png](attachment:image.png)"
   ]
  },
  {
   "cell_type": "markdown",
   "metadata": {},
   "source": [
    "#### Clustering based approach"
   ]
  },
  {
   "cell_type": "markdown",
   "metadata": {},
   "source": [
    "In clustering based approach, the recommendations are transformed into a clustering like problem, where the similarity measure is based on \"How close two items are, while generating recommendations\"?\n",
    "- The measure for generating recommednation will be on the basis of similarity of two items like vector distance between these itmes.\n",
    "- The idea is same as that of memory based recommendations, using similarity between user/items and use them as weights to predict a rating from a user and an item.\n",
    "- In this the only difference is that similarities are calculated based on an unspervised learning model, rather than Pearson correlation or cosine similarity.\n",
    "- In this, we limit the number of similar users as k, which makes the system more scalable."
   ]
  },
  {
   "cell_type": "markdown",
   "metadata": {},
   "source": [
    "<img src = \"Images/Cluster_1.png\">"
   ]
  },
  {
   "cell_type": "markdown",
   "metadata": {},
   "source": [
    "#### Matrix Factorization"
   ]
  },
  {
   "cell_type": "markdown",
   "metadata": {},
   "source": [
    "**Most important technique in recommendation system**<br><br>\n",
    "- When a user gives feedback to a cerrtain movie they saw, this collection of feedback can be collected in the form of a matrix.\n",
    "- Each row represents each users,\n",
    "- Each column represents different movies.\n",
    "- The matrix will be sparse since not everyone is going to watch every movies."
   ]
  },
  {
   "cell_type": "markdown",
   "metadata": {},
   "source": [
    "<img src = \"Images/SVD_1.png\">\n",
    "\n",
    "<img src = \"Images/SVD_2.png\">\n"
   ]
  },
  {
   "cell_type": "markdown",
   "metadata": {},
   "source": [
    "The idea behind such models is that the preference of a user can be determined by a small number of hidden factors. We can call these factors as **Embeddings**.<br><br>\n",
    "\n",
    "**Let's understand what is SVD**<br><br>\n",
    "Singular Value Decomposition(SVD) is a variability localization technique in which we represent data in form of matrix and then reduce the number of columns it has in order to maximize loss of dimensionality while minimizing loss of variability in the data being processed.<br>\n",
    "Why wouldn’t the data be lost? The answer for that question is the essence of SVD.\n",
    "\n",
    "Basically, SVD breaks a matrix into three other matrices called u, v, and d.\n",
    "\n",
    "1- A is the real matrix with m*n elements.\n",
    "\n",
    "2- U is an Orthogonal matrix with m*m elements\n",
    "\n",
    "3- V is an Orthogonal matrix with n*n elements.\n",
    "\n",
    "4- D is a diagonal matrix with m*n elements.\n",
    "\n",
    "Orthogonal matrix is a matrix that does not get its properties changed if multiplied by other numbers."
   ]
  },
  {
   "attachments": {
    "image.png": {
     "image/png": "[encoded data removed]"
    }
   },
   "cell_type": "markdown",
   "metadata": {},
   "source": [
    "![image.png](attachment:image.png)"
   ]
  },
  {
   "cell_type": "markdown",
   "metadata": {},
   "source": [
    "**What is the use of it?**<br><br>\n",
    "When we decompose our matrix A into (U, D, V), a few left-most columns of all three matrices represent almost all the information we need to recover our actual data. For example 92% of the information in just 5% of total columns which is a pretty good deal given that you have reduced the size of your data set tremendously.\n",
    "\n",
    "This means that SVD found some relation between all the columns of the matrix A and represented this same information with fewer columns.\n",
    "\n",
    "The curse of dimensionality is no longer able to affect your performance."
   ]
  },
  {
   "cell_type": "markdown",
   "metadata": {},
   "source": [
    "**Matrix decompostion can be formulated as  an optimization problem with loss functions and constraints**"
   ]
  },
  {
   "cell_type": "markdown",
   "metadata": {},
   "source": [
    "We can understand embeddings as low dimensional hidden factors for items and users.<br>\n",
    "Let's say, we have 5 dimensional (D or n_factors = 5) embeddings for both items and users. Then for user-X and movie-A, we can say those 5 numbers might represent 5 different characterestics about the movies, like:\n",
    "- How much movie-A is sci-fi intense?\n",
    "- How recent is the movie?\n",
    "- How much special effects ar in movie?\n",
    "- How dialogue drive is the movie?\n",
    "\n",
    "\n",
    "Like wise some numbers in user embedding matrix might represents,\n",
    "- How much does user-X like sci-fi movies?\n",
    "- How much does user-X like recent movies?"
   ]
  },
  {
   "cell_type": "markdown",
   "metadata": {},
   "source": [
    "<img src= \"https://raw.githubusercontent.com/insaid2018/Term-4/master/images/Shubham's%20crap.PNG\">\n",
    "\n",
    "- Source: [https://www.youtube.com/watch?v=ZspR5PZemcs](https://www.youtube.com/watch?v=ZspR5PZemcs)"
   ]
  },
  {
   "cell_type": "markdown",
   "metadata": {},
   "source": [
    "### PROS AND CONS OF COLLABORATIVE BASED APPROACH  "
   ]
  },
  {
   "cell_type": "markdown",
   "metadata": {},
   "source": [
    "Pros:\n",
    "- Works to any item kind (ignore attributes)\n",
    "\n",
    "Cons:\n",
    "- Cannot recommend items not already rated/consumed\n",
    "- Usually recommends more popular items\n",
    "- Needs a minimum amount of users to match similar users (cold start)"
   ]
  },
  {
   "cell_type": "markdown",
   "metadata": {},
   "source": [
    "<a id=section203></a>"
   ]
  },
  {
   "cell_type": "markdown",
   "metadata": {},
   "source": [
    "## 2.3 HYBRID MODELS"
   ]
  },
  {
   "cell_type": "markdown",
   "metadata": {},
   "source": [
    "Both content-based filtering and collaborative filtering have there strengths and weaknesses.<br>\n",
    "Content-based filtering:\n",
    "- Content description\n",
    "- Over-specialization\n",
    "- Subjective Domain problem\n",
    "\n",
    "Collabprative filtering:\n",
    "- Early rater problem\n",
    "- Sparsity\n",
    "- Data Scalability\n",
    "\n",
    "A system that combines content-based filtering and collaborative filtering could take advantage from both the representation of the content as well as similarities among users."
   ]
  },
  {
   "attachments": {
    "image.png": {
     "image/png": "[encoded data removed]"
    }
   },
   "cell_type": "markdown",
   "metadata": {},
   "source": [
    "**Collaboration via Content**<br><br>\n",
    "- In this, both the rated items and content of the items are used to construct a user profile. \n",
    "- The selection of terms which describe the content of the items is done using content-based techniques.\n",
    "- The weight of terms indicate how important they are to the users.\n",
    "\n",
    "Five terms and movie ratings:\n",
    "![image.png](attachment:image.png)"
   ]
  },
  {
   "cell_type": "markdown",
   "metadata": {},
   "source": [
    "<img src = \"Images/Collaboration_via_Content.png\">"
   ]
  },
  {
   "cell_type": "markdown",
   "metadata": {},
   "source": [
    "In here,\n",
    "- In collaborative, instead of determining the correlation with users ratings, term weights are used.\n",
    "- Unlike content based filtering, predicitions are based on the impressions of other users which could lead to recommendations outside the normal environment of a user."
   ]
  },
  {
   "cell_type": "markdown",
   "metadata": {},
   "source": [
    "### PROS AND CONS OF HYBRID MODELS"
   ]
  },
  {
   "cell_type": "markdown",
   "metadata": {},
   "source": [
    "Pros:\n",
    "- Fast to implement\n",
    "- Fast to execute\n",
    "- Not much storage space required\n",
    "- Very successful in broad applications for large populations such as shelf layout in retail stores.\n",
    "\n",
    "Cons:\n",
    "- Not suitable of knowledge of prefernce change rapidly.\n",
    "- Sometime may lead to stupid recommendations"
   ]
  },
  {
   "cell_type": "markdown",
   "metadata": {},
   "source": [
    "<a id=section3></a>"
   ]
  },
  {
   "cell_type": "markdown",
   "metadata": {},
   "source": [
    "## 3. Data Profiling"
   ]
  },
  {
   "cell_type": "markdown",
   "metadata": {},
   "source": [
    "<a id=section301></a>"
   ]
  },
  {
   "cell_type": "markdown",
   "metadata": {},
   "source": [
    "### 3.1 Understanding the Dataset"
   ]
  },
  {
   "cell_type": "markdown",
   "metadata": {},
   "source": [
    "This dataset contains ratings for ten thousand popular books. As to the source, let's say that these ratings were found on the internet. Generally, there are 100 reviews for each book, although some have less - fewer - ratings. Ratings go from one to five.\n",
    "\n",
    "Both book IDs and user IDs are contiguous. For books, they are 1-10000, for users, 1-53424. All users have made at least two ratings. Median number of ratings per user is 8.\n",
    "\n",
    "There are also books marked to read by the users, book metadata (author, year, etc.) and tags.\n",
    "\n",
    "- ratings.csv contains ratings and looks like that:\n",
    "\n",
    "    book_id, user_id, rating\n",
    "        1,   314,      5\n",
    "        1,   439,      3\n",
    "        1,   588,      5\n",
    "        1,   1169,     4\n",
    "        1,   1185,     4\n",
    "\n",
    "- to_read.csv provides IDs of the books marked \"to read\" by each user, as user_id,book_id pairs.\n",
    "\n",
    "- books.csv has metadata for each book (goodreads IDs, authors, title, average rating, etc.).\n",
    "    The metadata have been extracted from goodreads XML files, available in the third version of this dataset as books_xml.tar.gz. The archive contains 10000 XML files. One of them is available as sample_book.xml. To make the download smaller, these files are absent from the current version. Download version 3 if you want them.\n",
    "\n",
    "- book_tags.csv contains tags/shelves/genres assigned by users to books. Tags in this file are represented by their IDs.\n",
    "\n",
    "- tags.csv translates tag IDs to names.\n",
    "\n",
    "- goodreads IDs\n",
    "    Each book may have many editions. goodreads_book_id and best_book_id generally point to the most popular edition of a given book, while goodreads work_id refers to the book in the abstract sense.\n",
    "\n",
    "Reference : https://www.kaggle.com/zygmunt/goodbooks-10k#book_tags.csv"
   ]
  },
  {
   "cell_type": "markdown",
   "metadata": {},
   "source": [
    "<a id=section302></a>"
   ]
  },
  {
   "cell_type": "markdown",
   "metadata": {},
   "source": [
    "### 3.2 Data Preparation"
   ]
  },
  {
   "cell_type": "code",
   "execution_count": 1,
   "metadata": {},
   "outputs": [],
   "source": [
    "import numpy as np                                                 # Implemennts milti-dimensional array and matrices\n",
    "import pandas as pd                                                # For data manipulation and analysis\n",
    "import pandas_profiling\n",
    "import matplotlib.pyplot as plt                                    # Plotting library for Python programming language and it's numerical mathematics extension NumPy\n",
    "import seaborn as sns                                              # Provides a high level interface for drawing attractive and informative statistical graphics\n",
    "\n",
    "%matplotlib inline\n",
    "sns.set()\n",
    "\n",
    "from subprocess import check_output"
   ]
  },
  {
   "cell_type": "code",
   "execution_count": 2,
   "metadata": {},
   "outputs": [],
   "source": [
    "# load the ratings data set\n",
    "ratings = pd.read_csv('Data/ratings.csv')\n",
    "\n",
    "# load the books data set\n",
    "books = pd.read_csv('Data/books.csv')\n",
    "\n",
    "# load the book_tags data set\n",
    "book_tags = pd.read_csv('Data/book_tags.csv')\n",
    "\n",
    "# load the tags data set\n",
    "tags = pd.read_csv('Data/tags.csv')\n",
    "\n",
    "# load the to_read data set\n",
    "to_read = pd.read_csv('Data/to_read.csv')"
   ]
  },
  {
   "cell_type": "markdown",
   "metadata": {},
   "source": [
    "Now lets take a peak into the content of each file to understand them better.\n",
    "\n",
    "### Ratings Dataset"
   ]
  },
  {
   "cell_type": "code",
   "execution_count": 3,
   "metadata": {},
   "outputs": [
    {
     "data": {
      "text/html": [
       "<div>\n",
       "<style scoped>\n",
       "    .dataframe tbody tr th:only-of-type {\n",
       "        vertical-align: middle;\n",
       "    }\n",
       "\n",
       "    .dataframe tbody tr th {\n",
       "        vertical-align: top;\n",
       "    }\n",
       "\n",
       "    .dataframe thead th {\n",
       "        text-align: right;\n",
       "    }\n",
       "</style>\n",
       "<table border=\"1\" class=\"dataframe\">\n",
       "  <thead>\n",
       "    <tr style=\"text-align: right;\">\n",
       "      <th></th>\n",
       "      <th>user_id</th>\n",
       "      <th>book_id</th>\n",
       "      <th>rating</th>\n",
       "    </tr>\n",
       "  </thead>\n",
       "  <tbody>\n",
       "    <tr>\n",
       "      <th>0</th>\n",
       "      <td>1</td>\n",
       "      <td>258</td>\n",
       "      <td>5</td>\n",
       "    </tr>\n",
       "  </tbody>\n",
       "</table>\n",
       "</div>"
      ],
      "text/plain": [
       "   user_id  book_id  rating\n",
       "0        1      258       5"
      ]
     },
     "execution_count": 3,
     "metadata": {},
     "output_type": "execute_result"
    }
   ],
   "source": [
    "# Check the top 5 rows\n",
    "ratings.head(1)"
   ]
  },
  {
   "cell_type": "code",
   "execution_count": 4,
   "metadata": {},
   "outputs": [
    {
     "name": "stdout",
     "output_type": "stream",
     "text": [
      "<class 'pandas.core.frame.DataFrame'>\n",
      "RangeIndex: 5976479 entries, 0 to 5976478\n",
      "Data columns (total 3 columns):\n",
      "user_id    int64\n",
      "book_id    int64\n",
      "rating     int64\n",
      "dtypes: int64(3)\n",
      "memory usage: 136.8 MB\n"
     ]
    }
   ],
   "source": [
    "# Get information about ratings data set\n",
    "ratings.info()"
   ]
  },
  {
   "cell_type": "code",
   "execution_count": 5,
   "metadata": {},
   "outputs": [
    {
     "data": {
      "text/plain": [
       "Index(['user_id', 'book_id', 'rating'], dtype='object')"
      ]
     },
     "execution_count": 5,
     "metadata": {},
     "output_type": "execute_result"
    }
   ],
   "source": [
    "ratings.columns"
   ]
  },
  {
   "cell_type": "markdown",
   "metadata": {},
   "source": [
    "### Books Dataset"
   ]
  },
  {
   "cell_type": "code",
   "execution_count": 6,
   "metadata": {},
   "outputs": [
    {
     "data": {
      "text/html": [
       "<div>\n",
       "<style scoped>\n",
       "    .dataframe tbody tr th:only-of-type {\n",
       "        vertical-align: middle;\n",
       "    }\n",
       "\n",
       "    .dataframe tbody tr th {\n",
       "        vertical-align: top;\n",
       "    }\n",
       "\n",
       "    .dataframe thead th {\n",
       "        text-align: right;\n",
       "    }\n",
       "</style>\n",
       "<table border=\"1\" class=\"dataframe\">\n",
       "  <thead>\n",
       "    <tr style=\"text-align: right;\">\n",
       "      <th></th>\n",
       "      <th>book_id</th>\n",
       "      <th>goodreads_book_id</th>\n",
       "      <th>best_book_id</th>\n",
       "      <th>work_id</th>\n",
       "      <th>books_count</th>\n",
       "      <th>isbn</th>\n",
       "      <th>isbn13</th>\n",
       "      <th>authors</th>\n",
       "      <th>original_publication_year</th>\n",
       "      <th>original_title</th>\n",
       "      <th>...</th>\n",
       "      <th>ratings_count</th>\n",
       "      <th>work_ratings_count</th>\n",
       "      <th>work_text_reviews_count</th>\n",
       "      <th>ratings_1</th>\n",
       "      <th>ratings_2</th>\n",
       "      <th>ratings_3</th>\n",
       "      <th>ratings_4</th>\n",
       "      <th>ratings_5</th>\n",
       "      <th>image_url</th>\n",
       "      <th>small_image_url</th>\n",
       "    </tr>\n",
       "  </thead>\n",
       "  <tbody>\n",
       "    <tr>\n",
       "      <th>0</th>\n",
       "      <td>1</td>\n",
       "      <td>2767052</td>\n",
       "      <td>2767052</td>\n",
       "      <td>2792775</td>\n",
       "      <td>272</td>\n",
       "      <td>439023483</td>\n",
       "      <td>9.780439e+12</td>\n",
       "      <td>Suzanne Collins</td>\n",
       "      <td>2008.0</td>\n",
       "      <td>The Hunger Games</td>\n",
       "      <td>...</td>\n",
       "      <td>4780653</td>\n",
       "      <td>4942365</td>\n",
       "      <td>155254</td>\n",
       "      <td>66715</td>\n",
       "      <td>127936</td>\n",
       "      <td>560092</td>\n",
       "      <td>1481305</td>\n",
       "      <td>2706317</td>\n",
       "      <td>https://images.gr-assets.com/books/1447303603m...</td>\n",
       "      <td>https://images.gr-assets.com/books/1447303603s...</td>\n",
       "    </tr>\n",
       "  </tbody>\n",
       "</table>\n",
       "<p>1 rows × 23 columns</p>\n",
       "</div>"
      ],
      "text/plain": [
       "   book_id  goodreads_book_id  best_book_id  work_id  books_count       isbn  \\\n",
       "0        1            2767052       2767052  2792775          272  439023483   \n",
       "\n",
       "         isbn13          authors  original_publication_year    original_title  \\\n",
       "0  9.780439e+12  Suzanne Collins                     2008.0  The Hunger Games   \n",
       "\n",
       "   ... ratings_count work_ratings_count  work_text_reviews_count  ratings_1  \\\n",
       "0  ...       4780653            4942365                   155254      66715   \n",
       "\n",
       "   ratings_2  ratings_3  ratings_4  ratings_5  \\\n",
       "0     127936     560092    1481305    2706317   \n",
       "\n",
       "                                           image_url  \\\n",
       "0  https://images.gr-assets.com/books/1447303603m...   \n",
       "\n",
       "                                     small_image_url  \n",
       "0  https://images.gr-assets.com/books/1447303603s...  \n",
       "\n",
       "[1 rows x 23 columns]"
      ]
     },
     "execution_count": 6,
     "metadata": {},
     "output_type": "execute_result"
    }
   ],
   "source": [
    "# Check the top 5 rows\n",
    "books.head(1)"
   ]
  },
  {
   "cell_type": "code",
   "execution_count": 7,
   "metadata": {},
   "outputs": [
    {
     "name": "stdout",
     "output_type": "stream",
     "text": [
      "<class 'pandas.core.frame.DataFrame'>\n",
      "RangeIndex: 10000 entries, 0 to 9999\n",
      "Data columns (total 23 columns):\n",
      "book_id                      10000 non-null int64\n",
      "goodreads_book_id            10000 non-null int64\n",
      "best_book_id                 10000 non-null int64\n",
      "work_id                      10000 non-null int64\n",
      "books_count                  10000 non-null int64\n",
      "isbn                         9300 non-null object\n",
      "isbn13                       9415 non-null float64\n",
      "authors                      10000 non-null object\n",
      "original_publication_year    9979 non-null float64\n",
      "original_title               9415 non-null object\n",
      "title                        10000 non-null object\n",
      "language_code                8916 non-null object\n",
      "average_rating               10000 non-null float64\n",
      "ratings_count                10000 non-null int64\n",
      "work_ratings_count           10000 non-null int64\n",
      "work_text_reviews_count      10000 non-null int64\n",
      "ratings_1                    10000 non-null int64\n",
      "ratings_2                    10000 non-null int64\n",
      "ratings_3                    10000 non-null int64\n",
      "ratings_4                    10000 non-null int64\n",
      "ratings_5                    10000 non-null int64\n",
      "image_url                    10000 non-null object\n",
      "small_image_url              10000 non-null object\n",
      "dtypes: float64(3), int64(13), object(7)\n",
      "memory usage: 1.8+ MB\n"
     ]
    }
   ],
   "source": [
    "# Get information about books data set\n",
    "books.info()"
   ]
  },
  {
   "cell_type": "markdown",
   "metadata": {},
   "source": [
    "This dataset contains attributes of the 10000 books. There are 3 columns including the book_id, their titles, and their author. We can append book tags information which are comma-separated and are selected from different genres (Action, Adventure, Animation, Children's, Comedy, Crime, Documentary, Drama, Fantasy, Film-Noir, Horror, Musical, Mystery, Romance, Sci-Fi, Thriller, War, Western)."
   ]
  },
  {
   "cell_type": "markdown",
   "metadata": {},
   "source": [
    "<a id=section303></a>"
   ]
  },
  {
   "cell_type": "markdown",
   "metadata": {},
   "source": [
    "### 3.2 Pre Profiling"
   ]
  },
  {
   "cell_type": "markdown",
   "metadata": {},
   "source": [
    "- By pandas profiling, an __interactive HTML report__ gets generated which contins all the information about the columns of the dataset, like the __counts and type__ of each _column_. Detailed information about each column, __correlation between different columns__ and a sample of dataset.<br/>\n",
    "- It gives us __visual interpretation__ of each column in the data.\n",
    "- _Spread of the data_ can be better understood by the distribution plot. \n",
    "- _Grannular level_ analysis of each column."
   ]
  },
  {
   "cell_type": "code",
   "execution_count": 8,
   "metadata": {},
   "outputs": [],
   "source": [
    "profile = pandas_profiling.ProfileReport(books)\n",
    "profile.to_file(outputfile=\"BeforePreprocessing/books_data_before_preprocessing.html\")"
   ]
  },
  {
   "cell_type": "code",
   "execution_count": 10,
   "metadata": {},
   "outputs": [],
   "source": [
    "profile = pandas_profiling.ProfileReport(ratings)\n",
    "profile.to_file(outputfile=\"BeforePreprocessing/ratings_data_before_preprocessing.html\")"
   ]
  },
  {
   "cell_type": "markdown",
   "metadata": {},
   "source": [
    "Here, we have done Pandas Profiling before preprocessing our dataset, so we have named the html file as __books_data_before_preprocessing.html__ and __ratinss_data_before_preprocessing.html__. Take a look at the file and see what useful insight you can develop from it. <br/>\n",
    "Now we will process our data to better understand it. \n",
    "It seems like we are lucky to have clean data, we don't need to perform any preprocessing to fetch necessary informationn from data"
   ]
  },
  {
   "cell_type": "markdown",
   "metadata": {},
   "source": [
    "<a id=section304></a>"
   ]
  },
  {
   "cell_type": "markdown",
   "metadata": {},
   "source": [
    "### 3.4 Data Exploration"
   ]
  },
  {
   "cell_type": "code",
   "execution_count": 11,
   "metadata": {},
   "outputs": [
    {
     "data": {
      "text/plain": [
       "count    5.976479e+06\n",
       "mean     3.919866e+00\n",
       "std      9.910868e-01\n",
       "min      1.000000e+00\n",
       "25%      3.000000e+00\n",
       "50%      4.000000e+00\n",
       "75%      5.000000e+00\n",
       "max      5.000000e+00\n",
       "Name: rating, dtype: float64"
      ]
     },
     "execution_count": 11,
     "metadata": {},
     "output_type": "execute_result"
    }
   ],
   "source": [
    "# Get summary statistics of rating\n",
    "ratings['rating'].describe()"
   ]
  },
  {
   "cell_type": "code",
   "execution_count": 12,
   "metadata": {},
   "outputs": [
    {
     "data": {
      "text/plain": [
       "<matplotlib.axes._subplots.AxesSubplot at 0x1a1fc447f0>"
      ]
     },
     "execution_count": 12,
     "metadata": {},
     "output_type": "execute_result"
    },
    {
     "data": {
      "image/png": "[encoded data removed]",
      "text/plain": [
       "<Figure size 432x288 with 1 Axes>"
      ]
     },
     "metadata": {
      "needs_background": "light"
     },
     "output_type": "display_data"
    }
   ],
   "source": [
    "import seaborn as sns\n",
    "sns.set_style('whitegrid')\n",
    "sns.set(font_scale=1.5)\n",
    "%matplotlib inline\n",
    "\n",
    "# Display distribution of rating\n",
    "sns.distplot(ratings['rating'].fillna(ratings['rating'].median()))"
   ]
  },
  {
   "cell_type": "markdown",
   "metadata": {},
   "source": [
    "- It appears that users are quite generous in their ratings. \n",
    "- The mean rating is 3.58 on a scale of 5. Half the books have a rating of 4 and 5.\n",
    "- Each user rated at least 20 books, so I doubt the distribution could be caused just by chance variance in the contents of books.\n",
    "\n",
    "Let's also take a look at a subset of 20 books with the highest rating."
   ]
  },
  {
   "cell_type": "code",
   "execution_count": 13,
   "metadata": {},
   "outputs": [
    {
     "data": {
      "text/plain": [
       "<matplotlib.axes._subplots.AxesSubplot at 0x1a213591d0>"
      ]
     },
     "execution_count": 13,
     "metadata": {},
     "output_type": "execute_result"
    },
    {
     "data": {
      "image/png": "[encoded data removed]",
      "text/plain": [
       "<Figure size 576x432 with 1 Axes>"
      ]
     },
     "metadata": {
      "needs_background": "light"
     },
     "output_type": "display_data"
    }
   ],
   "source": [
    "plt.figure(figsize=(8,6))\n",
    "plt.rcParams['patch.force_edgecolor'] = True\n",
    "books['average_rating'].hist(bins=50)\n",
    "#ratings_mean_count['rating_counts'].hist(bins=50)"
   ]
  },
  {
   "cell_type": "code",
   "execution_count": 14,
   "metadata": {},
   "outputs": [
    {
     "data": {
      "text/plain": [
       "Index(['book_id', 'goodreads_book_id', 'best_book_id', 'work_id',\n",
       "       'books_count', 'isbn', 'isbn13', 'authors', 'original_publication_year',\n",
       "       'original_title', 'title', 'language_code', 'average_rating',\n",
       "       'ratings_count', 'work_ratings_count', 'work_text_reviews_count',\n",
       "       'ratings_1', 'ratings_2', 'ratings_3', 'ratings_4', 'ratings_5',\n",
       "       'image_url', 'small_image_url'],\n",
       "      dtype='object')"
      ]
     },
     "execution_count": 14,
     "metadata": {},
     "output_type": "execute_result"
    }
   ],
   "source": [
    "books.columns"
   ]
  },
  {
   "cell_type": "code",
   "execution_count": 15,
   "metadata": {},
   "outputs": [
    {
     "data": {
      "text/plain": [
       "<seaborn.axisgrid.JointGrid at 0x1a20b93e10>"
      ]
     },
     "execution_count": 15,
     "metadata": {},
     "output_type": "execute_result"
    },
    {
     "data": {
      "text/plain": [
       "<Figure size 576x432 with 0 Axes>"
      ]
     },
     "metadata": {},
     "output_type": "display_data"
    },
    {
     "data": {
      "image/png": "[encoded data removed]",
      "text/plain": [
       "<Figure size 432x432 with 3 Axes>"
      ]
     },
     "metadata": {
      "needs_background": "light"
     },
     "output_type": "display_data"
    }
   ],
   "source": [
    "plt.figure(figsize=(8,6))\n",
    "plt.rcParams['patch.force_edgecolor'] = True\n",
    "sns.jointplot(x='average_rating', y='ratings_count', data=books, alpha=0.4)"
   ]
  },
  {
   "cell_type": "markdown",
   "metadata": {},
   "source": [
    "The graph shows that, in general, books with higher average ratings actually have more number of ratings, compared with books that have lower average ratings."
   ]
  },
  {
   "cell_type": "markdown",
   "metadata": {},
   "source": [
    "#### Join all 3 files into one dataframe"
   ]
  },
  {
   "cell_type": "code",
   "execution_count": 16,
   "metadata": {},
   "outputs": [],
   "source": [
    "# Randomly sample 1% of the ratings dataset\n",
    "small_ratinngs_data = ratings.sample(frac=0.02)"
   ]
  },
  {
   "cell_type": "code",
   "execution_count": 17,
   "metadata": {},
   "outputs": [
    {
     "data": {
      "text/plain": [
       "(119530, 3)"
      ]
     },
     "execution_count": 17,
     "metadata": {},
     "output_type": "execute_result"
    }
   ],
   "source": [
    "small_ratinngs_data.shape"
   ]
  },
  {
   "cell_type": "code",
   "execution_count": 18,
   "metadata": {},
   "outputs": [],
   "source": [
    "dataset = pd.merge(books, small_ratinngs_data)"
   ]
  },
  {
   "cell_type": "code",
   "execution_count": 19,
   "metadata": {},
   "outputs": [
    {
     "data": {
      "text/html": [
       "<div>\n",
       "<style scoped>\n",
       "    .dataframe tbody tr th:only-of-type {\n",
       "        vertical-align: middle;\n",
       "    }\n",
       "\n",
       "    .dataframe tbody tr th {\n",
       "        vertical-align: top;\n",
       "    }\n",
       "\n",
       "    .dataframe thead th {\n",
       "        text-align: right;\n",
       "    }\n",
       "</style>\n",
       "<table border=\"1\" class=\"dataframe\">\n",
       "  <thead>\n",
       "    <tr style=\"text-align: right;\">\n",
       "      <th></th>\n",
       "      <th>book_id</th>\n",
       "      <th>goodreads_book_id</th>\n",
       "      <th>best_book_id</th>\n",
       "      <th>work_id</th>\n",
       "      <th>books_count</th>\n",
       "      <th>isbn</th>\n",
       "      <th>isbn13</th>\n",
       "      <th>authors</th>\n",
       "      <th>original_publication_year</th>\n",
       "      <th>original_title</th>\n",
       "      <th>...</th>\n",
       "      <th>work_text_reviews_count</th>\n",
       "      <th>ratings_1</th>\n",
       "      <th>ratings_2</th>\n",
       "      <th>ratings_3</th>\n",
       "      <th>ratings_4</th>\n",
       "      <th>ratings_5</th>\n",
       "      <th>image_url</th>\n",
       "      <th>small_image_url</th>\n",
       "      <th>user_id</th>\n",
       "      <th>rating</th>\n",
       "    </tr>\n",
       "  </thead>\n",
       "  <tbody>\n",
       "    <tr>\n",
       "      <th>0</th>\n",
       "      <td>1</td>\n",
       "      <td>2767052</td>\n",
       "      <td>2767052</td>\n",
       "      <td>2792775</td>\n",
       "      <td>272</td>\n",
       "      <td>439023483</td>\n",
       "      <td>9.780439e+12</td>\n",
       "      <td>Suzanne Collins</td>\n",
       "      <td>2008.0</td>\n",
       "      <td>The Hunger Games</td>\n",
       "      <td>...</td>\n",
       "      <td>155254</td>\n",
       "      <td>66715</td>\n",
       "      <td>127936</td>\n",
       "      <td>560092</td>\n",
       "      <td>1481305</td>\n",
       "      <td>2706317</td>\n",
       "      <td>https://images.gr-assets.com/books/1447303603m...</td>\n",
       "      <td>https://images.gr-assets.com/books/1447303603s...</td>\n",
       "      <td>49042</td>\n",
       "      <td>4</td>\n",
       "    </tr>\n",
       "  </tbody>\n",
       "</table>\n",
       "<p>1 rows × 25 columns</p>\n",
       "</div>"
      ],
      "text/plain": [
       "   book_id  goodreads_book_id  best_book_id  work_id  books_count       isbn  \\\n",
       "0        1            2767052       2767052  2792775          272  439023483   \n",
       "\n",
       "         isbn13          authors  original_publication_year    original_title  \\\n",
       "0  9.780439e+12  Suzanne Collins                     2008.0  The Hunger Games   \n",
       "\n",
       "   ... work_text_reviews_count ratings_1  ratings_2  ratings_3  ratings_4  \\\n",
       "0  ...                  155254     66715     127936     560092    1481305   \n",
       "\n",
       "   ratings_5                                          image_url  \\\n",
       "0    2706317  https://images.gr-assets.com/books/1447303603m...   \n",
       "\n",
       "                                     small_image_url  user_id  rating  \n",
       "0  https://images.gr-assets.com/books/1447303603s...    49042       4  \n",
       "\n",
       "[1 rows x 25 columns]"
      ]
     },
     "execution_count": 19,
     "metadata": {},
     "output_type": "execute_result"
    }
   ],
   "source": [
    "dataset.head(1)"
   ]
  },
  {
   "cell_type": "code",
   "execution_count": 20,
   "metadata": {},
   "outputs": [
    {
     "data": {
      "text/plain": [
       "(119530, 25)"
      ]
     },
     "execution_count": 20,
     "metadata": {},
     "output_type": "execute_result"
    }
   ],
   "source": [
    "dataset.shape"
   ]
  },
  {
   "cell_type": "code",
   "execution_count": 21,
   "metadata": {},
   "outputs": [
    {
     "data": {
      "text/plain": [
       "Index(['book_id', 'goodreads_book_id', 'best_book_id', 'work_id',\n",
       "       'books_count', 'isbn', 'isbn13', 'authors', 'original_publication_year',\n",
       "       'original_title', 'title', 'language_code', 'average_rating',\n",
       "       'ratings_count', 'work_ratings_count', 'work_text_reviews_count',\n",
       "       'ratings_1', 'ratings_2', 'ratings_3', 'ratings_4', 'ratings_5',\n",
       "       'image_url', 'small_image_url', 'user_id', 'rating'],\n",
       "      dtype='object')"
      ]
     },
     "execution_count": 21,
     "metadata": {},
     "output_type": "execute_result"
    }
   ],
   "source": [
    "dataset.columns"
   ]
  },
  {
   "cell_type": "markdown",
   "metadata": {},
   "source": [
    "#### Display 20 books with highest ratings"
   ]
  },
  {
   "cell_type": "code",
   "execution_count": 22,
   "metadata": {},
   "outputs": [
    {
     "data": {
      "text/html": [
       "<div>\n",
       "<style scoped>\n",
       "    .dataframe tbody tr th:only-of-type {\n",
       "        vertical-align: middle;\n",
       "    }\n",
       "\n",
       "    .dataframe tbody tr th {\n",
       "        vertical-align: top;\n",
       "    }\n",
       "\n",
       "    .dataframe thead th {\n",
       "        text-align: right;\n",
       "    }\n",
       "</style>\n",
       "<table border=\"1\" class=\"dataframe\">\n",
       "  <thead>\n",
       "    <tr style=\"text-align: right;\">\n",
       "      <th></th>\n",
       "      <th>title</th>\n",
       "      <th>authors</th>\n",
       "      <th>rating</th>\n",
       "    </tr>\n",
       "  </thead>\n",
       "  <tbody>\n",
       "    <tr>\n",
       "      <th>59765</th>\n",
       "      <td>Eye of the Needle</td>\n",
       "      <td>Ken Follett</td>\n",
       "      <td>5</td>\n",
       "    </tr>\n",
       "    <tr>\n",
       "      <th>58277</th>\n",
       "      <td>To All the Boys I've Loved Before (To All the ...</td>\n",
       "      <td>Jenny Han</td>\n",
       "      <td>5</td>\n",
       "    </tr>\n",
       "    <tr>\n",
       "      <th>58186</th>\n",
       "      <td>Oedipus Rex  (The Theban Plays, #1)</td>\n",
       "      <td>Sophocles, J.E. Thomas</td>\n",
       "      <td>5</td>\n",
       "    </tr>\n",
       "    <tr>\n",
       "      <th>58190</th>\n",
       "      <td>Oedipus Rex  (The Theban Plays, #1)</td>\n",
       "      <td>Sophocles, J.E. Thomas</td>\n",
       "      <td>5</td>\n",
       "    </tr>\n",
       "    <tr>\n",
       "      <th>58196</th>\n",
       "      <td>Shanghai Girls (Shanghai Girls #1)</td>\n",
       "      <td>Lisa See</td>\n",
       "      <td>5</td>\n",
       "    </tr>\n",
       "  </tbody>\n",
       "</table>\n",
       "</div>"
      ],
      "text/plain": [
       "                                                   title  \\\n",
       "59765                                  Eye of the Needle   \n",
       "58277  To All the Boys I've Loved Before (To All the ...   \n",
       "58186                Oedipus Rex  (The Theban Plays, #1)   \n",
       "58190                Oedipus Rex  (The Theban Plays, #1)   \n",
       "58196                 Shanghai Girls (Shanghai Girls #1)   \n",
       "\n",
       "                      authors  rating  \n",
       "59765             Ken Follett       5  \n",
       "58277               Jenny Han       5  \n",
       "58186  Sophocles, J.E. Thomas       5  \n",
       "58190  Sophocles, J.E. Thomas       5  \n",
       "58196                Lisa See       5  "
      ]
     },
     "execution_count": 22,
     "metadata": {},
     "output_type": "execute_result"
    }
   ],
   "source": [
    "dataset[['title','authors','rating']].sort_values('rating', ascending=False).head()"
   ]
  },
  {
   "cell_type": "markdown",
   "metadata": {},
   "source": [
    "<a id=section4></a>"
   ]
  },
  {
   "cell_type": "markdown",
   "metadata": {},
   "source": [
    "## Implementation"
   ]
  },
  {
   "cell_type": "markdown",
   "metadata": {},
   "source": [
    "<a id=section401></a>"
   ]
  },
  {
   "cell_type": "markdown",
   "metadata": {},
   "source": [
    "### 4.1 Content-Based Recommendation Model\n",
    "\n",
    "\n",
    "We will build a Content-Based Recommendation Engine that computes similarity between movies based on movie genres. It will suggest movies that are most similar to a particular movie based on its genre. \n",
    "- To do so, I will make use of the file **movies.csv**."
   ]
  },
  {
   "cell_type": "code",
   "execution_count": 23,
   "metadata": {},
   "outputs": [
    {
     "data": {
      "text/plain": [
       "Index(['book_id', 'goodreads_book_id', 'best_book_id', 'work_id',\n",
       "       'books_count', 'isbn', 'isbn13', 'authors', 'original_publication_year',\n",
       "       'original_title', 'title', 'language_code', 'average_rating',\n",
       "       'ratings_count', 'work_ratings_count', 'work_text_reviews_count',\n",
       "       'ratings_1', 'ratings_2', 'ratings_3', 'ratings_4', 'ratings_5',\n",
       "       'image_url', 'small_image_url'],\n",
       "      dtype='object')"
      ]
     },
     "execution_count": 23,
     "metadata": {},
     "output_type": "execute_result"
    }
   ],
   "source": [
    "books.columns"
   ]
  },
  {
   "cell_type": "markdown",
   "metadata": {},
   "source": [
    "- We do not have a quantitative metric to judge our machine's performance so this will have to be done qualitatively. \n",
    "- In order to do so, we'll use **TfidfVectorizer** function from **scikit-learn**, which transforms text to feature vectors that can be used as input to estimator."
   ]
  },
  {
   "cell_type": "code",
   "execution_count": 25,
   "metadata": {},
   "outputs": [
    {
     "data": {
      "text/plain": [
       "(10000, 14800)"
      ]
     },
     "execution_count": 25,
     "metadata": {},
     "output_type": "execute_result"
    }
   ],
   "source": [
    "from sklearn.feature_extraction.text import TfidfVectorizer\n",
    "tf = TfidfVectorizer(analyzer='word',ngram_range=(1, 2),min_df=0, stop_words='english')\n",
    "tfidf_matrix = tf.fit_transform(books['authors'])\n",
    "tfidf_matrix.shape"
   ]
  },
  {
   "cell_type": "markdown",
   "metadata": {},
   "source": [
    "- Further we will be using the **Cosine Similarity** to calculate a numeric quantity that denotes the similarity between two books. \n",
    "- Since we have used the TF-IDF Vectorizer, calculating the Dot Product will directly give us the Cosine Similarity Score.\n",
    "- Therefore, we will use sklearn's **linear_kernel** instead of cosine_similarities since it is much faster."
   ]
  },
  {
   "cell_type": "code",
   "execution_count": 26,
   "metadata": {},
   "outputs": [
    {
     "data": {
      "text/plain": [
       "array([[1., 0., 0., 0.],\n",
       "       [0., 1., 0., 0.],\n",
       "       [0., 0., 1., 0.],\n",
       "       [0., 0., 0., 1.]])"
      ]
     },
     "execution_count": 26,
     "metadata": {},
     "output_type": "execute_result"
    }
   ],
   "source": [
    "from sklearn.metrics.pairwise import linear_kernel\n",
    "cosine_sim = linear_kernel(tfidf_matrix, tfidf_matrix)\n",
    "cosine_sim[:4, :4]"
   ]
  },
  {
   "cell_type": "code",
   "execution_count": 27,
   "metadata": {},
   "outputs": [
    {
     "data": {
      "text/plain": [
       "(10000, 10000)"
      ]
     },
     "execution_count": 27,
     "metadata": {},
     "output_type": "execute_result"
    }
   ],
   "source": [
    "cosine_sim.shape"
   ]
  },
  {
   "cell_type": "markdown",
   "metadata": {},
   "source": [
    "- Now have a pairwise cosine similarity matrix for all the movies in the dataset. \n",
    "- Create a function that returns the 20 most similar movies based on the cosine similarity score."
   ]
  },
  {
   "cell_type": "markdown",
   "metadata": {},
   "source": [
    "#### Build a 1-dimensional array with movie titles"
   ]
  },
  {
   "cell_type": "code",
   "execution_count": 28,
   "metadata": {},
   "outputs": [],
   "source": [
    "titles = books['title']\n",
    "indices = pd.Series(books.index, index=books['title'])"
   ]
  },
  {
   "cell_type": "code",
   "execution_count": 29,
   "metadata": {},
   "outputs": [
    {
     "data": {
      "text/plain": [
       "9990                                    The Famished Road\n",
       "9991           The Red Knight (The Traitor Son Cycle, #1)\n",
       "9992    The Time Traveller's Guide to Medieval England...\n",
       "9993            The Everafter War (The Sisters Grimm, #7)\n",
       "9994                                   Billy Budd, Sailor\n",
       "9995                            Bayou Moon (The Edge, #2)\n",
       "9996    Means of Ascent (The Years of Lyndon Johnson, #2)\n",
       "9997                                The Mauritius Command\n",
       "9998    Cinderella Ate My Daughter: Dispatches from th...\n",
       "9999                                  The First World War\n",
       "Name: title, dtype: object"
      ]
     },
     "execution_count": 29,
     "metadata": {},
     "output_type": "execute_result"
    }
   ],
   "source": [
    "titles.tail(10)"
   ]
  },
  {
   "cell_type": "markdown",
   "metadata": {},
   "source": [
    "#### Function that get book recommendations based on the cosine similarity score of movie genres"
   ]
  },
  {
   "cell_type": "code",
   "execution_count": 30,
   "metadata": {},
   "outputs": [],
   "source": [
    "def book_recommendations(title):\n",
    "    idx = indices[title]\n",
    "    sim_scores = list(enumerate(cosine_sim[idx]))\n",
    "    sim_scores = sorted(sim_scores, key=lambda x: x[1], reverse=True)\n",
    "    sim_scores = sim_scores[1:21]\n",
    "    movie_indices = [i[0] for i in sim_scores]\n",
    "    return titles.iloc[movie_indices]"
   ]
  },
  {
   "cell_type": "markdown",
   "metadata": {},
   "source": [
    "Let's try and get the top recommendations for a few movies and see how good the recommendations are."
   ]
  },
  {
   "cell_type": "code",
   "execution_count": 31,
   "metadata": {},
   "outputs": [
    {
     "data": {
      "text/plain": [
       "18      The Fellowship of the Ring (The Lord of the Ri...\n",
       "154            The Two Towers (The Lord of the Rings, #2)\n",
       "160     The Return of the King (The Lord of the Rings,...\n",
       "188     The Lord of the Rings (The Lord of the Rings, ...\n",
       "963     J.R.R. Tolkien 4-Book Boxed Set: The Hobbit an...\n",
       "4975         Unfinished Tales of Númenor and Middle-Earth\n",
       "2308                                The Children of Húrin\n",
       "610              The Silmarillion (Middle-Earth Universe)\n",
       "8271                   The Complete Guide to Middle-Earth\n",
       "1128     The History of the Hobbit, Part One: Mr. Baggins\n",
       "Name: title, dtype: object"
      ]
     },
     "execution_count": 31,
     "metadata": {},
     "output_type": "execute_result"
    }
   ],
   "source": [
    "book_recommendations('The Hobbit').head(10)"
   ]
  },
  {
   "cell_type": "markdown",
   "metadata": {},
   "source": [
    "As we can see, we have quite a decent list of recommendation for **The Hobbit ** (Action, Thriller, War), **Moby-Dick or, The Whale** (Drama).\n",
    "\n",
    "Overall, here are the pros of using content-based recommendation:\n",
    "* No need for data on other users, thus no cold-start or sparsity problems.\n",
    "* Can recommend to users with unique tastes.\n",
    "* Can recommend new & unpopular items.\n",
    "* Can provide explanations for recommended items by listing content-features that caused an item to be recommended (in this case, movie genres)\n",
    "\n",
    "However, there are some cons of using this approach:\n",
    "* Finding the appropriate features is hard.\n",
    "* Does not recommend items outside a user's content profile.\n",
    "* Unable to exploit quality judgments of other users."
   ]
  },
  {
   "cell_type": "markdown",
   "metadata": {},
   "source": [
    "<a id=section402></a>"
   ]
  },
  {
   "cell_type": "markdown",
   "metadata": {},
   "source": [
    "### 4.2 Collaborative Filtering Recommendation Model\n",
    "\n",
    "I will use the file **ratings.csv** first as it contains User ID, Books IDs and Ratings. These three elements are all we need for determining the similarity of the users based on their ratings for a particular book.\n",
    "\n",
    "First I do some quick data processing:"
   ]
  },
  {
   "cell_type": "code",
   "execution_count": 33,
   "metadata": {},
   "outputs": [
    {
     "data": {
      "text/plain": [
       "Index(['user_id', 'book_id', 'rating'], dtype='object')"
      ]
     },
     "execution_count": 33,
     "metadata": {},
     "output_type": "execute_result"
    }
   ],
   "source": [
    "ratings.columns"
   ]
  },
  {
   "cell_type": "code",
   "execution_count": 34,
   "metadata": {},
   "outputs": [
    {
     "data": {
      "text/plain": [
       "Index(['book_id', 'goodreads_book_id', 'best_book_id', 'work_id',\n",
       "       'books_count', 'isbn', 'isbn13', 'authors', 'original_publication_year',\n",
       "       'original_title', 'title', 'language_code', 'average_rating',\n",
       "       'ratings_count', 'work_ratings_count', 'work_text_reviews_count',\n",
       "       'ratings_1', 'ratings_2', 'ratings_3', 'ratings_4', 'ratings_5',\n",
       "       'image_url', 'small_image_url'],\n",
       "      dtype='object')"
      ]
     },
     "execution_count": 34,
     "metadata": {},
     "output_type": "execute_result"
    }
   ],
   "source": [
    "books.columns"
   ]
  },
  {
   "cell_type": "code",
   "execution_count": 35,
   "metadata": {},
   "outputs": [],
   "source": [
    "# Fill NaN values in user_id and movie_id column with 0\n",
    "ratings['user_id'] = ratings['user_id'].fillna(0)\n",
    "ratings['book_id'] = ratings['book_id'].fillna(0)\n",
    "\n",
    "# Replace NaN values in rating column with average of all values\n",
    "ratings['rating'] = ratings['rating'].fillna(ratings['rating'].mean())"
   ]
  },
  {
   "cell_type": "markdown",
   "metadata": {},
   "source": [
    "Due to the limited computing power, we will build the recommender system using only a subset of the ratings. We will take a random sample of 20,000 ratings (2%) from the 1M ratings."
   ]
  },
  {
   "cell_type": "code",
   "execution_count": 36,
   "metadata": {},
   "outputs": [
    {
     "name": "stdout",
     "output_type": "stream",
     "text": [
      "<class 'pandas.core.frame.DataFrame'>\n",
      "Int64Index: 11953 entries, 4249492 to 3447868\n",
      "Data columns (total 3 columns):\n",
      "user_id    11953 non-null int64\n",
      "book_id    11953 non-null int64\n",
      "rating     11953 non-null int64\n",
      "dtypes: int64(3)\n",
      "memory usage: 373.5 KB\n",
      "None\n"
     ]
    }
   ],
   "source": [
    "# Randomly sample 1% of the ratings dataset\n",
    "small_data = ratings.sample(frac=0.002)\n",
    "\n",
    "# Check the sample info\n",
    "print(small_data.info())"
   ]
  },
  {
   "cell_type": "code",
   "execution_count": 37,
   "metadata": {},
   "outputs": [
    {
     "data": {
      "text/plain": [
       "(11953, 3)"
      ]
     },
     "execution_count": 37,
     "metadata": {},
     "output_type": "execute_result"
    }
   ],
   "source": [
    "small_data.shape"
   ]
  },
  {
   "cell_type": "markdown",
   "metadata": {},
   "source": [
    "#### Splitting the data"
   ]
  },
  {
   "cell_type": "code",
   "execution_count": 38,
   "metadata": {},
   "outputs": [],
   "source": [
    "from sklearn import model_selection as cv\n",
    "train_data, test_data = cv.train_test_split(small_data, test_size=0.2)"
   ]
  },
  {
   "cell_type": "markdown",
   "metadata": {},
   "source": [
    "Now I need to create a user-item matrix. Since I have splitted the data into testing and training, I need to create two matrices. The training matrix contains 80% of the ratings and the testing matrix contains 20% of the ratings."
   ]
  },
  {
   "cell_type": "code",
   "execution_count": 39,
   "metadata": {},
   "outputs": [
    {
     "name": "stdout",
     "output_type": "stream",
     "text": [
      "(9562, 2)\n",
      "(2391, 2)\n"
     ]
    },
    {
     "name": "stderr",
     "output_type": "stream",
     "text": [
      "/anaconda3/lib/python3.7/site-packages/ipykernel_launcher.py:2: FutureWarning: Method .as_matrix will be removed in a future version. Use .values instead.\n",
      "  \n",
      "/anaconda3/lib/python3.7/site-packages/ipykernel_launcher.py:3: FutureWarning: Method .as_matrix will be removed in a future version. Use .values instead.\n",
      "  This is separate from the ipykernel package so we can avoid doing imports until\n"
     ]
    }
   ],
   "source": [
    "# Create two user-item matrices, one for training and another for testing\n",
    "train_data_matrix = train_data.as_matrix(columns = ['user_id', 'movie_id', 'rating'])\n",
    "test_data_matrix = test_data.as_matrix(columns = ['user_id', 'movie_id', 'rating'])\n",
    "\n",
    "# Check their shape\n",
    "print(train_data_matrix.shape)\n",
    "print(test_data_matrix.shape)"
   ]
  },
  {
   "cell_type": "markdown",
   "metadata": {},
   "source": [
    "Now I use the **pairwise_distances** function from sklearn to calculate the [Pearson Correlation Coefficient](https://stackoverflow.com/questions/1838806/euclidean-distance-vs-pearson-correlation-vs-cosine-similarity). This method provides a safe way to take a distance matrix as input, while preserving compatibility with many other algorithms that take a vector array."
   ]
  },
  {
   "cell_type": "code",
   "execution_count": 40,
   "metadata": {},
   "outputs": [
    {
     "name": "stdout",
     "output_type": "stream",
     "text": [
      "[[1.         0.89752475 0.98994081 0.99998459]\n",
      " [0.89752475 1.         0.95088492 0.89995859]\n",
      " [0.98994081 0.95088492 1.         0.99071089]\n",
      " [0.99998459 0.89995859 0.99071089 1.        ]]\n"
     ]
    }
   ],
   "source": [
    "from sklearn.metrics.pairwise import pairwise_distances\n",
    "\n",
    "# User Similarity Matrix\n",
    "user_correlation = 1 - pairwise_distances(train_data, metric='correlation')\n",
    "user_correlation[np.isnan(user_correlation)] = 0\n",
    "print(user_correlation[:4, :4])"
   ]
  },
  {
   "cell_type": "code",
   "execution_count": 41,
   "metadata": {},
   "outputs": [
    {
     "name": "stdout",
     "output_type": "stream",
     "text": [
      "[[1.         0.05925318]\n",
      " [0.05925318 1.        ]]\n"
     ]
    }
   ],
   "source": [
    "# Item Similarity Matrix\n",
    "item_correlation = 1 - pairwise_distances(train_data_matrix.T, metric='correlation')\n",
    "item_correlation[np.isnan(item_correlation)] = 0\n",
    "print(item_correlation[:4, :4])"
   ]
  },
  {
   "cell_type": "markdown",
   "metadata": {},
   "source": [
    "- Using the similarity matrix, we can now predict the ratings that were not included with the data. \n",
    "- Using these predictions, we can then compare them with the test data to attempt to validate the quality of our recommender model.\n",
    "\n",
    "For the user-user CF case, we will look at the similarity between 2 users (A and B, for example) as weights that are multiplied by the ratings of a similar user B (corrected for the average rating of that user). \n",
    "- We also need to normalize it so that the ratings stay between 1 and 5 and, as a final step, sum the average ratings for the user that we are trying to predict. \n",
    "- The idea here is that some users may tend always to give high or low ratings to all movies. \n",
    "- The relative difference in the ratings that these users give is more important than the absolute values. "
   ]
  },
  {
   "cell_type": "markdown",
   "metadata": {},
   "source": [
    "#### Function to predict ratings"
   ]
  },
  {
   "cell_type": "code",
   "execution_count": 42,
   "metadata": {},
   "outputs": [],
   "source": [
    "def predict(ratings, similarity, type='user'):\n",
    "    if type == 'user':\n",
    "        mean_user_rating = ratings.mean(axis=1)\n",
    "        # Use np.newaxis so that mean_user_rating has same format as ratings\n",
    "        ratings_diff = (ratings - mean_user_rating[:, np.newaxis])\n",
    "        pred = mean_user_rating[:, np.newaxis] + similarity.dot(ratings_diff) / np.array([np.abs(similarity).sum(axis=1)]).T\n",
    "    elif type == 'item':\n",
    "        pred = ratings.dot(similarity) / np.array([np.abs(similarity).sum(axis=1)])\n",
    "    return pred"
   ]
  },
  {
   "cell_type": "markdown",
   "metadata": {},
   "source": [
    "### Evaluation"
   ]
  },
  {
   "cell_type": "code",
   "execution_count": 43,
   "metadata": {},
   "outputs": [],
   "source": [
    "from sklearn.metrics import mean_squared_error\n",
    "from math import sqrt\n",
    "\n",
    "# Function to calculate RMSE\n",
    "def rmse(pred, actual):\n",
    "    # Ignore nonzero terms.\n",
    "    pred = pred[actual.nonzero()].flatten()\n",
    "    actual = actual[actual.nonzero()].flatten()\n",
    "    return sqrt(mean_squared_error(pred, actual))"
   ]
  },
  {
   "cell_type": "code",
   "execution_count": 44,
   "metadata": {},
   "outputs": [
    {
     "name": "stdout",
     "output_type": "stream",
     "text": [
      "User-based CF RMSE: 13799.373115276623\n",
      "Item-based CF RMSE: 15414.744421309319\n"
     ]
    }
   ],
   "source": [
    "# Predict ratings on the training data with both similarity score\n",
    "user_prediction = predict(train_data_matrix, user_correlation, type='user')\n",
    "item_prediction = predict(train_data_matrix, item_correlation, type='item')\n",
    "\n",
    "# RMSE on the test data\n",
    "print('User-based CF RMSE: ' + str(rmse(user_prediction, test_data_matrix)))\n",
    "print('Item-based CF RMSE: ' + str(rmse(item_prediction, test_data_matrix)))"
   ]
  },
  {
   "cell_type": "code",
   "execution_count": 45,
   "metadata": {},
   "outputs": [
    {
     "name": "stdout",
     "output_type": "stream",
     "text": [
      "User-based CF RMSE: 7550.240043035019\n",
      "Item-based CF RMSE: 1695.6173776480623\n"
     ]
    }
   ],
   "source": [
    "# RMSE on the train data\n",
    "print('User-based CF RMSE: ' + str(rmse(user_prediction, train_data_matrix)))\n",
    "print('Item-based CF RMSE: ' + str(rmse(item_prediction, train_data_matrix)))"
   ]
  },
  {
   "cell_type": "markdown",
   "metadata": {},
   "source": [
    "RMSE of training of model is a metric which measure how much the signal and the noise is explained by the model. I noticed that my RMSE is quite big. I suppose I might have overfitted the training data.\n",
    "\n",
    "Overall, Memory-based Collaborative Filtering is easy to implement and produce reasonable prediction quality. However, there are some drawback of this approach:\n",
    "\n",
    "* It doesn't address the well-known cold-start problem, that is when new user or new item enters the system. \n",
    "* It can't deal with sparse data, meaning it's hard to find users that have rated the same items.\n",
    "* It suffers when new users or items that don't have any ratings enter the system.\n",
    "* It tends to recommend popular items."
   ]
  },
  {
   "cell_type": "markdown",
   "metadata": {},
   "source": [
    "#### Implementing Singular Vector Decoposition\n",
    "\n",
    "#### Using Ratings data"
   ]
  },
  {
   "cell_type": "code",
   "execution_count": 46,
   "metadata": {},
   "outputs": [
    {
     "name": "stdout",
     "output_type": "stream",
     "text": [
      "Number of users = 53424 | Number of books = 10000\n"
     ]
    }
   ],
   "source": [
    "n_users = ratings.user_id.unique().shape[0]\n",
    "n_books = ratings.book_id.unique().shape[0]\n",
    "print ('Number of users = ' + str(n_users) + ' | Number of books = ' + str(n_books))"
   ]
  },
  {
   "cell_type": "markdown",
   "metadata": {},
   "source": [
    "- We want the format of my ratings matrix to be one row per user and one column per book. \n",
    "- We'll pivot *ratings* to get that and call the new variable *Ratings* (with a capital *R)."
   ]
  },
  {
   "cell_type": "code",
   "execution_count": 47,
   "metadata": {},
   "outputs": [
    {
     "data": {
      "text/html": [
       "<div>\n",
       "<style scoped>\n",
       "    .dataframe tbody tr th:only-of-type {\n",
       "        vertical-align: middle;\n",
       "    }\n",
       "\n",
       "    .dataframe tbody tr th {\n",
       "        vertical-align: top;\n",
       "    }\n",
       "\n",
       "    .dataframe thead th {\n",
       "        text-align: right;\n",
       "    }\n",
       "</style>\n",
       "<table border=\"1\" class=\"dataframe\">\n",
       "  <thead>\n",
       "    <tr style=\"text-align: right;\">\n",
       "      <th>book_id</th>\n",
       "      <th>1</th>\n",
       "      <th>2</th>\n",
       "      <th>3</th>\n",
       "      <th>4</th>\n",
       "      <th>5</th>\n",
       "      <th>6</th>\n",
       "      <th>7</th>\n",
       "      <th>8</th>\n",
       "      <th>9</th>\n",
       "      <th>10</th>\n",
       "      <th>...</th>\n",
       "      <th>9991</th>\n",
       "      <th>9992</th>\n",
       "      <th>9993</th>\n",
       "      <th>9994</th>\n",
       "      <th>9995</th>\n",
       "      <th>9996</th>\n",
       "      <th>9997</th>\n",
       "      <th>9998</th>\n",
       "      <th>9999</th>\n",
       "      <th>10000</th>\n",
       "    </tr>\n",
       "    <tr>\n",
       "      <th>user_id</th>\n",
       "      <th></th>\n",
       "      <th></th>\n",
       "      <th></th>\n",
       "      <th></th>\n",
       "      <th></th>\n",
       "      <th></th>\n",
       "      <th></th>\n",
       "      <th></th>\n",
       "      <th></th>\n",
       "      <th></th>\n",
       "      <th></th>\n",
       "      <th></th>\n",
       "      <th></th>\n",
       "      <th></th>\n",
       "      <th></th>\n",
       "      <th></th>\n",
       "      <th></th>\n",
       "      <th></th>\n",
       "      <th></th>\n",
       "      <th></th>\n",
       "      <th></th>\n",
       "    </tr>\n",
       "  </thead>\n",
       "  <tbody>\n",
       "    <tr>\n",
       "      <th>1</th>\n",
       "      <td>0.0</td>\n",
       "      <td>0.0</td>\n",
       "      <td>0.0</td>\n",
       "      <td>5.0</td>\n",
       "      <td>0.0</td>\n",
       "      <td>0.0</td>\n",
       "      <td>0.0</td>\n",
       "      <td>0.0</td>\n",
       "      <td>0.0</td>\n",
       "      <td>4.0</td>\n",
       "      <td>...</td>\n",
       "      <td>0.0</td>\n",
       "      <td>0.0</td>\n",
       "      <td>0.0</td>\n",
       "      <td>0.0</td>\n",
       "      <td>0.0</td>\n",
       "      <td>0.0</td>\n",
       "      <td>0.0</td>\n",
       "      <td>0.0</td>\n",
       "      <td>0.0</td>\n",
       "      <td>0.0</td>\n",
       "    </tr>\n",
       "    <tr>\n",
       "      <th>2</th>\n",
       "      <td>0.0</td>\n",
       "      <td>5.0</td>\n",
       "      <td>0.0</td>\n",
       "      <td>0.0</td>\n",
       "      <td>5.0</td>\n",
       "      <td>0.0</td>\n",
       "      <td>0.0</td>\n",
       "      <td>4.0</td>\n",
       "      <td>0.0</td>\n",
       "      <td>5.0</td>\n",
       "      <td>...</td>\n",
       "      <td>0.0</td>\n",
       "      <td>0.0</td>\n",
       "      <td>0.0</td>\n",
       "      <td>0.0</td>\n",
       "      <td>0.0</td>\n",
       "      <td>0.0</td>\n",
       "      <td>0.0</td>\n",
       "      <td>0.0</td>\n",
       "      <td>0.0</td>\n",
       "      <td>0.0</td>\n",
       "    </tr>\n",
       "    <tr>\n",
       "      <th>3</th>\n",
       "      <td>0.0</td>\n",
       "      <td>0.0</td>\n",
       "      <td>0.0</td>\n",
       "      <td>3.0</td>\n",
       "      <td>0.0</td>\n",
       "      <td>0.0</td>\n",
       "      <td>0.0</td>\n",
       "      <td>0.0</td>\n",
       "      <td>0.0</td>\n",
       "      <td>0.0</td>\n",
       "      <td>...</td>\n",
       "      <td>0.0</td>\n",
       "      <td>0.0</td>\n",
       "      <td>0.0</td>\n",
       "      <td>0.0</td>\n",
       "      <td>0.0</td>\n",
       "      <td>0.0</td>\n",
       "      <td>0.0</td>\n",
       "      <td>0.0</td>\n",
       "      <td>0.0</td>\n",
       "      <td>0.0</td>\n",
       "    </tr>\n",
       "    <tr>\n",
       "      <th>4</th>\n",
       "      <td>0.0</td>\n",
       "      <td>5.0</td>\n",
       "      <td>0.0</td>\n",
       "      <td>4.0</td>\n",
       "      <td>4.0</td>\n",
       "      <td>0.0</td>\n",
       "      <td>4.0</td>\n",
       "      <td>4.0</td>\n",
       "      <td>0.0</td>\n",
       "      <td>5.0</td>\n",
       "      <td>...</td>\n",
       "      <td>0.0</td>\n",
       "      <td>0.0</td>\n",
       "      <td>0.0</td>\n",
       "      <td>0.0</td>\n",
       "      <td>0.0</td>\n",
       "      <td>0.0</td>\n",
       "      <td>0.0</td>\n",
       "      <td>0.0</td>\n",
       "      <td>0.0</td>\n",
       "      <td>0.0</td>\n",
       "    </tr>\n",
       "    <tr>\n",
       "      <th>5</th>\n",
       "      <td>0.0</td>\n",
       "      <td>0.0</td>\n",
       "      <td>0.0</td>\n",
       "      <td>0.0</td>\n",
       "      <td>0.0</td>\n",
       "      <td>4.0</td>\n",
       "      <td>0.0</td>\n",
       "      <td>0.0</td>\n",
       "      <td>0.0</td>\n",
       "      <td>0.0</td>\n",
       "      <td>...</td>\n",
       "      <td>0.0</td>\n",
       "      <td>0.0</td>\n",
       "      <td>0.0</td>\n",
       "      <td>0.0</td>\n",
       "      <td>0.0</td>\n",
       "      <td>0.0</td>\n",
       "      <td>0.0</td>\n",
       "      <td>0.0</td>\n",
       "      <td>0.0</td>\n",
       "      <td>0.0</td>\n",
       "    </tr>\n",
       "  </tbody>\n",
       "</table>\n",
       "<p>5 rows × 10000 columns</p>\n",
       "</div>"
      ],
      "text/plain": [
       "book_id  1      2      3      4      5      6      7      8      9      10     \\\n",
       "user_id                                                                         \n",
       "1          0.0    0.0    0.0    5.0    0.0    0.0    0.0    0.0    0.0    4.0   \n",
       "2          0.0    5.0    0.0    0.0    5.0    0.0    0.0    4.0    0.0    5.0   \n",
       "3          0.0    0.0    0.0    3.0    0.0    0.0    0.0    0.0    0.0    0.0   \n",
       "4          0.0    5.0    0.0    4.0    4.0    0.0    4.0    4.0    0.0    5.0   \n",
       "5          0.0    0.0    0.0    0.0    0.0    4.0    0.0    0.0    0.0    0.0   \n",
       "\n",
       "book_id  ...  9991   9992   9993   9994   9995   9996   9997   9998   9999   \\\n",
       "user_id  ...                                                                  \n",
       "1        ...    0.0    0.0    0.0    0.0    0.0    0.0    0.0    0.0    0.0   \n",
       "2        ...    0.0    0.0    0.0    0.0    0.0    0.0    0.0    0.0    0.0   \n",
       "3        ...    0.0    0.0    0.0    0.0    0.0    0.0    0.0    0.0    0.0   \n",
       "4        ...    0.0    0.0    0.0    0.0    0.0    0.0    0.0    0.0    0.0   \n",
       "5        ...    0.0    0.0    0.0    0.0    0.0    0.0    0.0    0.0    0.0   \n",
       "\n",
       "book_id  10000  \n",
       "user_id         \n",
       "1          0.0  \n",
       "2          0.0  \n",
       "3          0.0  \n",
       "4          0.0  \n",
       "5          0.0  \n",
       "\n",
       "[5 rows x 10000 columns]"
      ]
     },
     "execution_count": 47,
     "metadata": {},
     "output_type": "execute_result"
    }
   ],
   "source": [
    "Ratings = ratings.pivot(index = 'user_id', columns ='book_id', values = 'rating').fillna(0)\n",
    "Ratings.head()"
   ]
  },
  {
   "cell_type": "code",
   "execution_count": 48,
   "metadata": {},
   "outputs": [
    {
     "data": {
      "text/plain": [
       "(53424, 10000)"
      ]
     },
     "execution_count": 48,
     "metadata": {},
     "output_type": "execute_result"
    }
   ],
   "source": [
    "Ratings.shape"
   ]
  },
  {
   "cell_type": "markdown",
   "metadata": {},
   "source": [
    "We need to de-normalize the data (normalize by each users mean) and convert it from a dataframe to a numpy array."
   ]
  },
  {
   "cell_type": "code",
   "execution_count": 49,
   "metadata": {},
   "outputs": [
    {
     "name": "stderr",
     "output_type": "stream",
     "text": [
      "/anaconda3/lib/python3.7/site-packages/ipykernel_launcher.py:1: FutureWarning: Method .as_matrix will be removed in a future version. Use .values instead.\n",
      "  \"\"\"Entry point for launching an IPython kernel.\n"
     ]
    }
   ],
   "source": [
    "R = Ratings.as_matrix()\n",
    "user_ratings_mean = np.mean(R, axis = 1)\n",
    "Ratings_demeaned = R - user_ratings_mean.reshape(-1, 1)"
   ]
  },
  {
   "cell_type": "markdown",
   "metadata": {},
   "source": [
    "- With the ratings matrix properly formatted and normalized, we can do some dimensionality reduction."
   ]
  },
  {
   "cell_type": "markdown",
   "metadata": {},
   "source": [
    "### Model-Based Collaborative Filtering"
   ]
  },
  {
   "cell_type": "markdown",
   "metadata": {},
   "source": [
    "#### Using K-NN"
   ]
  },
  {
   "cell_type": "code",
   "execution_count": 50,
   "metadata": {},
   "outputs": [
    {
     "data": {
      "text/plain": [
       "NearestNeighbors(algorithm='brute', leaf_size=30, metric='cosine',\n",
       "         metric_params=None, n_jobs=None, n_neighbors=5, p=2, radius=1.0)"
      ]
     },
     "execution_count": 50,
     "metadata": {},
     "output_type": "execute_result"
    }
   ],
   "source": [
    "from sklearn.neighbors import NearestNeighbors\n",
    "\n",
    "model_knn = NearestNeighbors(metric = 'cosine', algorithm = 'brute')\n",
    "model_knn.fit(Ratings)"
   ]
  },
  {
   "cell_type": "markdown",
   "metadata": {},
   "source": [
    "#### Testing our model and making some recommendations"
   ]
  },
  {
   "cell_type": "code",
   "execution_count": 51,
   "metadata": {},
   "outputs": [
    {
     "data": {
      "text/plain": [
       "1"
      ]
     },
     "execution_count": 51,
     "metadata": {},
     "output_type": "execute_result"
    }
   ],
   "source": [
    "Ratings.index[0]"
   ]
  },
  {
   "cell_type": "code",
   "execution_count": 52,
   "metadata": {},
   "outputs": [
    {
     "name": "stdout",
     "output_type": "stream",
     "text": [
      "Recommendation for 42690:\n",
      "\n",
      "1: 24866, with distance of 0.42969224407360507:\n",
      "2: 31167, with distance of 0.4652172888955416:\n",
      "3: 33604, with distance of 0.47571023769328835:\n",
      "4: 44847, with distance of 0.478031707000551:\n",
      "5: 32637, with distance of 0.48568509889620015:\n"
     ]
    }
   ],
   "source": [
    "query_index = np.random.choice(Ratings.shape[0])\n",
    "distances, indices = model_knn.kneighbors(Ratings.iloc[query_index, :].values.reshape(1, -1), n_neighbors = 6)\n",
    "\n",
    "for i in range(0, len(distances.flatten())):\n",
    "    if i == 0:\n",
    "        print('Recommendation for {0}:\\n'.format(Ratings.index[query_index]))\n",
    "    else:\n",
    "        print('{0}: {1}, with distance of {2}:'.format(i, Ratings.index[indices.flatten()[i]],distances.flatten()[i]))"
   ]
  },
  {
   "cell_type": "markdown",
   "metadata": {},
   "source": [
    "#### Checking sparisty level of the dataset"
   ]
  },
  {
   "cell_type": "code",
   "execution_count": 54,
   "metadata": {},
   "outputs": [
    {
     "name": "stdout",
     "output_type": "stream",
     "text": [
      "The sparsity level of MovieLens1M dataset is 98.9%\n"
     ]
    }
   ],
   "source": [
    "sparsity = round(1.0 - len(ratings) / float(n_users * n_books), 3)\n",
    "print('The sparsity level of MovieLens1M dataset is ' +  str(sparsity * 100) + '%')"
   ]
  },
  {
   "cell_type": "markdown",
   "metadata": {},
   "source": [
    "#### Setting Up SVD\n",
    "Scipy and Numpy both have functions to do the singular value decomposition. I'm going to use the Scipy function *svds* because it let's me choose how many latent factors I want to use to approximate the original ratings matrix (instead of having to truncate it after)."
   ]
  },
  {
   "cell_type": "code",
   "execution_count": 55,
   "metadata": {},
   "outputs": [],
   "source": [
    "from scipy.sparse.linalg import svds\n",
    "U, sigma, Vt = svds(Ratings_demeaned, k = 50)"
   ]
  },
  {
   "cell_type": "markdown",
   "metadata": {},
   "source": [
    "As I'm going to leverage matrix multiplication to get predictions, I'll convert the $\\Sigma$ (now are values) to the diagonal matrix form."
   ]
  },
  {
   "cell_type": "code",
   "execution_count": 56,
   "metadata": {},
   "outputs": [],
   "source": [
    "sigma = np.diag(sigma)"
   ]
  },
  {
   "cell_type": "markdown",
   "metadata": {},
   "source": [
    "#### Making Predictions from the Decomposed Matrices\n",
    "I now have everything I need to make movie ratings predictions for every user. I can do it all at once by following the math and matrix multiply $U$, $\\Sigma$, and $V^{T}$ back to get the rank $k=50$ approximation of $A$.\n",
    "\n",
    "But first, I need to add the user means back to get the actual star ratings prediction."
   ]
  },
  {
   "cell_type": "code",
   "execution_count": 57,
   "metadata": {},
   "outputs": [],
   "source": [
    "all_user_predicted_ratings = np.dot(np.dot(U, sigma), Vt) + user_ratings_mean.reshape(-1, 1)"
   ]
  },
  {
   "cell_type": "markdown",
   "metadata": {},
   "source": [
    "With the predictions matrix for every user, I can build a function to recommend movies for any user. I return the list of movies the user has already rated, for the sake of comparison."
   ]
  },
  {
   "cell_type": "code",
   "execution_count": 58,
   "metadata": {},
   "outputs": [
    {
     "data": {
      "text/html": [
       "<div>\n",
       "<style scoped>\n",
       "    .dataframe tbody tr th:only-of-type {\n",
       "        vertical-align: middle;\n",
       "    }\n",
       "\n",
       "    .dataframe tbody tr th {\n",
       "        vertical-align: top;\n",
       "    }\n",
       "\n",
       "    .dataframe thead th {\n",
       "        text-align: right;\n",
       "    }\n",
       "</style>\n",
       "<table border=\"1\" class=\"dataframe\">\n",
       "  <thead>\n",
       "    <tr style=\"text-align: right;\">\n",
       "      <th>book_id</th>\n",
       "      <th>1</th>\n",
       "      <th>2</th>\n",
       "      <th>3</th>\n",
       "      <th>4</th>\n",
       "      <th>5</th>\n",
       "      <th>6</th>\n",
       "      <th>7</th>\n",
       "      <th>8</th>\n",
       "      <th>9</th>\n",
       "      <th>10</th>\n",
       "      <th>...</th>\n",
       "      <th>9991</th>\n",
       "      <th>9992</th>\n",
       "      <th>9993</th>\n",
       "      <th>9994</th>\n",
       "      <th>9995</th>\n",
       "      <th>9996</th>\n",
       "      <th>9997</th>\n",
       "      <th>9998</th>\n",
       "      <th>9999</th>\n",
       "      <th>10000</th>\n",
       "    </tr>\n",
       "  </thead>\n",
       "  <tbody>\n",
       "    <tr>\n",
       "      <th>0</th>\n",
       "      <td>0.566186</td>\n",
       "      <td>0.200649</td>\n",
       "      <td>0.239258</td>\n",
       "      <td>2.980974</td>\n",
       "      <td>2.009089</td>\n",
       "      <td>0.724415</td>\n",
       "      <td>0.246338</td>\n",
       "      <td>1.398146</td>\n",
       "      <td>0.363926</td>\n",
       "      <td>3.986432</td>\n",
       "      <td>...</td>\n",
       "      <td>0.054892</td>\n",
       "      <td>-0.000480</td>\n",
       "      <td>-0.007056</td>\n",
       "      <td>-0.004622</td>\n",
       "      <td>0.010961</td>\n",
       "      <td>0.014349</td>\n",
       "      <td>0.004064</td>\n",
       "      <td>0.000255</td>\n",
       "      <td>-0.003378</td>\n",
       "      <td>-0.007225</td>\n",
       "    </tr>\n",
       "    <tr>\n",
       "      <th>1</th>\n",
       "      <td>0.078189</td>\n",
       "      <td>4.485378</td>\n",
       "      <td>0.169751</td>\n",
       "      <td>2.444546</td>\n",
       "      <td>1.961955</td>\n",
       "      <td>0.644662</td>\n",
       "      <td>0.636027</td>\n",
       "      <td>1.709605</td>\n",
       "      <td>1.040235</td>\n",
       "      <td>2.794773</td>\n",
       "      <td>...</td>\n",
       "      <td>0.000463</td>\n",
       "      <td>0.003780</td>\n",
       "      <td>0.008717</td>\n",
       "      <td>-0.012558</td>\n",
       "      <td>-0.002044</td>\n",
       "      <td>0.010542</td>\n",
       "      <td>0.036487</td>\n",
       "      <td>0.003754</td>\n",
       "      <td>0.036672</td>\n",
       "      <td>0.038280</td>\n",
       "    </tr>\n",
       "    <tr>\n",
       "      <th>2</th>\n",
       "      <td>-0.031903</td>\n",
       "      <td>0.078673</td>\n",
       "      <td>-0.135178</td>\n",
       "      <td>1.637163</td>\n",
       "      <td>0.927012</td>\n",
       "      <td>-0.180742</td>\n",
       "      <td>0.209149</td>\n",
       "      <td>0.956741</td>\n",
       "      <td>-0.094428</td>\n",
       "      <td>0.397977</td>\n",
       "      <td>...</td>\n",
       "      <td>0.014760</td>\n",
       "      <td>0.008304</td>\n",
       "      <td>0.008942</td>\n",
       "      <td>0.009337</td>\n",
       "      <td>0.013517</td>\n",
       "      <td>0.003029</td>\n",
       "      <td>0.010829</td>\n",
       "      <td>0.005794</td>\n",
       "      <td>0.013871</td>\n",
       "      <td>0.011592</td>\n",
       "    </tr>\n",
       "    <tr>\n",
       "      <th>3</th>\n",
       "      <td>0.018876</td>\n",
       "      <td>4.534593</td>\n",
       "      <td>-0.041104</td>\n",
       "      <td>5.131651</td>\n",
       "      <td>3.153025</td>\n",
       "      <td>-0.854889</td>\n",
       "      <td>2.633736</td>\n",
       "      <td>3.787958</td>\n",
       "      <td>1.953813</td>\n",
       "      <td>2.521620</td>\n",
       "      <td>...</td>\n",
       "      <td>0.007307</td>\n",
       "      <td>-0.043098</td>\n",
       "      <td>-0.023740</td>\n",
       "      <td>0.018297</td>\n",
       "      <td>0.012278</td>\n",
       "      <td>0.010639</td>\n",
       "      <td>-0.008373</td>\n",
       "      <td>-0.000970</td>\n",
       "      <td>-0.006310</td>\n",
       "      <td>0.000703</td>\n",
       "    </tr>\n",
       "    <tr>\n",
       "      <th>4</th>\n",
       "      <td>-0.239790</td>\n",
       "      <td>-0.111355</td>\n",
       "      <td>-0.088477</td>\n",
       "      <td>0.123276</td>\n",
       "      <td>0.199847</td>\n",
       "      <td>1.509024</td>\n",
       "      <td>-0.066551</td>\n",
       "      <td>0.099762</td>\n",
       "      <td>0.102077</td>\n",
       "      <td>0.108069</td>\n",
       "      <td>...</td>\n",
       "      <td>0.024209</td>\n",
       "      <td>0.034106</td>\n",
       "      <td>0.025075</td>\n",
       "      <td>0.014417</td>\n",
       "      <td>0.017412</td>\n",
       "      <td>0.027896</td>\n",
       "      <td>0.021651</td>\n",
       "      <td>0.025852</td>\n",
       "      <td>0.032679</td>\n",
       "      <td>0.017620</td>\n",
       "    </tr>\n",
       "  </tbody>\n",
       "</table>\n",
       "<p>5 rows × 10000 columns</p>\n",
       "</div>"
      ],
      "text/plain": [
       "book_id     1         2         3         4         5         6         7      \\\n",
       "0        0.566186  0.200649  0.239258  2.980974  2.009089  0.724415  0.246338   \n",
       "1        0.078189  4.485378  0.169751  2.444546  1.961955  0.644662  0.636027   \n",
       "2       -0.031903  0.078673 -0.135178  1.637163  0.927012 -0.180742  0.209149   \n",
       "3        0.018876  4.534593 -0.041104  5.131651  3.153025 -0.854889  2.633736   \n",
       "4       -0.239790 -0.111355 -0.088477  0.123276  0.199847  1.509024 -0.066551   \n",
       "\n",
       "book_id     8         9         10     ...     9991      9992      9993   \\\n",
       "0        1.398146  0.363926  3.986432  ...  0.054892 -0.000480 -0.007056   \n",
       "1        1.709605  1.040235  2.794773  ...  0.000463  0.003780  0.008717   \n",
       "2        0.956741 -0.094428  0.397977  ...  0.014760  0.008304  0.008942   \n",
       "3        3.787958  1.953813  2.521620  ...  0.007307 -0.043098 -0.023740   \n",
       "4        0.099762  0.102077  0.108069  ...  0.024209  0.034106  0.025075   \n",
       "\n",
       "book_id     9994      9995      9996      9997      9998      9999      10000  \n",
       "0       -0.004622  0.010961  0.014349  0.004064  0.000255 -0.003378 -0.007225  \n",
       "1       -0.012558 -0.002044  0.010542  0.036487  0.003754  0.036672  0.038280  \n",
       "2        0.009337  0.013517  0.003029  0.010829  0.005794  0.013871  0.011592  \n",
       "3        0.018297  0.012278  0.010639 -0.008373 -0.000970 -0.006310  0.000703  \n",
       "4        0.014417  0.017412  0.027896  0.021651  0.025852  0.032679  0.017620  \n",
       "\n",
       "[5 rows x 10000 columns]"
      ]
     },
     "execution_count": 58,
     "metadata": {},
     "output_type": "execute_result"
    }
   ],
   "source": [
    "preds = pd.DataFrame(all_user_predicted_ratings, columns = Ratings.columns)\n",
    "preds.head()"
   ]
  },
  {
   "cell_type": "markdown",
   "metadata": {},
   "source": [
    "Now I write a function to return the movies with the highest predicted rating that the specified user hasn't already rated. Though I didn't use any explicit movie content features (such as genre or title), I'll merge in that information to get a more complete picture of the recommendations."
   ]
  },
  {
   "cell_type": "code",
   "execution_count": 59,
   "metadata": {},
   "outputs": [],
   "source": [
    "def recommend_books(predictions, userID, books, original_ratings, num_recommendations):\n",
    "    \n",
    "    # Get and sort the user's predictions\n",
    "    user_row_number = userID - 1 # User ID starts at 1, not 0\n",
    "    sorted_user_predictions = preds.iloc[user_row_number].sort_values(ascending=False) # User ID starts at 1\n",
    "    \n",
    "    # Get the user's data and merge in the movie information.\n",
    "    user_data = original_ratings[original_ratings.user_id == (userID)]\n",
    "    user_full = (user_data.merge(books, how = 'left', left_on = 'book_id', right_on = 'book_id').\n",
    "                     sort_values(['rating'], ascending=False)\n",
    "                 )\n",
    "\n",
    "    print('User {0} has already rated {1} books.'.format(userID, user_full.shape[0]))\n",
    "    print('Recommending highest {0} predicted ratings books not already rated.'.format(num_recommendations))\n",
    "    \n",
    "    # Recommend the highest predicted rating movies that the user hasn't seen yet.\n",
    "    recommendations = (books[~books['book_id'].isin(user_full['book_id'])].\n",
    "         merge(pd.DataFrame(sorted_user_predictions).reset_index(), how = 'left',\n",
    "               left_on = 'book_id',\n",
    "               right_on = 'book_id').\n",
    "         rename(columns = {user_row_number: 'Predictions'}).\n",
    "         sort_values('Predictions', ascending = False).\n",
    "                       iloc[:num_recommendations, :-1]\n",
    "                      )\n",
    "\n",
    "    return user_full, recommendations"
   ]
  },
  {
   "cell_type": "markdown",
   "metadata": {},
   "source": [
    "Let's try to recommend 20 movies for user with ID 1310."
   ]
  },
  {
   "cell_type": "code",
   "execution_count": 60,
   "metadata": {},
   "outputs": [
    {
     "name": "stdout",
     "output_type": "stream",
     "text": [
      "User 1310 has already rated 112 books.\n",
      "Recommending highest 20 predicted ratings books not already rated.\n"
     ]
    }
   ],
   "source": [
    "already_rated, predictions = recommend_books(preds, 1310, books, ratings, 20)"
   ]
  },
  {
   "cell_type": "code",
   "execution_count": 61,
   "metadata": {},
   "outputs": [
    {
     "data": {
      "text/html": [
       "<div>\n",
       "<style scoped>\n",
       "    .dataframe tbody tr th:only-of-type {\n",
       "        vertical-align: middle;\n",
       "    }\n",
       "\n",
       "    .dataframe tbody tr th {\n",
       "        vertical-align: top;\n",
       "    }\n",
       "\n",
       "    .dataframe thead th {\n",
       "        text-align: right;\n",
       "    }\n",
       "</style>\n",
       "<table border=\"1\" class=\"dataframe\">\n",
       "  <thead>\n",
       "    <tr style=\"text-align: right;\">\n",
       "      <th></th>\n",
       "      <th>user_id</th>\n",
       "      <th>book_id</th>\n",
       "      <th>rating</th>\n",
       "      <th>goodreads_book_id</th>\n",
       "      <th>best_book_id</th>\n",
       "      <th>work_id</th>\n",
       "      <th>books_count</th>\n",
       "      <th>isbn</th>\n",
       "      <th>isbn13</th>\n",
       "      <th>authors</th>\n",
       "      <th>...</th>\n",
       "      <th>ratings_count</th>\n",
       "      <th>work_ratings_count</th>\n",
       "      <th>work_text_reviews_count</th>\n",
       "      <th>ratings_1</th>\n",
       "      <th>ratings_2</th>\n",
       "      <th>ratings_3</th>\n",
       "      <th>ratings_4</th>\n",
       "      <th>ratings_5</th>\n",
       "      <th>image_url</th>\n",
       "      <th>small_image_url</th>\n",
       "    </tr>\n",
       "  </thead>\n",
       "  <tbody>\n",
       "    <tr>\n",
       "      <th>111</th>\n",
       "      <td>1310</td>\n",
       "      <td>4594</td>\n",
       "      <td>5</td>\n",
       "      <td>31845516</td>\n",
       "      <td>31845516</td>\n",
       "      <td>48126510</td>\n",
       "      <td>20</td>\n",
       "      <td>1250128544</td>\n",
       "      <td>9.781250e+12</td>\n",
       "      <td>Glennon Doyle Melton</td>\n",
       "      <td>...</td>\n",
       "      <td>20094</td>\n",
       "      <td>26061</td>\n",
       "      <td>3190</td>\n",
       "      <td>548</td>\n",
       "      <td>1293</td>\n",
       "      <td>4361</td>\n",
       "      <td>8772</td>\n",
       "      <td>11087</td>\n",
       "      <td>https://images.gr-assets.com/books/1473164102m...</td>\n",
       "      <td>https://images.gr-assets.com/books/1473164102s...</td>\n",
       "    </tr>\n",
       "    <tr>\n",
       "      <th>94</th>\n",
       "      <td>1310</td>\n",
       "      <td>333</td>\n",
       "      <td>5</td>\n",
       "      <td>2153405</td>\n",
       "      <td>2153405</td>\n",
       "      <td>2158906</td>\n",
       "      <td>107</td>\n",
       "      <td>595440096</td>\n",
       "      <td>9.780595e+12</td>\n",
       "      <td>Lisa Genova</td>\n",
       "      <td>...</td>\n",
       "      <td>223432</td>\n",
       "      <td>245071</td>\n",
       "      <td>24112</td>\n",
       "      <td>1178</td>\n",
       "      <td>4249</td>\n",
       "      <td>28642</td>\n",
       "      <td>96615</td>\n",
       "      <td>114387</td>\n",
       "      <td>https://s.gr-assets.com/assets/nophoto/book/11...</td>\n",
       "      <td>https://s.gr-assets.com/assets/nophoto/book/50...</td>\n",
       "    </tr>\n",
       "    <tr>\n",
       "      <th>43</th>\n",
       "      <td>1310</td>\n",
       "      <td>82</td>\n",
       "      <td>5</td>\n",
       "      <td>1845</td>\n",
       "      <td>1845</td>\n",
       "      <td>3284484</td>\n",
       "      <td>108</td>\n",
       "      <td>385486804</td>\n",
       "      <td>9.780385e+12</td>\n",
       "      <td>Jon Krakauer</td>\n",
       "      <td>...</td>\n",
       "      <td>647684</td>\n",
       "      <td>665377</td>\n",
       "      <td>17299</td>\n",
       "      <td>19229</td>\n",
       "      <td>35567</td>\n",
       "      <td>135199</td>\n",
       "      <td>248287</td>\n",
       "      <td>227095</td>\n",
       "      <td>https://images.gr-assets.com/books/1403173986m...</td>\n",
       "      <td>https://images.gr-assets.com/books/1403173986s...</td>\n",
       "    </tr>\n",
       "    <tr>\n",
       "      <th>1</th>\n",
       "      <td>1310</td>\n",
       "      <td>33</td>\n",
       "      <td>5</td>\n",
       "      <td>930</td>\n",
       "      <td>929</td>\n",
       "      <td>1558965</td>\n",
       "      <td>220</td>\n",
       "      <td>739326228</td>\n",
       "      <td>9.780739e+12</td>\n",
       "      <td>Arthur Golden</td>\n",
       "      <td>...</td>\n",
       "      <td>1300209</td>\n",
       "      <td>1418172</td>\n",
       "      <td>25605</td>\n",
       "      <td>23500</td>\n",
       "      <td>59033</td>\n",
       "      <td>258700</td>\n",
       "      <td>517157</td>\n",
       "      <td>559782</td>\n",
       "      <td>https://s.gr-assets.com/assets/nophoto/book/11...</td>\n",
       "      <td>https://s.gr-assets.com/assets/nophoto/book/50...</td>\n",
       "    </tr>\n",
       "    <tr>\n",
       "      <th>61</th>\n",
       "      <td>1310</td>\n",
       "      <td>5059</td>\n",
       "      <td>5</td>\n",
       "      <td>10115852</td>\n",
       "      <td>10115852</td>\n",
       "      <td>15013397</td>\n",
       "      <td>24</td>\n",
       "      <td>006204964X</td>\n",
       "      <td>9.780062e+12</td>\n",
       "      <td>Rob Bell</td>\n",
       "      <td>...</td>\n",
       "      <td>17668</td>\n",
       "      <td>19093</td>\n",
       "      <td>1979</td>\n",
       "      <td>2184</td>\n",
       "      <td>1771</td>\n",
       "      <td>4050</td>\n",
       "      <td>5805</td>\n",
       "      <td>5283</td>\n",
       "      <td>https://images.gr-assets.com/books/1327878550m...</td>\n",
       "      <td>https://images.gr-assets.com/books/1327878550s...</td>\n",
       "    </tr>\n",
       "    <tr>\n",
       "      <th>63</th>\n",
       "      <td>1310</td>\n",
       "      <td>2667</td>\n",
       "      <td>5</td>\n",
       "      <td>8592946</td>\n",
       "      <td>8592946</td>\n",
       "      <td>13462590</td>\n",
       "      <td>30</td>\n",
       "      <td>310321913</td>\n",
       "      <td>9.780310e+12</td>\n",
       "      <td>Ann Voskamp</td>\n",
       "      <td>...</td>\n",
       "      <td>33960</td>\n",
       "      <td>35216</td>\n",
       "      <td>2918</td>\n",
       "      <td>1492</td>\n",
       "      <td>2377</td>\n",
       "      <td>5805</td>\n",
       "      <td>9323</td>\n",
       "      <td>16219</td>\n",
       "      <td>https://images.gr-assets.com/books/1393970725m...</td>\n",
       "      <td>https://images.gr-assets.com/books/1393970725s...</td>\n",
       "    </tr>\n",
       "    <tr>\n",
       "      <th>66</th>\n",
       "      <td>1310</td>\n",
       "      <td>2948</td>\n",
       "      <td>5</td>\n",
       "      <td>9219901</td>\n",
       "      <td>9219901</td>\n",
       "      <td>14099848</td>\n",
       "      <td>18</td>\n",
       "      <td>1439177805</td>\n",
       "      <td>9.781439e+12</td>\n",
       "      <td>Portia de Rossi</td>\n",
       "      <td>...</td>\n",
       "      <td>30676</td>\n",
       "      <td>33353</td>\n",
       "      <td>2414</td>\n",
       "      <td>854</td>\n",
       "      <td>2265</td>\n",
       "      <td>8272</td>\n",
       "      <td>12285</td>\n",
       "      <td>9677</td>\n",
       "      <td>https://images.gr-assets.com/books/1292739170m...</td>\n",
       "      <td>https://images.gr-assets.com/books/1292739170s...</td>\n",
       "    </tr>\n",
       "    <tr>\n",
       "      <th>31</th>\n",
       "      <td>1310</td>\n",
       "      <td>81</td>\n",
       "      <td>5</td>\n",
       "      <td>7445</td>\n",
       "      <td>7445</td>\n",
       "      <td>2944133</td>\n",
       "      <td>92</td>\n",
       "      <td>074324754X</td>\n",
       "      <td>9.780743e+12</td>\n",
       "      <td>Jeannette Walls</td>\n",
       "      <td>...</td>\n",
       "      <td>621099</td>\n",
       "      <td>637866</td>\n",
       "      <td>40777</td>\n",
       "      <td>7901</td>\n",
       "      <td>18922</td>\n",
       "      <td>85191</td>\n",
       "      <td>227750</td>\n",
       "      <td>298102</td>\n",
       "      <td>https://images.gr-assets.com/books/1400930557m...</td>\n",
       "      <td>https://images.gr-assets.com/books/1400930557s...</td>\n",
       "    </tr>\n",
       "    <tr>\n",
       "      <th>46</th>\n",
       "      <td>1310</td>\n",
       "      <td>436</td>\n",
       "      <td>5</td>\n",
       "      <td>9777</td>\n",
       "      <td>9777</td>\n",
       "      <td>810135</td>\n",
       "      <td>168</td>\n",
       "      <td>679457313</td>\n",
       "      <td>9.780679e+12</td>\n",
       "      <td>Arundhati Roy</td>\n",
       "      <td>...</td>\n",
       "      <td>165378</td>\n",
       "      <td>182127</td>\n",
       "      <td>9294</td>\n",
       "      <td>5833</td>\n",
       "      <td>12631</td>\n",
       "      <td>37349</td>\n",
       "      <td>61880</td>\n",
       "      <td>64434</td>\n",
       "      <td>https://images.gr-assets.com/books/1436217001m...</td>\n",
       "      <td>https://images.gr-assets.com/books/1436217001s...</td>\n",
       "    </tr>\n",
       "    <tr>\n",
       "      <th>86</th>\n",
       "      <td>1310</td>\n",
       "      <td>1141</td>\n",
       "      <td>5</td>\n",
       "      <td>13099738</td>\n",
       "      <td>13099738</td>\n",
       "      <td>18272194</td>\n",
       "      <td>33</td>\n",
       "      <td>761169253</td>\n",
       "      <td>9.780761e+12</td>\n",
       "      <td>Austin Kleon</td>\n",
       "      <td>...</td>\n",
       "      <td>93625</td>\n",
       "      <td>97114</td>\n",
       "      <td>3270</td>\n",
       "      <td>6460</td>\n",
       "      <td>6550</td>\n",
       "      <td>18714</td>\n",
       "      <td>27654</td>\n",
       "      <td>37736</td>\n",
       "      <td>https://images.gr-assets.com/books/1404576602m...</td>\n",
       "      <td>https://images.gr-assets.com/books/1404576602s...</td>\n",
       "    </tr>\n",
       "  </tbody>\n",
       "</table>\n",
       "<p>10 rows × 25 columns</p>\n",
       "</div>"
      ],
      "text/plain": [
       "     user_id  book_id  rating  goodreads_book_id  best_book_id   work_id  \\\n",
       "111     1310     4594       5           31845516      31845516  48126510   \n",
       "94      1310      333       5            2153405       2153405   2158906   \n",
       "43      1310       82       5               1845          1845   3284484   \n",
       "1       1310       33       5                930           929   1558965   \n",
       "61      1310     5059       5           10115852      10115852  15013397   \n",
       "63      1310     2667       5            8592946       8592946  13462590   \n",
       "66      1310     2948       5            9219901       9219901  14099848   \n",
       "31      1310       81       5               7445          7445   2944133   \n",
       "46      1310      436       5               9777          9777    810135   \n",
       "86      1310     1141       5           13099738      13099738  18272194   \n",
       "\n",
       "     books_count        isbn        isbn13               authors  ...  \\\n",
       "111           20  1250128544  9.781250e+12  Glennon Doyle Melton  ...   \n",
       "94           107   595440096  9.780595e+12           Lisa Genova  ...   \n",
       "43           108   385486804  9.780385e+12          Jon Krakauer  ...   \n",
       "1            220   739326228  9.780739e+12         Arthur Golden  ...   \n",
       "61            24  006204964X  9.780062e+12              Rob Bell  ...   \n",
       "63            30   310321913  9.780310e+12           Ann Voskamp  ...   \n",
       "66            18  1439177805  9.781439e+12       Portia de Rossi  ...   \n",
       "31            92  074324754X  9.780743e+12       Jeannette Walls  ...   \n",
       "46           168   679457313  9.780679e+12         Arundhati Roy  ...   \n",
       "86            33   761169253  9.780761e+12          Austin Kleon  ...   \n",
       "\n",
       "     ratings_count work_ratings_count work_text_reviews_count ratings_1  \\\n",
       "111          20094              26061                    3190       548   \n",
       "94          223432             245071                   24112      1178   \n",
       "43          647684             665377                   17299     19229   \n",
       "1          1300209            1418172                   25605     23500   \n",
       "61           17668              19093                    1979      2184   \n",
       "63           33960              35216                    2918      1492   \n",
       "66           30676              33353                    2414       854   \n",
       "31          621099             637866                   40777      7901   \n",
       "46          165378             182127                    9294      5833   \n",
       "86           93625              97114                    3270      6460   \n",
       "\n",
       "     ratings_2  ratings_3  ratings_4  ratings_5  \\\n",
       "111       1293       4361       8772      11087   \n",
       "94        4249      28642      96615     114387   \n",
       "43       35567     135199     248287     227095   \n",
       "1        59033     258700     517157     559782   \n",
       "61        1771       4050       5805       5283   \n",
       "63        2377       5805       9323      16219   \n",
       "66        2265       8272      12285       9677   \n",
       "31       18922      85191     227750     298102   \n",
       "46       12631      37349      61880      64434   \n",
       "86        6550      18714      27654      37736   \n",
       "\n",
       "                                             image_url  \\\n",
       "111  https://images.gr-assets.com/books/1473164102m...   \n",
       "94   https://s.gr-assets.com/assets/nophoto/book/11...   \n",
       "43   https://images.gr-assets.com/books/1403173986m...   \n",
       "1    https://s.gr-assets.com/assets/nophoto/book/11...   \n",
       "61   https://images.gr-assets.com/books/1327878550m...   \n",
       "63   https://images.gr-assets.com/books/1393970725m...   \n",
       "66   https://images.gr-assets.com/books/1292739170m...   \n",
       "31   https://images.gr-assets.com/books/1400930557m...   \n",
       "46   https://images.gr-assets.com/books/1436217001m...   \n",
       "86   https://images.gr-assets.com/books/1404576602m...   \n",
       "\n",
       "                                       small_image_url  \n",
       "111  https://images.gr-assets.com/books/1473164102s...  \n",
       "94   https://s.gr-assets.com/assets/nophoto/book/50...  \n",
       "43   https://images.gr-assets.com/books/1403173986s...  \n",
       "1    https://s.gr-assets.com/assets/nophoto/book/50...  \n",
       "61   https://images.gr-assets.com/books/1327878550s...  \n",
       "63   https://images.gr-assets.com/books/1393970725s...  \n",
       "66   https://images.gr-assets.com/books/1292739170s...  \n",
       "31   https://images.gr-assets.com/books/1400930557s...  \n",
       "46   https://images.gr-assets.com/books/1436217001s...  \n",
       "86   https://images.gr-assets.com/books/1404576602s...  \n",
       "\n",
       "[10 rows x 25 columns]"
      ]
     },
     "execution_count": 61,
     "metadata": {},
     "output_type": "execute_result"
    }
   ],
   "source": [
    "# Top 10 movies that User 1310 has rated \n",
    "already_rated.head(10)"
   ]
  },
  {
   "cell_type": "code",
   "execution_count": 62,
   "metadata": {},
   "outputs": [
    {
     "data": {
      "text/html": [
       "<div>\n",
       "<style scoped>\n",
       "    .dataframe tbody tr th:only-of-type {\n",
       "        vertical-align: middle;\n",
       "    }\n",
       "\n",
       "    .dataframe tbody tr th {\n",
       "        vertical-align: top;\n",
       "    }\n",
       "\n",
       "    .dataframe thead th {\n",
       "        text-align: right;\n",
       "    }\n",
       "</style>\n",
       "<table border=\"1\" class=\"dataframe\">\n",
       "  <thead>\n",
       "    <tr style=\"text-align: right;\">\n",
       "      <th></th>\n",
       "      <th>book_id</th>\n",
       "      <th>goodreads_book_id</th>\n",
       "      <th>best_book_id</th>\n",
       "      <th>work_id</th>\n",
       "      <th>books_count</th>\n",
       "      <th>isbn</th>\n",
       "      <th>isbn13</th>\n",
       "      <th>authors</th>\n",
       "      <th>original_publication_year</th>\n",
       "      <th>original_title</th>\n",
       "      <th>...</th>\n",
       "      <th>ratings_count</th>\n",
       "      <th>work_ratings_count</th>\n",
       "      <th>work_text_reviews_count</th>\n",
       "      <th>ratings_1</th>\n",
       "      <th>ratings_2</th>\n",
       "      <th>ratings_3</th>\n",
       "      <th>ratings_4</th>\n",
       "      <th>ratings_5</th>\n",
       "      <th>image_url</th>\n",
       "      <th>small_image_url</th>\n",
       "    </tr>\n",
       "  </thead>\n",
       "  <tbody>\n",
       "    <tr>\n",
       "      <th>28</th>\n",
       "      <td>45</td>\n",
       "      <td>4214</td>\n",
       "      <td>4214</td>\n",
       "      <td>1392700</td>\n",
       "      <td>264</td>\n",
       "      <td>770430074</td>\n",
       "      <td>9.780770e+12</td>\n",
       "      <td>Yann Martel</td>\n",
       "      <td>2001.0</td>\n",
       "      <td>Life of Pi</td>\n",
       "      <td>...</td>\n",
       "      <td>1003228</td>\n",
       "      <td>1077431</td>\n",
       "      <td>42962</td>\n",
       "      <td>39768</td>\n",
       "      <td>74331</td>\n",
       "      <td>218702</td>\n",
       "      <td>384164</td>\n",
       "      <td>360466</td>\n",
       "      <td>https://images.gr-assets.com/books/1320562005m...</td>\n",
       "      <td>https://images.gr-assets.com/books/1320562005s...</td>\n",
       "    </tr>\n",
       "    <tr>\n",
       "      <th>37</th>\n",
       "      <td>57</td>\n",
       "      <td>37435</td>\n",
       "      <td>37435</td>\n",
       "      <td>3275013</td>\n",
       "      <td>125</td>\n",
       "      <td>142001740</td>\n",
       "      <td>9.780142e+12</td>\n",
       "      <td>Sue Monk Kidd</td>\n",
       "      <td>2001.0</td>\n",
       "      <td>The Secret Life of Bees</td>\n",
       "      <td>...</td>\n",
       "      <td>916189</td>\n",
       "      <td>937393</td>\n",
       "      <td>26522</td>\n",
       "      <td>17500</td>\n",
       "      <td>45455</td>\n",
       "      <td>185631</td>\n",
       "      <td>347540</td>\n",
       "      <td>341267</td>\n",
       "      <td>https://images.gr-assets.com/books/1473454532m...</td>\n",
       "      <td>https://images.gr-assets.com/books/1473454532s...</td>\n",
       "    </tr>\n",
       "    <tr>\n",
       "      <th>22</th>\n",
       "      <td>38</td>\n",
       "      <td>14050</td>\n",
       "      <td>18619684</td>\n",
       "      <td>2153746</td>\n",
       "      <td>167</td>\n",
       "      <td>965818675</td>\n",
       "      <td>9.780966e+12</td>\n",
       "      <td>Audrey Niffenegger</td>\n",
       "      <td>2003.0</td>\n",
       "      <td>The Time Traveler's Wife</td>\n",
       "      <td>...</td>\n",
       "      <td>746287</td>\n",
       "      <td>1308667</td>\n",
       "      <td>43382</td>\n",
       "      <td>44339</td>\n",
       "      <td>85429</td>\n",
       "      <td>257805</td>\n",
       "      <td>427210</td>\n",
       "      <td>493884</td>\n",
       "      <td>https://images.gr-assets.com/books/1437728815m...</td>\n",
       "      <td>https://images.gr-assets.com/books/1437728815s...</td>\n",
       "    </tr>\n",
       "    <tr>\n",
       "      <th>43</th>\n",
       "      <td>64</td>\n",
       "      <td>10917</td>\n",
       "      <td>10917</td>\n",
       "      <td>1639903</td>\n",
       "      <td>125</td>\n",
       "      <td>743454537</td>\n",
       "      <td>9.780743e+12</td>\n",
       "      <td>Jodi Picoult</td>\n",
       "      <td>2004.0</td>\n",
       "      <td>My Sister's Keeper</td>\n",
       "      <td>...</td>\n",
       "      <td>863879</td>\n",
       "      <td>887880</td>\n",
       "      <td>30719</td>\n",
       "      <td>17547</td>\n",
       "      <td>42763</td>\n",
       "      <td>162573</td>\n",
       "      <td>314003</td>\n",
       "      <td>350994</td>\n",
       "      <td>https://images.gr-assets.com/books/1369504683m...</td>\n",
       "      <td>https://images.gr-assets.com/books/1369504683s...</td>\n",
       "    </tr>\n",
       "    <tr>\n",
       "      <th>40</th>\n",
       "      <td>60</td>\n",
       "      <td>1618</td>\n",
       "      <td>1618</td>\n",
       "      <td>4259809</td>\n",
       "      <td>183</td>\n",
       "      <td>1400032717</td>\n",
       "      <td>9.781400e+12</td>\n",
       "      <td>Mark Haddon</td>\n",
       "      <td>2003.0</td>\n",
       "      <td>The Curious Incident of the Dog in the Night-Time</td>\n",
       "      <td>...</td>\n",
       "      <td>867553</td>\n",
       "      <td>915790</td>\n",
       "      <td>35796</td>\n",
       "      <td>21049</td>\n",
       "      <td>58117</td>\n",
       "      <td>218218</td>\n",
       "      <td>355925</td>\n",
       "      <td>262481</td>\n",
       "      <td>https://images.gr-assets.com/books/1479863624m...</td>\n",
       "      <td>https://images.gr-assets.com/books/1479863624s...</td>\n",
       "    </tr>\n",
       "    <tr>\n",
       "      <th>6</th>\n",
       "      <td>13</td>\n",
       "      <td>5470</td>\n",
       "      <td>5470</td>\n",
       "      <td>153313</td>\n",
       "      <td>995</td>\n",
       "      <td>451524934</td>\n",
       "      <td>9.780452e+12</td>\n",
       "      <td>George Orwell, Erich Fromm, Celâl Üster</td>\n",
       "      <td>1949.0</td>\n",
       "      <td>Nineteen Eighty-Four</td>\n",
       "      <td>...</td>\n",
       "      <td>1956832</td>\n",
       "      <td>2053394</td>\n",
       "      <td>45518</td>\n",
       "      <td>41845</td>\n",
       "      <td>86425</td>\n",
       "      <td>324874</td>\n",
       "      <td>692021</td>\n",
       "      <td>908229</td>\n",
       "      <td>https://images.gr-assets.com/books/1348990566m...</td>\n",
       "      <td>https://images.gr-assets.com/books/1348990566s...</td>\n",
       "    </tr>\n",
       "    <tr>\n",
       "      <th>188</th>\n",
       "      <td>231</td>\n",
       "      <td>556602</td>\n",
       "      <td>556602</td>\n",
       "      <td>2523229</td>\n",
       "      <td>117</td>\n",
       "      <td>312370830</td>\n",
       "      <td>9.780312e+12</td>\n",
       "      <td>Tatiana de Rosnay</td>\n",
       "      <td>2007.0</td>\n",
       "      <td>Elle s'appelait Sarah</td>\n",
       "      <td>...</td>\n",
       "      <td>312444</td>\n",
       "      <td>347631</td>\n",
       "      <td>26614</td>\n",
       "      <td>3865</td>\n",
       "      <td>12684</td>\n",
       "      <td>55760</td>\n",
       "      <td>134748</td>\n",
       "      <td>140574</td>\n",
       "      <td>https://s.gr-assets.com/assets/nophoto/book/11...</td>\n",
       "      <td>https://s.gr-assets.com/assets/nophoto/book/50...</td>\n",
       "    </tr>\n",
       "    <tr>\n",
       "      <th>17</th>\n",
       "      <td>30</td>\n",
       "      <td>8442457</td>\n",
       "      <td>19288043</td>\n",
       "      <td>13306276</td>\n",
       "      <td>196</td>\n",
       "      <td>297859382</td>\n",
       "      <td>9.780298e+12</td>\n",
       "      <td>Gillian Flynn</td>\n",
       "      <td>2012.0</td>\n",
       "      <td>Gone Girl</td>\n",
       "      <td>...</td>\n",
       "      <td>512475</td>\n",
       "      <td>1626519</td>\n",
       "      <td>121614</td>\n",
       "      <td>38874</td>\n",
       "      <td>80807</td>\n",
       "      <td>280331</td>\n",
       "      <td>616031</td>\n",
       "      <td>610476</td>\n",
       "      <td>https://images.gr-assets.com/books/1339602131m...</td>\n",
       "      <td>https://images.gr-assets.com/books/1339602131s...</td>\n",
       "    </tr>\n",
       "    <tr>\n",
       "      <th>109</th>\n",
       "      <td>143</td>\n",
       "      <td>18143977</td>\n",
       "      <td>18143977</td>\n",
       "      <td>25491300</td>\n",
       "      <td>139</td>\n",
       "      <td>1476746583</td>\n",
       "      <td>9.781477e+12</td>\n",
       "      <td>Anthony Doerr</td>\n",
       "      <td>2014.0</td>\n",
       "      <td>NaN</td>\n",
       "      <td>...</td>\n",
       "      <td>470001</td>\n",
       "      <td>547827</td>\n",
       "      <td>53413</td>\n",
       "      <td>6209</td>\n",
       "      <td>14527</td>\n",
       "      <td>61020</td>\n",
       "      <td>185239</td>\n",
       "      <td>280832</td>\n",
       "      <td>https://images.gr-assets.com/books/1451445646m...</td>\n",
       "      <td>https://images.gr-assets.com/books/1451445646s...</td>\n",
       "    </tr>\n",
       "    <tr>\n",
       "      <th>154</th>\n",
       "      <td>195</td>\n",
       "      <td>2728527</td>\n",
       "      <td>2728527</td>\n",
       "      <td>2754161</td>\n",
       "      <td>116</td>\n",
       "      <td>385340990</td>\n",
       "      <td>9.780385e+12</td>\n",
       "      <td>Mary Ann Shaffer, Annie Barrows</td>\n",
       "      <td>2008.0</td>\n",
       "      <td>The Guernsey Literary and Potato Peel Pie Society</td>\n",
       "      <td>...</td>\n",
       "      <td>393626</td>\n",
       "      <td>423672</td>\n",
       "      <td>39853</td>\n",
       "      <td>7190</td>\n",
       "      <td>17250</td>\n",
       "      <td>68942</td>\n",
       "      <td>155107</td>\n",
       "      <td>175183</td>\n",
       "      <td>https://images.gr-assets.com/books/1351979318m...</td>\n",
       "      <td>https://images.gr-assets.com/books/1351979318s...</td>\n",
       "    </tr>\n",
       "    <tr>\n",
       "      <th>99</th>\n",
       "      <td>132</td>\n",
       "      <td>3431</td>\n",
       "      <td>3431</td>\n",
       "      <td>2561472</td>\n",
       "      <td>123</td>\n",
       "      <td>1401308589</td>\n",
       "      <td>9.781401e+12</td>\n",
       "      <td>Mitch Albom</td>\n",
       "      <td>2003.0</td>\n",
       "      <td>The Five People You Meet in Heaven</td>\n",
       "      <td>...</td>\n",
       "      <td>449501</td>\n",
       "      <td>474699</td>\n",
       "      <td>16682</td>\n",
       "      <td>12360</td>\n",
       "      <td>33669</td>\n",
       "      <td>107800</td>\n",
       "      <td>155830</td>\n",
       "      <td>165040</td>\n",
       "      <td>https://s.gr-assets.com/assets/nophoto/book/11...</td>\n",
       "      <td>https://s.gr-assets.com/assets/nophoto/book/50...</td>\n",
       "    </tr>\n",
       "    <tr>\n",
       "      <th>7</th>\n",
       "      <td>15</td>\n",
       "      <td>48855</td>\n",
       "      <td>48855</td>\n",
       "      <td>3532896</td>\n",
       "      <td>710</td>\n",
       "      <td>553296981</td>\n",
       "      <td>9.780553e+12</td>\n",
       "      <td>Anne Frank, Eleanor Roosevelt, B.M. Mooyaart-D...</td>\n",
       "      <td>1947.0</td>\n",
       "      <td>Het Achterhuis: Dagboekbrieven 14 juni 1942 - ...</td>\n",
       "      <td>...</td>\n",
       "      <td>1972666</td>\n",
       "      <td>2024493</td>\n",
       "      <td>20825</td>\n",
       "      <td>45225</td>\n",
       "      <td>91270</td>\n",
       "      <td>355756</td>\n",
       "      <td>656870</td>\n",
       "      <td>875372</td>\n",
       "      <td>https://images.gr-assets.com/books/1358276407m...</td>\n",
       "      <td>https://images.gr-assets.com/books/1358276407s...</td>\n",
       "    </tr>\n",
       "    <tr>\n",
       "      <th>93</th>\n",
       "      <td>124</td>\n",
       "      <td>7937843</td>\n",
       "      <td>7937843</td>\n",
       "      <td>9585076</td>\n",
       "      <td>151</td>\n",
       "      <td>316098337</td>\n",
       "      <td>9.780316e+12</td>\n",
       "      <td>Emma Donoghue</td>\n",
       "      <td>2010.0</td>\n",
       "      <td>Room</td>\n",
       "      <td>...</td>\n",
       "      <td>511360</td>\n",
       "      <td>556327</td>\n",
       "      <td>42254</td>\n",
       "      <td>11020</td>\n",
       "      <td>26079</td>\n",
       "      <td>99831</td>\n",
       "      <td>217995</td>\n",
       "      <td>201402</td>\n",
       "      <td>https://images.gr-assets.com/books/1344265419m...</td>\n",
       "      <td>https://images.gr-assets.com/books/1344265419s...</td>\n",
       "    </tr>\n",
       "    <tr>\n",
       "      <th>3</th>\n",
       "      <td>8</td>\n",
       "      <td>5107</td>\n",
       "      <td>5107</td>\n",
       "      <td>3036731</td>\n",
       "      <td>360</td>\n",
       "      <td>316769177</td>\n",
       "      <td>9.780317e+12</td>\n",
       "      <td>J.D. Salinger</td>\n",
       "      <td>1951.0</td>\n",
       "      <td>The Catcher in the Rye</td>\n",
       "      <td>...</td>\n",
       "      <td>2044241</td>\n",
       "      <td>2120637</td>\n",
       "      <td>44920</td>\n",
       "      <td>109383</td>\n",
       "      <td>185520</td>\n",
       "      <td>455042</td>\n",
       "      <td>661516</td>\n",
       "      <td>709176</td>\n",
       "      <td>https://images.gr-assets.com/books/1398034300m...</td>\n",
       "      <td>https://images.gr-assets.com/books/1398034300s...</td>\n",
       "    </tr>\n",
       "    <tr>\n",
       "      <th>108</th>\n",
       "      <td>142</td>\n",
       "      <td>5043</td>\n",
       "      <td>5043</td>\n",
       "      <td>3359698</td>\n",
       "      <td>255</td>\n",
       "      <td>451207149</td>\n",
       "      <td>9.780451e+12</td>\n",
       "      <td>Ken Follett</td>\n",
       "      <td>1989.0</td>\n",
       "      <td>The Pillars of the Earth</td>\n",
       "      <td>...</td>\n",
       "      <td>462517</td>\n",
       "      <td>495893</td>\n",
       "      <td>26283</td>\n",
       "      <td>9248</td>\n",
       "      <td>16886</td>\n",
       "      <td>57825</td>\n",
       "      <td>148052</td>\n",
       "      <td>263882</td>\n",
       "      <td>https://s.gr-assets.com/assets/nophoto/book/11...</td>\n",
       "      <td>https://s.gr-assets.com/assets/nophoto/book/50...</td>\n",
       "    </tr>\n",
       "    <tr>\n",
       "      <th>18</th>\n",
       "      <td>32</td>\n",
       "      <td>890</td>\n",
       "      <td>890</td>\n",
       "      <td>40283</td>\n",
       "      <td>373</td>\n",
       "      <td>142000671</td>\n",
       "      <td>9.780142e+12</td>\n",
       "      <td>John Steinbeck</td>\n",
       "      <td>1937.0</td>\n",
       "      <td>Of Mice and Men</td>\n",
       "      <td>...</td>\n",
       "      <td>1467496</td>\n",
       "      <td>1518741</td>\n",
       "      <td>24642</td>\n",
       "      <td>46630</td>\n",
       "      <td>110856</td>\n",
       "      <td>355169</td>\n",
       "      <td>532291</td>\n",
       "      <td>473795</td>\n",
       "      <td>https://images.gr-assets.com/books/1437235233m...</td>\n",
       "      <td>https://images.gr-assets.com/books/1437235233s...</td>\n",
       "    </tr>\n",
       "    <tr>\n",
       "      <th>15</th>\n",
       "      <td>28</td>\n",
       "      <td>7624</td>\n",
       "      <td>7624</td>\n",
       "      <td>2766512</td>\n",
       "      <td>458</td>\n",
       "      <td>140283331</td>\n",
       "      <td>9.780140e+12</td>\n",
       "      <td>William Golding</td>\n",
       "      <td>1954.0</td>\n",
       "      <td>Lord of the Flies</td>\n",
       "      <td>...</td>\n",
       "      <td>1605019</td>\n",
       "      <td>1671484</td>\n",
       "      <td>26886</td>\n",
       "      <td>92779</td>\n",
       "      <td>160295</td>\n",
       "      <td>425648</td>\n",
       "      <td>564916</td>\n",
       "      <td>427846</td>\n",
       "      <td>https://images.gr-assets.com/books/1327869409m...</td>\n",
       "      <td>https://images.gr-assets.com/books/1327869409s...</td>\n",
       "    </tr>\n",
       "    <tr>\n",
       "      <th>63</th>\n",
       "      <td>87</td>\n",
       "      <td>1617</td>\n",
       "      <td>1617</td>\n",
       "      <td>265616</td>\n",
       "      <td>109</td>\n",
       "      <td>374500010</td>\n",
       "      <td>9.780375e+12</td>\n",
       "      <td>Elie Wiesel, Marion Wiesel</td>\n",
       "      <td>1958.0</td>\n",
       "      <td>Un di Velt Hot Geshvign</td>\n",
       "      <td>...</td>\n",
       "      <td>691231</td>\n",
       "      <td>707879</td>\n",
       "      <td>22001</td>\n",
       "      <td>7761</td>\n",
       "      <td>18539</td>\n",
       "      <td>90575</td>\n",
       "      <td>230227</td>\n",
       "      <td>360777</td>\n",
       "      <td>https://images.gr-assets.com/books/1473495285m...</td>\n",
       "      <td>https://images.gr-assets.com/books/1473495285s...</td>\n",
       "    </tr>\n",
       "    <tr>\n",
       "      <th>303</th>\n",
       "      <td>359</td>\n",
       "      <td>16115612</td>\n",
       "      <td>16115612</td>\n",
       "      <td>21933087</td>\n",
       "      <td>135</td>\n",
       "      <td>159463176X</td>\n",
       "      <td>9.781595e+12</td>\n",
       "      <td>Khaled Hosseini</td>\n",
       "      <td>2012.0</td>\n",
       "      <td>And The Mountains Echoed</td>\n",
       "      <td>...</td>\n",
       "      <td>199326</td>\n",
       "      <td>229116</td>\n",
       "      <td>24084</td>\n",
       "      <td>2049</td>\n",
       "      <td>9146</td>\n",
       "      <td>45985</td>\n",
       "      <td>93953</td>\n",
       "      <td>77983</td>\n",
       "      <td>https://images.gr-assets.com/books/1358190204m...</td>\n",
       "      <td>https://images.gr-assets.com/books/1358190204s...</td>\n",
       "    </tr>\n",
       "    <tr>\n",
       "      <th>218</th>\n",
       "      <td>267</td>\n",
       "      <td>21853621</td>\n",
       "      <td>21853621</td>\n",
       "      <td>41125521</td>\n",
       "      <td>90</td>\n",
       "      <td>312577222</td>\n",
       "      <td>9.780313e+12</td>\n",
       "      <td>Kristin Hannah</td>\n",
       "      <td>2015.0</td>\n",
       "      <td>The Nightingale</td>\n",
       "      <td>...</td>\n",
       "      <td>253606</td>\n",
       "      <td>327015</td>\n",
       "      <td>37279</td>\n",
       "      <td>2829</td>\n",
       "      <td>4913</td>\n",
       "      <td>20612</td>\n",
       "      <td>82844</td>\n",
       "      <td>215817</td>\n",
       "      <td>https://images.gr-assets.com/books/1451446316m...</td>\n",
       "      <td>https://images.gr-assets.com/books/1451446316s...</td>\n",
       "    </tr>\n",
       "  </tbody>\n",
       "</table>\n",
       "<p>20 rows × 23 columns</p>\n",
       "</div>"
      ],
      "text/plain": [
       "     book_id  goodreads_book_id  best_book_id   work_id  books_count  \\\n",
       "28        45               4214          4214   1392700          264   \n",
       "37        57              37435         37435   3275013          125   \n",
       "22        38              14050      18619684   2153746          167   \n",
       "43        64              10917         10917   1639903          125   \n",
       "40        60               1618          1618   4259809          183   \n",
       "6         13               5470          5470    153313          995   \n",
       "188      231             556602        556602   2523229          117   \n",
       "17        30            8442457      19288043  13306276          196   \n",
       "109      143           18143977      18143977  25491300          139   \n",
       "154      195            2728527       2728527   2754161          116   \n",
       "99       132               3431          3431   2561472          123   \n",
       "7         15              48855         48855   3532896          710   \n",
       "93       124            7937843       7937843   9585076          151   \n",
       "3          8               5107          5107   3036731          360   \n",
       "108      142               5043          5043   3359698          255   \n",
       "18        32                890           890     40283          373   \n",
       "15        28               7624          7624   2766512          458   \n",
       "63        87               1617          1617    265616          109   \n",
       "303      359           16115612      16115612  21933087          135   \n",
       "218      267           21853621      21853621  41125521           90   \n",
       "\n",
       "           isbn        isbn13  \\\n",
       "28    770430074  9.780770e+12   \n",
       "37    142001740  9.780142e+12   \n",
       "22    965818675  9.780966e+12   \n",
       "43    743454537  9.780743e+12   \n",
       "40   1400032717  9.781400e+12   \n",
       "6     451524934  9.780452e+12   \n",
       "188   312370830  9.780312e+12   \n",
       "17    297859382  9.780298e+12   \n",
       "109  1476746583  9.781477e+12   \n",
       "154   385340990  9.780385e+12   \n",
       "99   1401308589  9.781401e+12   \n",
       "7     553296981  9.780553e+12   \n",
       "93    316098337  9.780316e+12   \n",
       "3     316769177  9.780317e+12   \n",
       "108   451207149  9.780451e+12   \n",
       "18    142000671  9.780142e+12   \n",
       "15    140283331  9.780140e+12   \n",
       "63    374500010  9.780375e+12   \n",
       "303  159463176X  9.781595e+12   \n",
       "218   312577222  9.780313e+12   \n",
       "\n",
       "                                               authors  \\\n",
       "28                                         Yann Martel   \n",
       "37                                       Sue Monk Kidd   \n",
       "22                                  Audrey Niffenegger   \n",
       "43                                        Jodi Picoult   \n",
       "40                                         Mark Haddon   \n",
       "6              George Orwell, Erich Fromm, Celâl Üster   \n",
       "188                                  Tatiana de Rosnay   \n",
       "17                                       Gillian Flynn   \n",
       "109                                      Anthony Doerr   \n",
       "154                    Mary Ann Shaffer, Annie Barrows   \n",
       "99                                         Mitch Albom   \n",
       "7    Anne Frank, Eleanor Roosevelt, B.M. Mooyaart-D...   \n",
       "93                                       Emma Donoghue   \n",
       "3                                        J.D. Salinger   \n",
       "108                                        Ken Follett   \n",
       "18                                      John Steinbeck   \n",
       "15                                     William Golding   \n",
       "63                          Elie Wiesel, Marion Wiesel   \n",
       "303                                    Khaled Hosseini   \n",
       "218                                     Kristin Hannah   \n",
       "\n",
       "     original_publication_year  \\\n",
       "28                      2001.0   \n",
       "37                      2001.0   \n",
       "22                      2003.0   \n",
       "43                      2004.0   \n",
       "40                      2003.0   \n",
       "6                       1949.0   \n",
       "188                     2007.0   \n",
       "17                      2012.0   \n",
       "109                     2014.0   \n",
       "154                     2008.0   \n",
       "99                      2003.0   \n",
       "7                       1947.0   \n",
       "93                      2010.0   \n",
       "3                       1951.0   \n",
       "108                     1989.0   \n",
       "18                      1937.0   \n",
       "15                      1954.0   \n",
       "63                      1958.0   \n",
       "303                     2012.0   \n",
       "218                     2015.0   \n",
       "\n",
       "                                        original_title  ... ratings_count  \\\n",
       "28                                          Life of Pi  ...       1003228   \n",
       "37                             The Secret Life of Bees  ...        916189   \n",
       "22                            The Time Traveler's Wife  ...        746287   \n",
       "43                                  My Sister's Keeper  ...        863879   \n",
       "40   The Curious Incident of the Dog in the Night-Time  ...        867553   \n",
       "6                                 Nineteen Eighty-Four  ...       1956832   \n",
       "188                              Elle s'appelait Sarah  ...        312444   \n",
       "17                                           Gone Girl  ...        512475   \n",
       "109                                                NaN  ...        470001   \n",
       "154  The Guernsey Literary and Potato Peel Pie Society  ...        393626   \n",
       "99                  The Five People You Meet in Heaven  ...        449501   \n",
       "7    Het Achterhuis: Dagboekbrieven 14 juni 1942 - ...  ...       1972666   \n",
       "93                                                Room  ...        511360   \n",
       "3                               The Catcher in the Rye  ...       2044241   \n",
       "108                           The Pillars of the Earth  ...        462517   \n",
       "18                                    Of Mice and Men   ...       1467496   \n",
       "15                                  Lord of the Flies   ...       1605019   \n",
       "63                             Un di Velt Hot Geshvign  ...        691231   \n",
       "303                           And The Mountains Echoed  ...        199326   \n",
       "218                                    The Nightingale  ...        253606   \n",
       "\n",
       "    work_ratings_count  work_text_reviews_count  ratings_1  ratings_2  \\\n",
       "28             1077431                    42962      39768      74331   \n",
       "37              937393                    26522      17500      45455   \n",
       "22             1308667                    43382      44339      85429   \n",
       "43              887880                    30719      17547      42763   \n",
       "40              915790                    35796      21049      58117   \n",
       "6              2053394                    45518      41845      86425   \n",
       "188             347631                    26614       3865      12684   \n",
       "17             1626519                   121614      38874      80807   \n",
       "109             547827                    53413       6209      14527   \n",
       "154             423672                    39853       7190      17250   \n",
       "99              474699                    16682      12360      33669   \n",
       "7              2024493                    20825      45225      91270   \n",
       "93              556327                    42254      11020      26079   \n",
       "3              2120637                    44920     109383     185520   \n",
       "108             495893                    26283       9248      16886   \n",
       "18             1518741                    24642      46630     110856   \n",
       "15             1671484                    26886      92779     160295   \n",
       "63              707879                    22001       7761      18539   \n",
       "303             229116                    24084       2049       9146   \n",
       "218             327015                    37279       2829       4913   \n",
       "\n",
       "     ratings_3  ratings_4  ratings_5  \\\n",
       "28      218702     384164     360466   \n",
       "37      185631     347540     341267   \n",
       "22      257805     427210     493884   \n",
       "43      162573     314003     350994   \n",
       "40      218218     355925     262481   \n",
       "6       324874     692021     908229   \n",
       "188      55760     134748     140574   \n",
       "17      280331     616031     610476   \n",
       "109      61020     185239     280832   \n",
       "154      68942     155107     175183   \n",
       "99      107800     155830     165040   \n",
       "7       355756     656870     875372   \n",
       "93       99831     217995     201402   \n",
       "3       455042     661516     709176   \n",
       "108      57825     148052     263882   \n",
       "18      355169     532291     473795   \n",
       "15      425648     564916     427846   \n",
       "63       90575     230227     360777   \n",
       "303      45985      93953      77983   \n",
       "218      20612      82844     215817   \n",
       "\n",
       "                                             image_url  \\\n",
       "28   https://images.gr-assets.com/books/1320562005m...   \n",
       "37   https://images.gr-assets.com/books/1473454532m...   \n",
       "22   https://images.gr-assets.com/books/1437728815m...   \n",
       "43   https://images.gr-assets.com/books/1369504683m...   \n",
       "40   https://images.gr-assets.com/books/1479863624m...   \n",
       "6    https://images.gr-assets.com/books/1348990566m...   \n",
       "188  https://s.gr-assets.com/assets/nophoto/book/11...   \n",
       "17   https://images.gr-assets.com/books/1339602131m...   \n",
       "109  https://images.gr-assets.com/books/1451445646m...   \n",
       "154  https://images.gr-assets.com/books/1351979318m...   \n",
       "99   https://s.gr-assets.com/assets/nophoto/book/11...   \n",
       "7    https://images.gr-assets.com/books/1358276407m...   \n",
       "93   https://images.gr-assets.com/books/1344265419m...   \n",
       "3    https://images.gr-assets.com/books/1398034300m...   \n",
       "108  https://s.gr-assets.com/assets/nophoto/book/11...   \n",
       "18   https://images.gr-assets.com/books/1437235233m...   \n",
       "15   https://images.gr-assets.com/books/1327869409m...   \n",
       "63   https://images.gr-assets.com/books/1473495285m...   \n",
       "303  https://images.gr-assets.com/books/1358190204m...   \n",
       "218  https://images.gr-assets.com/books/1451446316m...   \n",
       "\n",
       "                                       small_image_url  \n",
       "28   https://images.gr-assets.com/books/1320562005s...  \n",
       "37   https://images.gr-assets.com/books/1473454532s...  \n",
       "22   https://images.gr-assets.com/books/1437728815s...  \n",
       "43   https://images.gr-assets.com/books/1369504683s...  \n",
       "40   https://images.gr-assets.com/books/1479863624s...  \n",
       "6    https://images.gr-assets.com/books/1348990566s...  \n",
       "188  https://s.gr-assets.com/assets/nophoto/book/50...  \n",
       "17   https://images.gr-assets.com/books/1339602131s...  \n",
       "109  https://images.gr-assets.com/books/1451445646s...  \n",
       "154  https://images.gr-assets.com/books/1351979318s...  \n",
       "99   https://s.gr-assets.com/assets/nophoto/book/50...  \n",
       "7    https://images.gr-assets.com/books/1358276407s...  \n",
       "93   https://images.gr-assets.com/books/1344265419s...  \n",
       "3    https://images.gr-assets.com/books/1398034300s...  \n",
       "108  https://s.gr-assets.com/assets/nophoto/book/50...  \n",
       "18   https://images.gr-assets.com/books/1437235233s...  \n",
       "15   https://images.gr-assets.com/books/1327869409s...  \n",
       "63   https://images.gr-assets.com/books/1473495285s...  \n",
       "303  https://images.gr-assets.com/books/1358190204s...  \n",
       "218  https://images.gr-assets.com/books/1451446316s...  \n",
       "\n",
       "[20 rows x 23 columns]"
      ]
     },
     "execution_count": 62,
     "metadata": {},
     "output_type": "execute_result"
    }
   ],
   "source": [
    "# Top 20 movies that User 1310 hopefully will enjoy\n",
    "predictions"
   ]
  },
  {
   "cell_type": "code",
   "execution_count": 63,
   "metadata": {},
   "outputs": [
    {
     "data": {
      "text/plain": [
       "28                                           Life of Pi\n",
       "37                              The Secret Life of Bees\n",
       "22                             The Time Traveler's Wife\n",
       "43                                   My Sister's Keeper\n",
       "40    The Curious Incident of the Dog in the Night-Time\n",
       "Name: title, dtype: object"
      ]
     },
     "execution_count": 63,
     "metadata": {},
     "output_type": "execute_result"
    }
   ],
   "source": [
    "predictions.title.head()"
   ]
  },
  {
   "cell_type": "markdown",
   "metadata": {},
   "source": [
    "- It's good to see that, although I didn't actually use the genre of the movie as a feature, the truncated matrix factorization features \"picked up\" on the underlying tastes and preferences of the user. \n",
    "- We've recommended some comedy, drama, and romance movies - all of which were genres of some of this user's top rated movies."
   ]
  },
  {
   "cell_type": "markdown",
   "metadata": {},
   "source": [
    "<a id=section403></a>"
   ]
  },
  {
   "cell_type": "markdown",
   "metadata": {},
   "source": [
    "### 4.3 Implementation using Surprise\n",
    "\n",
    "We will use the [Surprise](https://pypi.python.org/pypi/scikit-surprise) library that provided various ready-to-use powerful prediction algorithms including (SVD) to evaluate its RMSE (Root Mean Squared Error) on the MovieLens dataset. It is a Python scikit building and analyzing recommender systems."
   ]
  },
  {
   "cell_type": "code",
   "execution_count": 68,
   "metadata": {},
   "outputs": [],
   "source": [
    "# Import libraries from Surprise package\n",
    "from surprise import Reader, Dataset, SVD, evaluate\n",
    "\n",
    "# Load Reader library\n",
    "reader = Reader()\n",
    "\n",
    "# Load ratings dataset with Dataset library\n",
    "data = Dataset.load_from_df(ratings[['user_id', 'book_id', 'rating']], reader)\n",
    "\n",
    "# Split the dataset for 5-fold evaluation\n",
    "data.split(n_folds=2)"
   ]
  },
  {
   "cell_type": "code",
   "execution_count": 69,
   "metadata": {},
   "outputs": [],
   "source": [
    "from sklearn import model_selection"
   ]
  },
  {
   "cell_type": "code",
   "execution_count": 70,
   "metadata": {},
   "outputs": [
    {
     "name": "stderr",
     "output_type": "stream",
     "text": [
      "/anaconda3/lib/python3.7/site-packages/surprise/evaluate.py:66: UserWarning: The evaluate() method is deprecated. Please use model_selection.cross_validate() instead.\n",
      "  'model_selection.cross_validate() instead.', UserWarning)\n",
      "/anaconda3/lib/python3.7/site-packages/surprise/dataset.py:193: UserWarning: Using data.split() or using load_from_folds() without using a CV iterator is now deprecated. \n",
      "  UserWarning)\n"
     ]
    },
    {
     "name": "stdout",
     "output_type": "stream",
     "text": [
      "Evaluating RMSE of algorithm SVD.\n",
      "\n",
      "------------\n",
      "Fold 1\n",
      "RMSE: 0.8556\n",
      "------------\n",
      "Fold 2\n",
      "RMSE: 0.8561\n",
      "------------\n",
      "------------\n",
      "Mean RMSE: 0.8559\n",
      "------------\n",
      "------------\n"
     ]
    },
    {
     "data": {
      "text/plain": [
       "CaseInsensitiveDefaultDict(list,\n",
       "                           {'rmse': [0.8556135214818129, 0.8561268354033879]})"
      ]
     },
     "execution_count": 70,
     "metadata": {},
     "output_type": "execute_result"
    }
   ],
   "source": [
    "# Use the SVD algorithm.\n",
    "svd = SVD()\n",
    "\n",
    "# Compute the RMSE of the SVD algorithm.\n",
    "evaluate(svd, data, measures=['RMSE'])"
   ]
  },
  {
   "cell_type": "markdown",
   "metadata": {},
   "source": [
    "- Root Mean Square Error of 0.8559 which is pretty good. \n",
    "- Now train on the dataset and arrive at predictions."
   ]
  },
  {
   "cell_type": "code",
   "execution_count": 71,
   "metadata": {},
   "outputs": [
    {
     "name": "stderr",
     "output_type": "stream",
     "text": [
      "/anaconda3/lib/python3.7/site-packages/surprise/prediction_algorithms/algo_base.py:51: UserWarning: train() is deprecated. Use fit() instead\n",
      "  warnings.warn('train() is deprecated. Use fit() instead', UserWarning)\n"
     ]
    },
    {
     "data": {
      "text/plain": [
       "<surprise.prediction_algorithms.matrix_factorization.SVD at 0x1a20ab9a90>"
      ]
     },
     "execution_count": 71,
     "metadata": {},
     "output_type": "execute_result"
    }
   ],
   "source": [
    "trainset = data.build_full_trainset()\n",
    "svd.train(trainset)"
   ]
  },
  {
   "cell_type": "markdown",
   "metadata": {},
   "source": [
    "We'll pick again user with ID 1310 and check the ratings he has given."
   ]
  },
  {
   "cell_type": "code",
   "execution_count": 72,
   "metadata": {},
   "outputs": [
    {
     "data": {
      "text/html": [
       "<div>\n",
       "<style scoped>\n",
       "    .dataframe tbody tr th:only-of-type {\n",
       "        vertical-align: middle;\n",
       "    }\n",
       "\n",
       "    .dataframe tbody tr th {\n",
       "        vertical-align: top;\n",
       "    }\n",
       "\n",
       "    .dataframe thead th {\n",
       "        text-align: right;\n",
       "    }\n",
       "</style>\n",
       "<table border=\"1\" class=\"dataframe\">\n",
       "  <thead>\n",
       "    <tr style=\"text-align: right;\">\n",
       "      <th></th>\n",
       "      <th>user_id</th>\n",
       "      <th>book_id</th>\n",
       "      <th>rating</th>\n",
       "    </tr>\n",
       "  </thead>\n",
       "  <tbody>\n",
       "    <tr>\n",
       "      <th>381</th>\n",
       "      <td>28</td>\n",
       "      <td>3504</td>\n",
       "      <td>4</td>\n",
       "    </tr>\n",
       "    <tr>\n",
       "      <th>382</th>\n",
       "      <td>28</td>\n",
       "      <td>2615</td>\n",
       "      <td>5</td>\n",
       "    </tr>\n",
       "    <tr>\n",
       "      <th>5483</th>\n",
       "      <td>28</td>\n",
       "      <td>6195</td>\n",
       "      <td>3</td>\n",
       "    </tr>\n",
       "    <tr>\n",
       "      <th>6025</th>\n",
       "      <td>28</td>\n",
       "      <td>60</td>\n",
       "      <td>3</td>\n",
       "    </tr>\n",
       "    <tr>\n",
       "      <th>6026</th>\n",
       "      <td>28</td>\n",
       "      <td>26</td>\n",
       "      <td>2</td>\n",
       "    </tr>\n",
       "  </tbody>\n",
       "</table>\n",
       "</div>"
      ],
      "text/plain": [
       "      user_id  book_id  rating\n",
       "381        28     3504       4\n",
       "382        28     2615       5\n",
       "5483       28     6195       3\n",
       "6025       28       60       3\n",
       "6026       28       26       2"
      ]
     },
     "execution_count": 72,
     "metadata": {},
     "output_type": "execute_result"
    }
   ],
   "source": [
    "ratings[ratings['user_id'] == 28][:5]"
   ]
  },
  {
   "cell_type": "markdown",
   "metadata": {},
   "source": [
    "Now let's use SVD to predict the rating that User with ID 28 will give to a random books (let's say with Book ID 2615)."
   ]
  },
  {
   "cell_type": "code",
   "execution_count": 79,
   "metadata": {},
   "outputs": [
    {
     "data": {
      "text/plain": [
       "Prediction(uid=28, iid=2625, r_ui=None, est=4.317483577140633, details={'was_impossible': False})"
      ]
     },
     "execution_count": 79,
     "metadata": {},
     "output_type": "execute_result"
    }
   ],
   "source": [
    "svd.predict(28, 2625)"
   ]
  },
  {
   "cell_type": "markdown",
   "metadata": {},
   "source": [
    "For Book with ID 2615, I get an estimated prediction of 4.517. The recommender system works purely on the basis of an assigned book ID and tries to predict ratings based on how the other users have predicted the movie."
   ]
  },
  {
   "cell_type": "markdown",
   "metadata": {},
   "source": [
    "<a id=section5></a>"
   ]
  },
  {
   "cell_type": "markdown",
   "metadata": {},
   "source": [
    "<a id=section5></a>"
   ]
  },
  {
   "cell_type": "markdown",
   "metadata": {},
   "source": [
    "## Conclusion\n",
    "\n",
    "- Most products we use today are powered by recommendation engines. Youtube, Netflix, Amazon, Pinterest, and long list of other data products all rely on recommendation engines to filter millions of contents and make personalized recommendations to their users.\n",
    "\n",
    "- In generaly, recommender systems can be loosely broken down into three categories: content based systems, collaborative filtering systems, and hybrid systems (which use a combination of the other two).\n",
    "\n",
    "- Content based approach utilizes a series of discrete characteristics of an item in order to recommend additional items with similar properties.\n",
    "\n",
    "- Collaborative filtering based systems use the actions of users to recommend other items. \n",
    "- In general, they can either be user based or item based. \n",
    "    - Item-based approach is usually prefered than user-based approach. \n",
    "    - User-based approach is often harder to scale because of the dynamic nature of users, whereas items usually don't change much, so item-based approach often can be computed offline.\n",
    "\n",
    "- However, both item-based and user-based collaborative filtering still face following challenges:\n",
    "    - cold start\n",
    "    - data sparsity\n",
    "    - popular bias (how to recommend products from the tail of product distribution)\n",
    "    - scalability\n",
    "- To overcome above challenges, I will use Matrix Factorization to learn latent features and interaction between users and items"
   ]
  }
 ],
 "metadata": {
  "kernelspec": {
   "display_name": "Python 3",
   "language": "python",
   "name": "python3"
  },
  "language_info": {
   "codemirror_mode": {
    "name": "ipython",
    "version": 3
   },
   "file_extension": ".py",
   "mimetype": "text/x-python",
   "name": "python",
   "nbconvert_exporter": "python",
   "pygments_lexer": "ipython3",
   "version": "3.7.3"
  }
 },
 "nbformat": 4,
 "nbformat_minor": 2
}
